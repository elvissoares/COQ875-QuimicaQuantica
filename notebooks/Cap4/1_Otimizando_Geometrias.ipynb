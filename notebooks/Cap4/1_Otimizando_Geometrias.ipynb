{
 "cells": [
  {
   "cell_type": "markdown",
   "id": "ce65b547",
   "metadata": {},
   "source": [
    "# Otimizando Geometrias usando VASP e ASE\n",
    "\n",
    "Autor: [Prof. Elvis do A. Soares](https://github.com/elvissoares) \n",
    "\n",
    "Contato: [elvis@peq.coppe.ufrj.br](mailto:elvis@peq.coppe.ufrj.br) - [Programa de Engenharia Química, PEQ/COPPE, UFRJ, Brasil](https://www.peq.coppe.ufrj.br/)\n",
    "\n",
    "---"
   ]
  },
  {
   "cell_type": "markdown",
   "id": "b76df15e",
   "metadata": {},
   "source": [
    "Importando variáveis do VASP"
   ]
  },
  {
   "cell_type": "code",
   "execution_count": null,
   "id": "98140eb8",
   "metadata": {},
   "outputs": [],
   "source": [
    "import os\n",
    "# Definindo o path para os arquivos de potencial de pseudopotenciais do VASP\n",
    "# Certifique-se de que o caminho esteja correto para o seu sistema\n",
    "os.environ['VASP_PP_PATH'] = '/home/elvis/Programs/vasp-6.5.1/pp'\n",
    "os.environ['ASE_VASP_COMMAND'] = 'mpirun -np 1 vasp_std_gpu' # usando VASP com GPU\n",
    "# os.environ['ASE_VASP_COMMAND'] = 'mpirun -np 4 vasp_std_cpu' # usando VASP com CPU\n",
    "os.environ['NO_STOP_MESSAGE'] = '1' # to avoid warning from mpirun\n",
    "\n",
    "# Importando o VASP calculator do ASE\n",
    "from ase.calculators.vasp import Vasp"
   ]
  },
  {
   "cell_type": "code",
   "execution_count": null,
   "id": "1aba56d4",
   "metadata": {},
   "outputs": [],
   "source": [
    "import numpy as np\n",
    "import matplotlib.pyplot as plt\n",
    "\n",
    "from ase import Atoms, Atom\n",
    "from ase.build import molecule\n",
    "from ase.io import write, read\n",
    "from ase.visualize.plot import plot_atoms\n",
    "from ase.visualize import view"
   ]
  },
  {
   "cell_type": "markdown",
   "id": "d827e2cf",
   "metadata": {},
   "source": [
    "# Geometria de Moléculas"
   ]
  },
  {
   "cell_type": "markdown",
   "id": "80b92c6a",
   "metadata": {},
   "source": [
    "## Molécula de H2O\n",
    "\n",
    "\n",
    "Uma opção para gerar geometria da molécula"
   ]
  },
  {
   "cell_type": "code",
   "execution_count": null,
   "id": "cfcdd078",
   "metadata": {},
   "outputs": [],
   "source": [
    "h2omol = Atoms([Atom('O', [0, 0, 0]),\n",
    "                Atom('H', [0.0, -0.760265, 0.588373]),\n",
    "                Atom('H', [0.0, 0.760265, 0.588373])])\n",
    "h2omol.center(vacuum=4.0) # coloca dentro de uma caixa com 4 Angstroms de vácuo em todas as direções\n",
    "h2omol.pbc = True # periodic boundary conditions"
   ]
  },
  {
   "cell_type": "code",
   "execution_count": null,
   "id": "82df6774",
   "metadata": {},
   "outputs": [],
   "source": [
    "fig, ax = plt.subplots()\n",
    "plot_atoms(h2omol, ax, radii=0.3, rotation=('0x,90y,0z'))"
   ]
  },
  {
   "cell_type": "code",
   "execution_count": null,
   "id": "3d88c224",
   "metadata": {},
   "outputs": [],
   "source": [
    "view(h2omol, viewer='x3d')"
   ]
  },
  {
   "cell_type": "markdown",
   "id": "ccfdb334",
   "metadata": {},
   "source": [
    "Calculando comprimendo da ligação"
   ]
  },
  {
   "cell_type": "code",
   "execution_count": null,
   "id": "373fa091",
   "metadata": {},
   "outputs": [],
   "source": [
    "l = h2omol.get_distance(0, 2)\n",
    "\n",
    "print(f\"O comprimento da ligação O-H é {l:.3f} Å\")"
   ]
  },
  {
   "cell_type": "markdown",
   "id": "63018177",
   "metadata": {},
   "source": [
    "Calculando o ângulo da ligação"
   ]
  },
  {
   "cell_type": "code",
   "execution_count": null,
   "id": "5e3f3b7c",
   "metadata": {},
   "outputs": [],
   "source": [
    "theta = h2omol.get_angle(2, 0, 1)\n",
    "\n",
    "print(f\"O ângulo da ligação H-O-H é {theta:.3f} graus\")"
   ]
  },
  {
   "cell_type": "markdown",
   "id": "a6f8c318",
   "metadata": {},
   "source": [
    "ASE possui algumas moléculas já pré-definidas"
   ]
  },
  {
   "cell_type": "code",
   "execution_count": null,
   "id": "0c32e6a2",
   "metadata": {},
   "outputs": [],
   "source": [
    "h2omol = molecule('H2O')        # molécula\n",
    "h2omol.center(vacuum=4.0)       # ~8 Å box; 4 Å para cada lado, bom para isolar molécula\n",
    "h2omol.pbc = True               # aplica condição de contorno periódica"
   ]
  },
  {
   "cell_type": "code",
   "execution_count": null,
   "id": "c0270ea2",
   "metadata": {},
   "outputs": [],
   "source": [
    "view(h2omol, viewer='x3d')"
   ]
  },
  {
   "cell_type": "markdown",
   "id": "b2b86f83",
   "metadata": {},
   "source": [
    "Calculadora do VASP"
   ]
  },
  {
   "cell_type": "code",
   "execution_count": null,
   "id": "14790439",
   "metadata": {},
   "outputs": [],
   "source": [
    "calc = Vasp(xc='PBE',                                   # funcional\n",
    "            encut=350,                                  # safe default for PAW-PBE sets\n",
    "            kpts=[1, 1, 1],gamma=True,                  # Somente pontos Gamma em Fourier\n",
    "            ibrion=-1,                                  # Calcula sem atualizar posições atômicas\n",
    "            directory='moleculas/H2O'                   # pasta em que os cálculos serão armazenados\n",
    "        )"
   ]
  },
  {
   "cell_type": "code",
   "execution_count": null,
   "id": "6559f830",
   "metadata": {},
   "outputs": [],
   "source": [
    "h2omol.calc = calc"
   ]
  },
  {
   "cell_type": "code",
   "execution_count": null,
   "id": "34775b70",
   "metadata": {},
   "outputs": [],
   "source": [
    "E0 = h2omol.get_potential_energy()       \n",
    "\n",
    "print('Energia: {:.3f} eV'.format(E0))"
   ]
  },
  {
   "cell_type": "code",
   "execution_count": null,
   "id": "9a0ae0c7",
   "metadata": {},
   "outputs": [],
   "source": [
    "fig, ax = plt.subplots()\n",
    "plot_atoms(h2omol, ax, radii=0.3, rotation=('0x,90y,0z'))"
   ]
  },
  {
   "cell_type": "code",
   "execution_count": null,
   "id": "6d43b8e2",
   "metadata": {},
   "outputs": [],
   "source": [
    "print(\"Posições (Å):\\n\", h2omol.get_positions())"
   ]
  },
  {
   "cell_type": "code",
   "execution_count": null,
   "id": "e7d5e38f",
   "metadata": {},
   "outputs": [],
   "source": [
    "l = h2omol.get_distance(0, 1)\n",
    "\n",
    "print(f\"O comprimento da ligação O-H é {l:.3f} Å\")"
   ]
  },
  {
   "cell_type": "code",
   "execution_count": null,
   "id": "fbb9ac3a",
   "metadata": {},
   "outputs": [],
   "source": [
    "theta = h2omol.get_angle(2, 0, 1)\n",
    "\n",
    "print(f\"O ângulo da ligação H-O-H é {theta:.3f} graus\")"
   ]
  },
  {
   "cell_type": "markdown",
   "id": "e6e2c260",
   "metadata": {},
   "source": [
    "### Variando parâmetros do VASP"
   ]
  },
  {
   "cell_type": "markdown",
   "id": "3fd21e55",
   "metadata": {},
   "source": [
    "Checando a convergência com o tamanho da caixa"
   ]
  },
  {
   "cell_type": "code",
   "execution_count": null,
   "id": "80f3faf3",
   "metadata": {},
   "outputs": [],
   "source": [
    "Larray = np.array([6.0, 8.0, 10.0, 12.0, 14.0]) # tamanhos da caixa\n",
    "Earray = np.zeros(len(Larray))\n",
    "\n",
    "for i, L in enumerate(Larray):\n",
    "    h2omol.center(vacuum=L/2.0)    # box de tamanho L\n",
    "\n",
    "    calc = Vasp(xc='PBE',                                   # funcional\n",
    "                encut=350,                                  # safe default for PAW-PBE sets\n",
    "                kpts=[1, 1, 1],gamma=True,                  # Somente pontos Gamma em Fourier\n",
    "                ibrion=-1,                                  # Sem atualizar posições atômicas\n",
    "                directory=f'moleculas/H2O/L-{int(L)}',       # pasta em que os cálculos serão armazenados\n",
    "                atoms = h2omol                           \n",
    "            )\n",
    "\n",
    "    Earray[i] = h2omol.get_potential_energy()\n",
    "\n",
    "    print(f\"L = {L:.1f} Å, E = {Earray[i]:.3f} eV\")"
   ]
  },
  {
   "cell_type": "code",
   "execution_count": null,
   "id": "e8b9d6c2",
   "metadata": {},
   "outputs": [],
   "source": [
    "plt.plot(Larray, Earray, 'o-')\n",
    "plt.xlabel('Tamanho da caixa L (Å)')\n",
    "plt.ylabel('Energia total (eV)')\n",
    "plt.title('Convergência da energia da molécula de H2O com L')"
   ]
  },
  {
   "cell_type": "markdown",
   "id": "135a2c9c",
   "metadata": {},
   "source": [
    "Checando convergência com `ENCUT`\n",
    "\n",
    "`ENCUT` especifica o cutoff de energia para o conjunto de base de ondas planas em eV. Todas as ondas planas com energia cinética menor que $E_\\text{cut}$ serão incluídas no conjunto de base, i.e., \n",
    "\n",
    "$$|\\boldsymbol{G} + \\boldsymbol{k}| < G_\\text{cut} \\quad \\text{com} \\quad E_\\text{cut} = \\frac{\\hbar^2}{2m} G_\\text{cut}^2$$\n",
    "\n",
    "Ref: https://www.vasp.at/wiki/ENCUT"
   ]
  },
  {
   "cell_type": "code",
   "execution_count": null,
   "id": "1630fa66",
   "metadata": {},
   "outputs": [],
   "source": [
    "ENCUTarray = np.array([250,300,350,400,450,500]) # valores de ENCUT\n",
    "Earray = np.zeros(len(ENCUTarray))\n",
    "\n",
    "h2omol.center(vacuum=4.0)    # box de tamanho L\n",
    "\n",
    "for i, encut in enumerate(ENCUTarray):\n",
    "    \n",
    "    calc = Vasp(xc='PBE',                                   # funcional\n",
    "                encut=encut,                                # safe default for PAW-PBE sets\n",
    "                kpts=[1, 1, 1],gamma=True,                  # Somente pontos Gamma em Fourier\n",
    "                ibrion=-1,                                  # Sem atualizar posições atômicas\n",
    "                directory=f'moleculas/H2O/encut-{encut}',   # pasta em que os cálculos serão armazenados\n",
    "                atoms = h2omol                           \n",
    "            )\n",
    "\n",
    "    Earray[i] = h2omol.get_potential_energy()\n",
    "\n",
    "    print(f\"ENCUT = {encut:.1f} Å, E = {Earray[i]:.3f} eV\")"
   ]
  },
  {
   "cell_type": "code",
   "execution_count": null,
   "id": "d3e4a7a3",
   "metadata": {},
   "outputs": [],
   "source": [
    "plt.plot(ENCUTarray, Earray, 'o-')\n",
    "plt.xlabel('ENCUT (eV)')\n",
    "plt.ylabel('Energia total (eV)')\n",
    "plt.title('Convergência da energia da molécula de H2O com ENCUT')"
   ]
  },
  {
   "cell_type": "markdown",
   "id": "68a1c1a4",
   "metadata": {},
   "source": [
    "### Otimizando a geometria da molécula de H2O"
   ]
  },
  {
   "cell_type": "code",
   "execution_count": null,
   "id": "0a16495d",
   "metadata": {},
   "outputs": [],
   "source": [
    "THETAarray = np.array([90, 95, 100, 105, 110, 115, 120]) # valores de ângulos de ligação\n",
    "Earray = np.zeros(len(THETAarray))\n",
    "\n",
    "for i, theta in enumerate(THETAarray):\n",
    "    h2omol.set_angle(2, 0, 1, theta)  # fixa o oxigênio e altera o ângulo H-O-H\n",
    "\n",
    "    calc = Vasp(xc='PBE',                                   # funcional\n",
    "                encut=350,                                  # safe default for PAW-PBE sets\n",
    "                kpts=[1, 1, 1],gamma=True,                  # Somente pontos Gamma em Fourier\n",
    "                ibrion=-1,                                  # Sem atualizar posições atômicas\n",
    "                directory=f'moleculas/H2O/theta-{int(theta)}', # pasta em que os cálculos serão armazenados\n",
    "                atoms = h2omol                           \n",
    "            )\n",
    "\n",
    "    Earray[i] = h2omol.get_potential_energy()\n",
    "\n",
    "    print(f\"theta = {theta:.1f}°, E = {Earray[i]:.3f} eV\")"
   ]
  },
  {
   "cell_type": "code",
   "execution_count": null,
   "id": "4bcd60ac",
   "metadata": {},
   "outputs": [],
   "source": [
    "plt.plot(THETAarray, Earray, 'or')\n",
    "plt.xlabel('Ângulo de ligação H-O-H (°)')\n",
    "plt.ylabel('Energia (eV)')\n",
    "plt.title('Energia da molécula de H2O vs. ângulo de ligação')"
   ]
  },
  {
   "cell_type": "markdown",
   "id": "c6536d20",
   "metadata": {},
   "source": [
    "Fitting parabólico"
   ]
  },
  {
   "cell_type": "code",
   "execution_count": null,
   "id": "5b640a63",
   "metadata": {},
   "outputs": [],
   "source": [
    "z = np.polyfit(THETAarray, Earray, 2)\n",
    "\n",
    "print(z)\n",
    "\n",
    "p = np.poly1d(z)"
   ]
  },
  {
   "cell_type": "code",
   "execution_count": null,
   "id": "99b2ed56",
   "metadata": {},
   "outputs": [],
   "source": [
    "thetarray = np.arange(THETAarray[0], THETAarray[-1]+0., 0.1)\n",
    "\n",
    "plt.plot(thetarray, p(thetarray), '-', label='Fitting parabólico')\n",
    "\n",
    "\n",
    "plt.plot(THETAarray, Earray, 'or')\n",
    "plt.xlabel('Ângulo de ligação H-O-H (°)')\n",
    "plt.ylabel('Energia (eV)')\n",
    "plt.title('Energia da molécula de H2O vs. ângulo de ligação')"
   ]
  },
  {
   "cell_type": "markdown",
   "id": "3fa477e2",
   "metadata": {},
   "source": [
    "### Forças nos núcleos atômicos\n",
    "\n",
    "Sendo a energia total de uma molécula dada por $E[\\rho(\\boldsymbol{r})]$ calculada a partir do DFT por \n",
    "$$E[\\rho(\\boldsymbol{r})]= E_{HK}[\\rho(\\boldsymbol{r})] - \\sum_{A=1}^M \\int \\frac{Z_A}{|\\boldsymbol{r}-\\boldsymbol{R_A}|} \\rho(\\boldsymbol{r})\\ \\text{d} \\boldsymbol{r} + \\frac{1}{2}\\sum_{A=1}^M \\sum_{B\\neq A}^M \\frac{Z_A Z_B}{|\\boldsymbol{R}_B-\\boldsymbol{R_A}|} $$\n",
    "de tal forma que a força experimentada por um núcleo $C$ seja dada por \n",
    "$$\\boldsymbol{F}_C = -\\frac{\\partial E}{\\partial \\boldsymbol{R}_C}$$\n",
    "que é uma consequência do **teorema de Hellmann-Feynman**. Usando o DFT podemos calcular essa força a partir de \n",
    "$$ \\frac{\\partial E}{\\partial \\boldsymbol{R}_C}=\\frac{\\partial }{\\partial \\boldsymbol{R}_C}\\left[- \\sum_{A=1}^M \\int \\frac{Z_A}{|\\boldsymbol{r}-\\boldsymbol{R_A}|} \\rho(\\boldsymbol{r})\\ \\text{d} \\boldsymbol{r} + \\frac{1}{2}\\sum_{A=1}^M \\sum_{B\\neq A}^M \\frac{Z_A Z_B}{|\\boldsymbol{R}_B-\\boldsymbol{R_A}|} \\right]$$\n",
    "de modo que a força experimentada pelos núcleos atômicos é proporcional ao campo elétrico gerado pelos elétrons e pelos demais núcleos. Com isso, chegamos a \n",
    "$$ \\frac{\\partial E}{\\partial \\boldsymbol{R}_C}=- \\int \\frac{Z_C (\\boldsymbol{r}-\\boldsymbol{R_C})}{|\\boldsymbol{r}-\\boldsymbol{R_C}|^3} \\rho(\\boldsymbol{r})\\ \\text{d} \\boldsymbol{r} + \\sum_{A\\neq C}^M \\frac{Z_A Z_C (\\boldsymbol{R}_A-\\boldsymbol{R_C})}{|\\boldsymbol{R}_A-\\boldsymbol{R_C}|^3} $$\n"
   ]
  },
  {
   "cell_type": "markdown",
   "id": "012fb57a",
   "metadata": {},
   "source": [
    "No VASP, os métodos de otimização de estrutura são definidos por \n",
    "- `ibrion=-1` Não atualiza a posição dos núcleos\n",
    "- `ibrion=1` RMM-DIIS (combinação linear das posições anteriores, mais rapidos)\n",
    "- `ibrion=2` conjugate gradient (mais robusto)\n",
    "- `ibrion=3` damped molecular dynamics (MD com velocidade diminuindo, para sistemas grandes e longe do equilíbrio)\n",
    "\n",
    "REF: https://www.vasp.at/wiki/Structure_optimization"
   ]
  },
  {
   "cell_type": "code",
   "execution_count": null,
   "id": "00b812e3",
   "metadata": {},
   "outputs": [],
   "source": [
    "h2omol = molecule('H2O')        # molécula\n",
    "h2omol.center(vacuum=4.0)      # ~8 Å box; 4 Å para cada lado, bom para isolar molécula\n",
    "h2omol.pbc = True               # aplica condição de contorno periódica"
   ]
  },
  {
   "cell_type": "code",
   "execution_count": null,
   "id": "fbdeb917",
   "metadata": {},
   "outputs": [],
   "source": [
    "calc = Vasp(directory='moleculas/H2O/relaxed',\n",
    "            xc='PBE',                                   # funcional\n",
    "            encut=350,                                  # safe default for PAW-PBE sets\n",
    "            kpts=[1, 1, 1],gamma=True,                  # k-points\n",
    "            ismear=0, sigma=0.05,                       # Gaussian smearing for molecules\n",
    "            ediff=1e-6, ediffg=-0.02,                   # SCF and force criteria (~0.02 eV/Å)\n",
    "            ibrion=2, isif=0, nsw=150,                  # CG ionic relax; fixed cell\n",
    "            lreal='Auto',\n",
    "            lwave=True, lcharg=True,lvtot=True,  # keep WAVECAR/CHGCAR/LOCPOT for post-processing\n",
    "            atoms=h2omol)"
   ]
  },
  {
   "cell_type": "code",
   "execution_count": null,
   "id": "9049bf17",
   "metadata": {},
   "outputs": [],
   "source": [
    "E_relax = h2omol.get_potential_energy()       \n",
    "\n",
    "print('Energia: {:.3f} eV'.format(E_relax))"
   ]
  },
  {
   "cell_type": "code",
   "execution_count": null,
   "id": "7b87af6f",
   "metadata": {},
   "outputs": [],
   "source": [
    "view(h2omol, viewer='x3d')"
   ]
  },
  {
   "cell_type": "markdown",
   "id": "5d4e94ef",
   "metadata": {},
   "source": [
    "Exportando geometria otimizada"
   ]
  },
  {
   "cell_type": "code",
   "execution_count": null,
   "id": "4596cf9d",
   "metadata": {},
   "outputs": [],
   "source": [
    "write('H2O_relaxed.pdb', h2omol)"
   ]
  },
  {
   "cell_type": "code",
   "execution_count": null,
   "id": "ed5d21b0",
   "metadata": {},
   "outputs": [],
   "source": [
    "print(\"Número de passos executados:\", calc.get_number_of_iterations())"
   ]
  },
  {
   "cell_type": "code",
   "execution_count": null,
   "id": "ecd15be5",
   "metadata": {},
   "outputs": [],
   "source": [
    "print(\"Forças em ev/A\")\n",
    "print(\"=======\")\n",
    "print(h2omol.get_forces())"
   ]
  },
  {
   "cell_type": "code",
   "execution_count": null,
   "id": "ef829d0e",
   "metadata": {},
   "outputs": [],
   "source": [
    "l = h2omol.get_distance(0, 1)\n",
    "\n",
    "print(f\"O comprimento da ligação O-H é {l:.3f} Å\")"
   ]
  },
  {
   "cell_type": "code",
   "execution_count": null,
   "id": "0f4ed7d5",
   "metadata": {},
   "outputs": [],
   "source": [
    "theta = h2omol.get_angle(2, 0, 1)\n",
    "\n",
    "print(f\"O ângulo da ligação H-O-H é {theta:.3f} graus\")"
   ]
  },
  {
   "cell_type": "markdown",
   "id": "6f2bcb4d",
   "metadata": {},
   "source": [
    "### Analisando Orbitais Moleculares"
   ]
  },
  {
   "cell_type": "markdown",
   "id": "db5735df",
   "metadata": {},
   "source": [
    "Determinando as energias dos orbitais moleculares"
   ]
  },
  {
   "cell_type": "code",
   "execution_count": null,
   "id": "7710e573",
   "metadata": {},
   "outputs": [],
   "source": [
    "calc.get_eigenvalues()"
   ]
  },
  {
   "cell_type": "markdown",
   "id": "bf924b6e",
   "metadata": {},
   "source": [
    "Determinando as ocupações"
   ]
  },
  {
   "cell_type": "code",
   "execution_count": null,
   "id": "6ef25f0f",
   "metadata": {},
   "outputs": [],
   "source": [
    "calc.get_occupation_numbers()"
   ]
  },
  {
   "cell_type": "markdown",
   "id": "428573bc",
   "metadata": {},
   "source": [
    "Determinando as energias dos orbitais HOMO e LUMO"
   ]
  },
  {
   "cell_type": "code",
   "execution_count": null,
   "id": "53b5633d",
   "metadata": {},
   "outputs": [],
   "source": [
    "homo, lumo = calc.get_homo_lumo()\n",
    "\n",
    "print(f\"Lumo: {lumo:.3f} eV\")\n",
    "print(f\"Homo: {homo:.3f} eV\")\n",
    "print('----------')\n",
    "print(f\"Diferença: {lumo-homo:.3f} eV\")"
   ]
  },
  {
   "cell_type": "code",
   "execution_count": null,
   "id": "b6c42899",
   "metadata": {},
   "outputs": [],
   "source": [
    "gap = (lumo - homo)\n",
    "\n",
    "# Eigenvalues and occupations (Kohn–Sham levels)\n",
    "eigs = np.array(calc.get_eigenvalues())\n",
    "occ  = np.array(calc.get_occupation_numbers())\n",
    "\n",
    "# Sort for a clean plot\n",
    "order = np.argsort(eigs)\n",
    "eigs, occ = eigs[order], occ[order]\n",
    "\n",
    "# Split occupied / unoccupied\n",
    "occ_mask = occ > 0.5\n",
    "E_occ = eigs[occ_mask]\n",
    "E_unocc = eigs[~occ_mask]\n",
    "\n",
    "# --- plotting (single chart, no explicit colors) ---\n",
    "plt.figure(figsize=(3, 3.2), dpi=140)\n",
    "\n",
    "# Sticks for occupied and unoccupied states\n",
    "for E in E_occ:\n",
    "    plt.plot([0, 0.6], [E, E],color='C0')\n",
    "for E in E_unocc:\n",
    "    plt.plot([0.7, 1.3], [E, E],color='grey')\n",
    "\n",
    "# Highlight HOMO / LUMO\n",
    "plt.plot([0, 1.3],[homo, homo],color='red', linewidth=2)\n",
    "plt.plot([0, 1.3],[lumo, lumo],color='red', linewidth=2)\n",
    "\n",
    "# Annotate\n",
    "plt.text(1.6,homo-1, 'HOMO', ha='center', va='bottom', fontsize=9)\n",
    "plt.text(1.6, lumo-1, 'LUMO', ha='center', va='bottom', fontsize=9)\n",
    "plt.title(f'HOMO-LUMO gap = {gap:.3f} eV')\n",
    "\n",
    "plt.ylabel('Energia (eV)')\n",
    "plt.xticks([])          # hide y-axis (pure spectrum)\n",
    "plt.ylim(min(eigs)-1, max(eigs)+1)\n",
    "plt.grid(True, axis='y', linestyle=':', linewidth=0.7)\n",
    "plt.tight_layout()\n",
    "\n",
    "print(f\"HOMO = {homo:.3f} eV, LUMO = {lumo:.3f} eV, GAP = {gap:.3f} eV\")"
   ]
  },
  {
   "cell_type": "code",
   "execution_count": null,
   "id": "805481dc",
   "metadata": {},
   "outputs": [],
   "source": [
    "print(f'Comprimento de onda da radiação pro gap é de {1239.8/gap:.3f} nm')"
   ]
  },
  {
   "cell_type": "markdown",
   "id": "feb6fb94",
   "metadata": {},
   "source": [
    "### Adicionando interação de van der Waals\n",
    "\n",
    "$$E_\\text{DFT+vDW} = E_\\text{KS} - \\frac{1}{2}\\sum_{A=1}^M \\sum_{B \\neq A}^M \\frac{C_{AB}}{|\\boldsymbol{R}_A-\\boldsymbol{R}_B|^6}$$\n",
    "\n",
    "com $C_{AB} = (C_A C_B)^{1/2}$ é o coeficiente de dispersão calculado pela fórmula de Casimir-Polder\n",
    "\n",
    "$$C_{AB} = \\frac{3}{\\pi}\\int_0^\\infty \\alpha_A(i \\omega ) \\alpha_B (i \\omega)\\ \\text{d}\\omega$$\n",
    "\n",
    "com $\\alpha_i$ sendo a polarizabilidade do átomo $i$. "
   ]
  },
  {
   "cell_type": "markdown",
   "id": "1975d54f",
   "metadata": {},
   "source": [
    "No VASP, basta fazer `ivdw=12` no `calc` afim de utilizar a correção de Becke-Johnson (BJ)\n",
    "\n",
    "REF: https://www.vasp.at/wiki/index.php/DFT-D3"
   ]
  },
  {
   "cell_type": "code",
   "execution_count": null,
   "id": "1b620172",
   "metadata": {},
   "outputs": [],
   "source": [
    "calc_vdw = Vasp(directory=\"moleculas/H2O/vdw\",\n",
    "            xc=\"PBE\",\n",
    "            encut=350,\n",
    "            kpts=[1, 1, 1],gamma=True,\n",
    "            ismear=0, sigma=0.05,     # Gaussian smearing for molecules\n",
    "            ediff=1e-6, ediffg=-0.02, # SCF and force criteria (~0.02 eV/Å)\n",
    "            ibrion=2, isif=2, nsw=150,# CG ionic relax; fixed cell\n",
    "            ivdw=12,                  # D3(BJ) dispersion (recommended for molecules)\n",
    "            lreal='Auto',\n",
    "            lwave=True, lcharg=True,lvtot=True,  # keep WAVECAR/CHGCAR/LOCPOT for post-processing\n",
    "            atoms=h2omol)"
   ]
  },
  {
   "cell_type": "code",
   "execution_count": null,
   "id": "405f0797",
   "metadata": {},
   "outputs": [],
   "source": [
    "E_vdw = h2omol.get_potential_energy()   \n",
    "\n",
    "print('Energia com correção de vdW: {:.3f} eV'.format(E_vdw))"
   ]
  },
  {
   "cell_type": "code",
   "execution_count": null,
   "id": "464955b1",
   "metadata": {},
   "outputs": [],
   "source": [
    "print(E_vdw-E_relax, ' eV')"
   ]
  },
  {
   "cell_type": "code",
   "execution_count": null,
   "id": "b9ae996c",
   "metadata": {},
   "outputs": [],
   "source": [
    "homo, lumo = calc_vdw.get_homo_lumo()\n",
    "\n",
    "gap = lumo-homo\n",
    "\n",
    "print(f\"Lumo: {lumo:.3f} eV\")\n",
    "print(f\"Homo: {homo:.3f} eV\")\n",
    "print('----------')\n",
    "print(f\"Diferença: {gap:.3f} eV\")"
   ]
  },
  {
   "cell_type": "code",
   "execution_count": null,
   "id": "853c6509",
   "metadata": {},
   "outputs": [],
   "source": [
    "print(f'Comprimento de onda da radiação pro gap é de {1239.8/gap:.3f} nm')"
   ]
  },
  {
   "cell_type": "markdown",
   "id": "66b06ded",
   "metadata": {},
   "source": [
    "## Molécula de Ciclopentano"
   ]
  },
  {
   "cell_type": "code",
   "execution_count": null,
   "id": "e51d2b0e",
   "metadata": {},
   "outputs": [],
   "source": [
    "# Lendo arquivo XYZ\n",
    "Ciclopent_molecule = read('structures/ciclopentane.xyz') \n",
    "Ciclopent_molecule.center(vacuum=4.0) \n",
    "Ciclopent_molecule.pbc = True \n",
    "\n",
    "# See basic info\n",
    "print(Ciclopent_molecule)\n",
    "print('Número de átomos:', len(Ciclopent_molecule))\n",
    "print(\"Cell:\", Ciclopent_molecule.get_cell())"
   ]
  },
  {
   "cell_type": "code",
   "execution_count": null,
   "id": "f7f684a3",
   "metadata": {},
   "outputs": [],
   "source": [
    "view(Ciclopent_molecule, viewer='x3d')"
   ]
  },
  {
   "cell_type": "code",
   "execution_count": null,
   "id": "0c92dc1a",
   "metadata": {},
   "outputs": [],
   "source": [
    "calc = Vasp(\n",
    "            directory='moleculas/ciclopentano/relaxed',\n",
    "            xc='PBE',\n",
    "            encut=520,                          # safe PAW-PBE default\n",
    "            kpts=[1, 1, 1], gamma=True,\n",
    "            ismear=0, sigma=0.05,               # Gaussian smearing for molecules\n",
    "            ediff=1e-6, ediffg=-0.02,           # SCF and force criteria (~0.02 eV/Å)\n",
    "            ibrion=2, isif=0, nsw=150,          # CG ionic relax; fixed cell\n",
    "            lreal='Auto',\n",
    "            lwave=True, lcharg=True,lvtot=True,  # keep WAVECAR/CHGCAR/LOCPOT for post-processing\n",
    "            # Optional dipole correction (often helpful for isolated polar molecules):\n",
    "            # ldipol=True, idipol=3\n",
    "            atoms=Ciclopent_molecule\n",
    "        )"
   ]
  },
  {
   "cell_type": "code",
   "execution_count": null,
   "id": "59255736",
   "metadata": {},
   "outputs": [],
   "source": [
    "E_relax = Ciclopent_molecule.get_potential_energy()       \n",
    "\n",
    "print('Energia: {:.3f} eV'.format(E_relax))"
   ]
  },
  {
   "cell_type": "markdown",
   "id": "7f750a1f",
   "metadata": {},
   "source": [
    "Exportando geometria otimizada"
   ]
  },
  {
   "cell_type": "code",
   "execution_count": null,
   "id": "5e9744f8",
   "metadata": {},
   "outputs": [],
   "source": [
    "write('ciclopentano_relaxed.pdb', Ciclopent_molecule)"
   ]
  },
  {
   "cell_type": "code",
   "execution_count": null,
   "id": "0dd7f27d",
   "metadata": {},
   "outputs": [],
   "source": [
    "calc_vdw = Vasp(\n",
    "            directory='moleculas/ciclopentano/vdw',\n",
    "            xc='PBE',\n",
    "            encut=520,                # safe PAW-PBE default\n",
    "            kpts=[1, 1, 1], gamma=True,\n",
    "            ismear=0, sigma=0.05,     # Gaussian smearing for molecules\n",
    "            ediff=1e-6, ediffg=-0.02, # SCF and force criteria (~0.02 eV/Å)\n",
    "            ibrion=2, isif=0, nsw=150,# CG ionic relax; fixed cell\n",
    "            ivdw=12,                  # D3(BJ) dispersion (recommended for molecules)\n",
    "            lreal='Auto',\n",
    "            lwave=True, lcharg=True,lvtot=True,  # keep WAVECAR/CHGCAR/LOCPOT for post-processing\n",
    "            # Optional dipole correction (often helpful for isolated polar molecules):\n",
    "            # ldipol=True, idipol=3\n",
    "            atoms=Ciclopent_molecule\n",
    "        )"
   ]
  },
  {
   "cell_type": "code",
   "execution_count": null,
   "id": "0af737da",
   "metadata": {},
   "outputs": [],
   "source": [
    "E_vdw = Ciclopent_molecule.get_potential_energy()   \n",
    "\n",
    "print('Energia com correção de vdW: {:.3f} eV'.format(E_vdw))"
   ]
  },
  {
   "cell_type": "code",
   "execution_count": null,
   "id": "33ee4925",
   "metadata": {},
   "outputs": [],
   "source": [
    "print(E_vdw-E_relax, ' eV')"
   ]
  },
  {
   "cell_type": "markdown",
   "id": "0f6d32f3",
   "metadata": {},
   "source": [
    "---\n",
    "\n",
    "# Geometria de Sólidos"
   ]
  },
  {
   "cell_type": "markdown",
   "id": "bd90ee0d",
   "metadata": {},
   "source": [
    "## Cristal de Cu"
   ]
  },
  {
   "cell_type": "markdown",
   "id": "dcce4c3e",
   "metadata": {},
   "source": [
    "Criando a partir dos vetores da base do FCC"
   ]
  },
  {
   "cell_type": "code",
   "execution_count": null,
   "id": "f4193e9d",
   "metadata": {},
   "outputs": [],
   "source": [
    "a = 2.53\n",
    "Cu_crystal = Atoms([Atom(\"Cu\", (0, 0, 0))],\n",
    "                cell=0.5 * a * np.array([[1.0, 1.0, 0.0],\n",
    "                [0.0, 1.0, 1.0],\n",
    "                [1.0, 0.0, 1.0]]), pbc=True)\n",
    "\n",
    "print(Cu_crystal)\n",
    "print(\"Cell:\", Cu_crystal.get_cell())\n",
    "print(\"Positions:\\n\", Cu_crystal.get_positions())"
   ]
  },
  {
   "cell_type": "code",
   "execution_count": null,
   "id": "0d4410d4",
   "metadata": {},
   "outputs": [],
   "source": [
    "view(Cu_crystal, viewer='x3d')"
   ]
  },
  {
   "cell_type": "markdown",
   "id": "0e4a07d5",
   "metadata": {},
   "source": [
    "Criando a partir de arquivo CIF\n",
    "\n",
    "Ref: https://legacy.materialsproject.org/materials/mp-30/"
   ]
  },
  {
   "cell_type": "code",
   "execution_count": null,
   "id": "ae5e3eb8",
   "metadata": {},
   "outputs": [],
   "source": [
    "# Lendo arquivo CIF\n",
    "Cu_crystal = read('structures/Cu.cif') # célula convencional\n",
    "\n",
    "# See basic info\n",
    "print(Cu_crystal)\n",
    "print(\"Cell:\", Cu_crystal.get_cell())\n",
    "print(\"Positions:\\n\", Cu_crystal.get_positions())\n",
    "\n",
    "Cu_crystal.get_number_of_atoms()"
   ]
  },
  {
   "cell_type": "code",
   "execution_count": null,
   "id": "2608161f",
   "metadata": {},
   "outputs": [],
   "source": [
    "view(Cu_crystal, viewer='x3d')"
   ]
  },
  {
   "cell_type": "code",
   "execution_count": null,
   "id": "dc80af1a",
   "metadata": {},
   "outputs": [],
   "source": [
    "calc = Vasp(directory='solidos/Cu',\n",
    "                xc='PBE',\n",
    "                kpts=[6, 6, 6],  # specifies k-points\n",
    "                encut=350,\n",
    "                atoms = Cu_crystal)"
   ]
  },
  {
   "cell_type": "code",
   "execution_count": null,
   "id": "0183b3fc",
   "metadata": {},
   "outputs": [],
   "source": [
    "E_Cu = Cu_crystal.get_potential_energy()\n",
    "\n",
    "print(f'Energia total do cristal de Cu: {E_Cu:.3f} eV')"
   ]
  },
  {
   "cell_type": "code",
   "execution_count": null,
   "id": "2f0e07ff",
   "metadata": {},
   "outputs": [],
   "source": [
    "E_per_Cu = E_Cu / len(Cu_crystal)\n",
    "\n",
    "print(f'Energia por átomo de Cu {E_per_Cu:.3f} eV')"
   ]
  },
  {
   "cell_type": "markdown",
   "id": "1dfe122b",
   "metadata": {},
   "source": [
    "### Otimizando parâmetros do VASP"
   ]
  },
  {
   "cell_type": "markdown",
   "id": "c0d5e6ab",
   "metadata": {},
   "source": [
    "Variando número de `kpoints`"
   ]
  },
  {
   "cell_type": "code",
   "execution_count": null,
   "id": "10797468",
   "metadata": {},
   "outputs": [],
   "source": [
    "KPTSarray = [2, 3, 4, 5, 6, 8, 10] # valores de k-points\n",
    "Earray = np.zeros(len(KPTSarray))\n",
    "\n",
    "for i, k in enumerate(KPTSarray):\n",
    "    \n",
    "    calc = Vasp(directory='solidos/Cu/kpoints-{0}'.format(k),\n",
    "                xc='PBE',\n",
    "                kpts=[k, k, k],  # specifies k-points\n",
    "                encut=350,\n",
    "                ibrion=-1,                                  # Sem atualizar posições atômicas\n",
    "                atoms=Cu_crystal)\n",
    "\n",
    "    Earray[i] = Cu_crystal.get_potential_energy()\n",
    "\n",
    "    print(f\"KPOINTS = {k:.1f}, E = {Earray[i]:.3f} eV\")"
   ]
  },
  {
   "cell_type": "code",
   "execution_count": null,
   "id": "f6e9bae8",
   "metadata": {},
   "outputs": [],
   "source": [
    "plt.plot(KPTSarray, Earray, 'o-')\n",
    "plt.xlabel('Número de k-points em cada direção')\n",
    "plt.ylabel('Energia (eV)')\n",
    "# plt.ylim(-15,-14.8)"
   ]
  },
  {
   "cell_type": "markdown",
   "id": "a07d3225",
   "metadata": {},
   "source": [
    "Variando o parâmetro `encut`"
   ]
  },
  {
   "cell_type": "code",
   "execution_count": null,
   "id": "73347655",
   "metadata": {},
   "outputs": [],
   "source": [
    "ENCUTarray = np.array([250,300,350,400,450,500]) # valores de ENCUT\n",
    "Earray = np.zeros(len(ENCUTarray))\n",
    "\n",
    "for i, encut in enumerate(ENCUTarray):\n",
    "    \n",
    "    calc = Vasp(directory='solidos/Cu/encut-{0}'.format(encut),\n",
    "                xc='PBE',\n",
    "                kpts=[6, 6, 6],                        \n",
    "                encut=encut,\n",
    "                ibrion=-1,                                  # Sem atualizar posições atômicas\n",
    "                atoms=Cu_crystal)\n",
    "\n",
    "    Earray[i] = Cu_crystal.get_potential_energy()\n",
    "\n",
    "    print(f\"ENCUT = {encut:.1f} Å, E = {Earray[i]:.3f} eV\")"
   ]
  },
  {
   "cell_type": "code",
   "execution_count": null,
   "id": "aa2cdf74",
   "metadata": {},
   "outputs": [],
   "source": [
    "plt.plot(ENCUTarray, Earray,'o-')\n",
    "plt.xlabel('ENCUT (eV)')\n",
    "plt.ylabel('Energia (eV)')"
   ]
  },
  {
   "cell_type": "markdown",
   "id": "e8ed29f7",
   "metadata": {},
   "source": [
    "### Otimizando o tamanho da célula cristalina"
   ]
  },
  {
   "cell_type": "code",
   "execution_count": null,
   "id": "226ee49f",
   "metadata": {},
   "outputs": [],
   "source": [
    "Cu_crystal.get_cell()"
   ]
  },
  {
   "cell_type": "code",
   "execution_count": null,
   "id": "2ea3cc39",
   "metadata": {},
   "outputs": [],
   "source": [
    "a_cell = np.array([ 3.2, 3.4, 3.6, 3.8, 4.0,4.2]) # valores em Angstrons\n",
    "E_total = np.zeros_like(a_cell)\n",
    "\n",
    "for i, a in enumerate(a_cell):\n",
    "    Cu_crystal.set_cell([a, a, a], scale_atoms=True)\n",
    "\n",
    "    calc = Vasp(directory='solidos/Cu/a-{:.1f}'.format(a),\n",
    "                xc='PBE',\n",
    "                kpts=[6, 6, 6],  # specifies k-points\n",
    "                encut=350,\n",
    "                atoms = Cu_crystal)\n",
    "    \n",
    "    E = Cu_crystal.get_potential_energy()\n",
    "    E_total[i] = E\n",
    "    print(f'a = {a: .2f} Å  -->  E = {E: .6f} eV')"
   ]
  },
  {
   "cell_type": "code",
   "execution_count": null,
   "id": "1015a1ff",
   "metadata": {},
   "outputs": [],
   "source": [
    "plt.plot(a_cell, E_total, 'or')\n",
    "plt.xlabel('a (Å)')\n",
    "plt.ylabel('Energia (eV)')\n",
    "plt.title('Energia do Cristal de Cu vs. Parâmetro de Rede a')"
   ]
  },
  {
   "cell_type": "markdown",
   "id": "817fbc45",
   "metadata": {},
   "source": [
    "Fitting de polinômio quadrático"
   ]
  },
  {
   "cell_type": "code",
   "execution_count": null,
   "id": "1ef3aec5",
   "metadata": {},
   "outputs": [],
   "source": [
    "z = np.polyfit(a_cell, E_total, 2)\n",
    "p = np.poly1d(z)"
   ]
  },
  {
   "cell_type": "markdown",
   "id": "64442645",
   "metadata": {},
   "source": [
    "#### Equação de Estado de Murnaghan\n",
    "\n",
    "$$E(V) = E_0 + \\frac{B_0 V}{B_0'}\\left[\\frac{(V_0/V)^{B_0'}}{B_0'-1}+1 \\right] - \\frac{B_0 V}{B_0'-1}$$\n",
    "\n",
    "com \n",
    "- $V$: volume da célula unitária\n",
    "- $V_0$: volume da célula unitária com energia mínima\n",
    "- $B_0$: módulo de compressibilidade $B_0 = - V (\\partial P /\\partial V)_T$.\n",
    "- $B_0'$: derivada do módulo de compressibilidade com a pressão\n",
    "\n",
    "*Ref:* C. L. Fu and K. M. Ho. First-principles calculation of the equilibrium ground-state properties of transition metals: Applications to Nb and Mo. Phys. Rev. B, 28:5480–5486, Nov 1983. doi: [10.1103/PhysRevB.28.5480](http://link.aps.org/doi/10.1103/PhysRevB.28.5480)."
   ]
  },
  {
   "cell_type": "code",
   "execution_count": null,
   "id": "4e8cfd0f",
   "metadata": {},
   "outputs": [],
   "source": [
    "def Murnaghan(a, a0, E0, B0, BP):\n",
    "    vol = a**3\n",
    "    V0 = a0**3\n",
    "    return E0 + (B0*vol/BP)*(((V0/vol)**BP)/(BP-1)+1) - V0*B0/(BP-1)\n",
    "\n",
    "\n",
    "from scipy.optimize import curve_fit\n",
    "\n",
    "popt, pcov = curve_fit(Murnaghan, a_cell, E_total, p0=[a_cell[E_total.argmin()],E_total.min(),0.0,2.0])\n",
    "\n",
    "a0 = popt[0]\n",
    "E0 = popt[1]\n",
    "B0 = popt[2]\n",
    "BP = popt[3]\n",
    "\n",
    "print(f'Fitted parameters: a0={a0:.4f} Å, E0={E0:.4f} eV, B0={B0:.4f} eV/Å³, BP={BP:.4f}')"
   ]
  },
  {
   "cell_type": "code",
   "execution_count": null,
   "id": "0c5eb820",
   "metadata": {},
   "outputs": [],
   "source": [
    "a_array = np.arange(a_cell[0], a_cell[-1]+0.01, 0.01)\n",
    "\n",
    "plt.plot(a_cell, E_total, 'or')\n",
    "plt.plot(a_array, p(a_array), '--',label='Quadrática')\n",
    "plt.plot(a_array, Murnaghan(a_array,*popt), '-k',label='Murnaghan')\n",
    "plt.xlabel('a (Å)')\n",
    "plt.ylabel('Energia (eV)')\n",
    "plt.title('Energia do Cristal de Cu vs. Parâmetro de Rede a')\n",
    "plt.legend(loc='best')"
   ]
  },
  {
   "cell_type": "markdown",
   "id": "b9da4735",
   "metadata": {},
   "source": [
    "Calculando energia para a geometria otimizada"
   ]
  },
  {
   "cell_type": "code",
   "execution_count": null,
   "id": "38848add",
   "metadata": {},
   "outputs": [],
   "source": [
    "Cu_crystal.set_cell([a0, a0, a0], scale_atoms=True)\n",
    "\n",
    "calc = Vasp(directory='solidos/Cu',\n",
    "                xc='PBE',\n",
    "                kpts=[6, 6, 6],  # specifies k-points\n",
    "                encut=300,\n",
    "                atoms = Cu_crystal)"
   ]
  },
  {
   "cell_type": "code",
   "execution_count": null,
   "id": "adf90e91",
   "metadata": {},
   "outputs": [],
   "source": [
    "E_Cu = Cu_crystal.get_potential_energy()\n",
    "\n",
    "print(f'Energia total do cristal de Cu: {E_Cu:.3f} eV')\n",
    "\n",
    "E_per_Cu = E_Cu / len(Cu_crystal)\n",
    "\n",
    "print(f'Energia por átomo de Cu {E_per_Cu:.3f} eV')"
   ]
  },
  {
   "cell_type": "markdown",
   "id": "aa2befeb",
   "metadata": {},
   "source": [
    "### Otimizando geometria direto no VASP"
   ]
  },
  {
   "cell_type": "code",
   "execution_count": null,
   "id": "16f85fb9",
   "metadata": {},
   "outputs": [],
   "source": [
    "# Lendo arquivo CIF\n",
    "Cu_crystal = read('structures/Cu.cif') # célula convencional\n",
    "\n",
    "Cu_crystal.get_cell()"
   ]
  },
  {
   "cell_type": "code",
   "execution_count": null,
   "id": "2b8cff18",
   "metadata": {},
   "outputs": [],
   "source": [
    "calc_eq = Vasp(directory='solidos/Cu/relaxed',\n",
    "                xc='PBE',\n",
    "                kpts=[6, 6, 6],  # specifies k-points\n",
    "                encut=350,\n",
    "                prec='High',\n",
    "                isif=3,\n",
    "                nsw=10,\n",
    "                ibrion=2,\n",
    "                atoms=Cu_crystal\n",
    "                )"
   ]
  },
  {
   "cell_type": "code",
   "execution_count": null,
   "id": "10112195",
   "metadata": {},
   "outputs": [],
   "source": [
    "E_Cu = Cu_crystal.get_potential_energy()\n",
    "\n",
    "print(f'Energia total do cristal de Cu: {E_Cu:.3f} eV')\n",
    "\n",
    "E_per_Cu = E_Cu / len(Cu_crystal)\n",
    "\n",
    "print(f'Energia por átomo de Cu {E_per_Cu:.3f} eV')"
   ]
  },
  {
   "cell_type": "code",
   "execution_count": null,
   "id": "c796b962",
   "metadata": {},
   "outputs": [],
   "source": [
    "print(\"Número de passos executados:\", calc_eq.get_number_of_iterations())"
   ]
  },
  {
   "cell_type": "code",
   "execution_count": null,
   "id": "441d51d7",
   "metadata": {},
   "outputs": [],
   "source": [
    "print(\"Cell:\", Cu_crystal.get_cell())"
   ]
  },
  {
   "cell_type": "code",
   "execution_count": null,
   "id": "74b8c653",
   "metadata": {},
   "outputs": [],
   "source": [
    "a0"
   ]
  },
  {
   "cell_type": "markdown",
   "id": "f5694d39",
   "metadata": {},
   "source": [
    "Exportando arquivo `xyz`"
   ]
  },
  {
   "cell_type": "code",
   "execution_count": null,
   "id": "6b806731",
   "metadata": {},
   "outputs": [],
   "source": [
    "write('Cu_relaxed.xyz', Cu_crystal)"
   ]
  },
  {
   "cell_type": "code",
   "execution_count": null,
   "id": "4afa6688",
   "metadata": {},
   "outputs": [],
   "source": []
  }
 ],
 "metadata": {
  "kernelspec": {
   "display_name": "quantum",
   "language": "python",
   "name": "python3"
  },
  "language_info": {
   "codemirror_mode": {
    "name": "ipython",
    "version": 3
   },
   "file_extension": ".py",
   "mimetype": "text/x-python",
   "name": "python",
   "nbconvert_exporter": "python",
   "pygments_lexer": "ipython3",
   "version": "3.13.5"
  }
 },
 "nbformat": 4,
 "nbformat_minor": 5
}
