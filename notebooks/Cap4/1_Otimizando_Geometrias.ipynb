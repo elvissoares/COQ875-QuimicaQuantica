{
 "cells": [
  {
   "cell_type": "markdown",
   "id": "ce65b547",
   "metadata": {},
   "source": [
    "# Otimizando Geometrias usando VASP e ASE\n",
    "\n",
    "Autor: [Prof. Elvis do A. Soares](https://github.com/elvissoares) \n",
    "\n",
    "Contato: [elvis@peq.coppe.ufrj.br](mailto:elvis@peq.coppe.ufrj.br) - [Programa de Engenharia Química, PEQ/COPPE, UFRJ, Brasil](https://www.peq.coppe.ufrj.br/)\n",
    "\n",
    "---"
   ]
  },
  {
   "cell_type": "markdown",
   "id": "b76df15e",
   "metadata": {},
   "source": [
    "Importando variáveis do VASP"
   ]
  },
  {
   "cell_type": "code",
   "execution_count": 1,
   "id": "98140eb8",
   "metadata": {},
   "outputs": [],
   "source": [
    "import os\n",
    "# Definindo o path para os arquivos de potencial de pseudopotenciais do VASP\n",
    "# Certifique-se de que o caminho esteja correto para o seu sistema\n",
    "os.environ['VASP_PP_PATH'] = '/home/elvis/Programs/vasp-6.5.1/pp'\n",
    "os.environ['ASE_VASP_COMMAND'] = 'mpirun -np 1 vasp_std_cpu'\n",
    "os.environ['NO_STOP_MESSAGE'] = '1' # to avoid warning from mpirun\n",
    "\n",
    "# Importando o VASP calculator do ASE\n",
    "from ase.calculators.vasp import Vasp"
   ]
  },
  {
   "cell_type": "code",
   "execution_count": 2,
   "id": "1aba56d4",
   "metadata": {},
   "outputs": [],
   "source": [
    "import numpy as np\n",
    "import matplotlib.pyplot as plt\n",
    "\n",
    "from ase import Atoms, Atom\n",
    "from ase.build import molecule\n",
    "from ase.io import write, read\n",
    "from ase.calculators.vasp import Vasp\n",
    "from ase.visualize.plot import plot_atoms\n",
    "from ase.visualize import view"
   ]
  },
  {
   "cell_type": "markdown",
   "id": "d827e2cf",
   "metadata": {},
   "source": [
    "# Geometria de Moléculas"
   ]
  },
  {
   "cell_type": "markdown",
   "id": "80b92c6a",
   "metadata": {},
   "source": [
    "## Molécula de H2O\n",
    "\n",
    "\n",
    "Uma opção para gerar geometria da molécula"
   ]
  },
  {
   "cell_type": "code",
   "execution_count": 122,
   "id": "cfcdd078",
   "metadata": {},
   "outputs": [],
   "source": [
    "h2omol = Atoms([Atom('O', [0, 0, 0]),\n",
    "                Atom('H', [0.0, -0.760265, 0.588373]),\n",
    "                Atom('H', [0.0, 0.760265, 0.588373])])\n",
    "h2omol.center(vacuum=4.0) \n",
    "h2omol.pbc = True "
   ]
  },
  {
   "cell_type": "code",
   "execution_count": 5,
   "id": "82df6774",
   "metadata": {},
   "outputs": [
    {
     "data": {
      "text/plain": [
       "<Axes: >"
      ]
     },
     "execution_count": 5,
     "metadata": {},
     "output_type": "execute_result"
    },
    {
     "data": {
      "image/png": "[encoded data removed]",
      "text/plain": [
       "<Figure size 640x480 with 1 Axes>"
      ]
     },
     "metadata": {},
     "output_type": "display_data"
    }
   ],
   "source": [
    "fig, ax = plt.subplots()\n",
    "plot_atoms(h2omol, ax, radii=0.3, rotation=('0x,90y,0z'))"
   ]
  },
  {
   "cell_type": "code",
   "execution_count": 6,
   "id": "3d88c224",
   "metadata": {},
   "outputs": [
    {
     "data": {
      "text/html": [
       "<html>\n",
       "    <head>\n",
       "        <title>ASE atomic visualization</title>\n",
       "        <link rel=\"stylesheet\" type=\"text/css\"             href=\"https://www.x3dom.org/release/x3dom.css\"></link>\n",
       "        <script type=\"text/javascript\"             src=\"https://www.x3dom.org/release/x3dom.js\"></script>\n",
       "    </head>\n",
       "    <body>\n",
       "        <X3D width=\"400px\"; height=\"300px\";>\n",
       "\n",
       "<!--Inserting Generated X3D Scene-->\n",
       "<scene>\n",
       "  <viewpoint position=\"0 0 19.04106\">\n",
       "    <group/>\n",
       "  </viewpoint>\n",
       "  <transform translation=\"-4.0 -4.760265 -4.2941865\">\n",
       "    <group>\n",
       "      <group>\n",
       "        <transform translation=\"0 0 0\">\n",
       "          <shape>\n",
       "            <appearance>\n",
       "              <material diffuseColor=\"0 0 0\"/>\n",
       "            </appearance>\n",
       "            <lineset vertexCount=\"5\">\n",
       "              <coordinate point=\"0 0 0 8.0 0.0 0.0 8.0 9.52053 0.0 0.0 9.52053 0.0 0 0 0\"/>\n",
       "            </lineset>\n",
       "          </shape>\n",
       "        </transform>\n",
       "        <transform translation=\"0.0 0.0 8.588373\">\n",
       "          <shape>\n",
       "            <appearance>\n",
       "              <material diffuseColor=\"0 0 0\"/>\n",
       "            </appearance>\n",
       "            <lineset vertexCount=\"5\">\n",
       "              <coordinate point=\"0 0 0 8.0 0.0 0.0 8.0 9.52053 0.0 0.0 9.52053 0.0 0 0 0\"/>\n",
       "            </lineset>\n",
       "          </shape>\n",
       "        </transform>\n",
       "        <transform translation=\"0 0 0\">\n",
       "          <shape>\n",
       "            <appearance>\n",
       "              <material diffuseColor=\"0 0 0\"/>\n",
       "            </appearance>\n",
       "            <lineset vertexCount=\"5\">\n",
       "              <coordinate point=\"0 0 0 8.0 0.0 0.0 8.0 0.0 8.588373 0.0 0.0 8.588373 0 0 0\"/>\n",
       "            </lineset>\n",
       "          </shape>\n",
       "        </transform>\n",
       "        <transform translation=\"0.0 9.52053 0.0\">\n",
       "          <shape>\n",
       "            <appearance>\n",
       "              <material diffuseColor=\"0 0 0\"/>\n",
       "            </appearance>\n",
       "            <lineset vertexCount=\"5\">\n",
       "              <coordinate point=\"0 0 0 8.0 0.0 0.0 8.0 0.0 8.588373 0.0 0.0 8.588373 0 0 0\"/>\n",
       "            </lineset>\n",
       "          </shape>\n",
       "        </transform>\n",
       "      </group>\n",
       "      <group>\n",
       "        <transform translation=\"4.0 4.760265 4.0\">\n",
       "          <shape>\n",
       "            <appearance>\n",
       "              <material diffuseColor=\"1.0 0.051 0.051\"/>\n",
       "            </appearance>\n",
       "            <sphere radius=\"0.66\"/>\n",
       "          </shape>\n",
       "        </transform>\n",
       "        <transform translation=\"4.0 4.0 4.588373\">\n",
       "          <shape>\n",
       "            <appearance>\n",
       "              <material diffuseColor=\"1.0 1.0 1.0\"/>\n",
       "            </appearance>\n",
       "            <sphere radius=\"0.31\"/>\n",
       "          </shape>\n",
       "        </transform>\n",
       "        <transform translation=\"4.0 5.520530000000001 4.588373\">\n",
       "          <shape>\n",
       "            <appearance>\n",
       "              <material diffuseColor=\"1.0 1.0 1.0\"/>\n",
       "            </appearance>\n",
       "            <sphere radius=\"0.31\"/>\n",
       "          </shape>\n",
       "        </transform>\n",
       "      </group>\n",
       "    </group>\n",
       "  </transform>\n",
       "</scene>\n",
       "<!--End of Inserted Scene-->\n",
       "\n",
       "        </X3D>\n",
       "    </body>\n",
       "</html>\n",
       "\n"
      ],
      "text/plain": [
       "<IPython.core.display.HTML object>"
      ]
     },
     "execution_count": 6,
     "metadata": {},
     "output_type": "execute_result"
    }
   ],
   "source": [
    "view(h2omol, viewer='x3d')"
   ]
  },
  {
   "cell_type": "markdown",
   "id": "ccfdb334",
   "metadata": {},
   "source": [
    "Calculando comprimendo da ligação"
   ]
  },
  {
   "cell_type": "code",
   "execution_count": 7,
   "id": "373fa091",
   "metadata": {},
   "outputs": [
    {
     "name": "stdout",
     "output_type": "stream",
     "text": [
      "O comprimento da ligação O-H é 0.961 Å\n"
     ]
    }
   ],
   "source": [
    "l = h2omol.get_distance(0, 1)\n",
    "\n",
    "print(f\"O comprimento da ligação O-H é {l:.3f} Å\")"
   ]
  },
  {
   "cell_type": "markdown",
   "id": "63018177",
   "metadata": {},
   "source": [
    "Calculando o ângulo da ligação"
   ]
  },
  {
   "cell_type": "code",
   "execution_count": 8,
   "id": "5e3f3b7c",
   "metadata": {},
   "outputs": [
    {
     "name": "stdout",
     "output_type": "stream",
     "text": [
      "O ângulo da ligação H-O-H é 104.527 graus\n"
     ]
    }
   ],
   "source": [
    "theta = h2omol.get_angle(2, 0, 1)\n",
    "\n",
    "print(f\"O ângulo da ligação H-O-H é {theta:.3f} graus\")"
   ]
  },
  {
   "cell_type": "markdown",
   "id": "a6f8c318",
   "metadata": {},
   "source": [
    "ASE possui algumas moléculas já pré-definidas"
   ]
  },
  {
   "cell_type": "code",
   "execution_count": null,
   "id": "0c32e6a2",
   "metadata": {},
   "outputs": [],
   "source": [
    "h2omol = molecule('H2O')        # molécula\n",
    "h2omol.center(vacuum=4.0)       # ~8 Å box; 4 Å para cada lado, bom para isolar molécula\n",
    "h2omol.pbc = True               # aplica condição de contorno periódica"
   ]
  },
  {
   "cell_type": "code",
   "execution_count": 10,
   "id": "c0270ea2",
   "metadata": {},
   "outputs": [
    {
     "data": {
      "text/plain": [
       "<Axes: >"
      ]
     },
     "execution_count": 10,
     "metadata": {},
     "output_type": "execute_result"
    },
    {
     "data": {
      "image/png": "[encoded data removed]",
      "text/plain": [
       "<Figure size 640x480 with 1 Axes>"
      ]
     },
     "metadata": {},
     "output_type": "display_data"
    }
   ],
   "source": [
    "fig, ax = plt.subplots()\n",
    "plot_atoms(h2omol, ax, radii=0.3, rotation=('0x,90y,0z'))"
   ]
  },
  {
   "cell_type": "code",
   "execution_count": 11,
   "id": "14790439",
   "metadata": {},
   "outputs": [],
   "source": [
    "calc = Vasp(xc='PBE',                                   # funcional\n",
    "            encut=350,                                  # safe default for PAW-PBE sets\n",
    "            kpts=[1, 1, 1],gamma=True,                  # Somente pontos Gamma em Fourier\n",
    "            ibrion=-1,                                  # Calcula sem atualizar posições atômicas\n",
    "            directory='moleculas/H2O'                   # pasta em que os cálculos serão armazenados\n",
    "        )"
   ]
  },
  {
   "cell_type": "code",
   "execution_count": 12,
   "id": "6559f830",
   "metadata": {},
   "outputs": [],
   "source": [
    "h2omol.calc = calc"
   ]
  },
  {
   "cell_type": "code",
   "execution_count": 13,
   "id": "34775b70",
   "metadata": {},
   "outputs": [
    {
     "name": "stdout",
     "output_type": "stream",
     "text": [
      "Energia: -14.219 eV\n"
     ]
    }
   ],
   "source": [
    "E0 = h2omol.get_potential_energy()       \n",
    "\n",
    "print('Energia: {:.3f} eV'.format(E0))"
   ]
  },
  {
   "cell_type": "code",
   "execution_count": 14,
   "id": "9a0ae0c7",
   "metadata": {},
   "outputs": [
    {
     "data": {
      "text/plain": [
       "<Axes: >"
      ]
     },
     "execution_count": 14,
     "metadata": {},
     "output_type": "execute_result"
    },
    {
     "data": {
      "image/png": "[encoded data removed]",
      "text/plain": [
       "<Figure size 640x480 with 1 Axes>"
      ]
     },
     "metadata": {},
     "output_type": "display_data"
    }
   ],
   "source": [
    "fig, ax = plt.subplots()\n",
    "plot_atoms(h2omol, ax, radii=0.3, rotation=('0x,90y,0z'))"
   ]
  },
  {
   "cell_type": "code",
   "execution_count": 15,
   "id": "6d43b8e2",
   "metadata": {},
   "outputs": [
    {
     "name": "stdout",
     "output_type": "stream",
     "text": [
      "Posições (Å):\n",
      " [[4.       4.763239 4.596309]\n",
      " [4.       5.526478 4.      ]\n",
      " [4.       4.       4.      ]]\n"
     ]
    }
   ],
   "source": [
    "print(\"Posições (Å):\\n\", h2omol.get_positions())"
   ]
  },
  {
   "cell_type": "code",
   "execution_count": 16,
   "id": "e7d5e38f",
   "metadata": {},
   "outputs": [
    {
     "name": "stdout",
     "output_type": "stream",
     "text": [
      "O comprimento da ligação O-H é 0.969 Å\n"
     ]
    }
   ],
   "source": [
    "l = h2omol.get_distance(0, 1)\n",
    "\n",
    "print(f\"O comprimento da ligação O-H é {l:.3f} Å\")"
   ]
  },
  {
   "cell_type": "code",
   "execution_count": 17,
   "id": "fbb9ac3a",
   "metadata": {},
   "outputs": [
    {
     "name": "stdout",
     "output_type": "stream",
     "text": [
      "O ângulo da ligação H-O-H é 104.000 graus\n"
     ]
    }
   ],
   "source": [
    "theta = h2omol.get_angle(2, 0, 1)\n",
    "\n",
    "print(f\"O ângulo da ligação H-O-H é {theta:.3f} graus\")"
   ]
  },
  {
   "cell_type": "markdown",
   "id": "e6e2c260",
   "metadata": {},
   "source": [
    "### Variando parâmetros do VASP"
   ]
  },
  {
   "cell_type": "markdown",
   "id": "3fd21e55",
   "metadata": {},
   "source": [
    "Checando a convergência com o tamanho da caixa"
   ]
  },
  {
   "cell_type": "code",
   "execution_count": 18,
   "id": "80f3faf3",
   "metadata": {},
   "outputs": [
    {
     "name": "stdout",
     "output_type": "stream",
     "text": [
      "L = 6.0 Å, E = -14.193 eV\n",
      "L = 8.0 Å, E = -14.219 eV\n",
      "L = 10.0 Å, E = -14.217 eV\n",
      "L = 12.0 Å, E = -14.219 eV\n",
      "L = 14.0 Å, E = -14.221 eV\n"
     ]
    }
   ],
   "source": [
    "Larray = np.array([6.0, 8.0, 10.0, 12.0,14.0]) # tamanhos da caixa\n",
    "Earray = np.zeros(len(Larray))\n",
    "\n",
    "for i, L in enumerate(Larray):\n",
    "    h2omol.center(vacuum=L/2.0)    # box de tamanho L\n",
    "\n",
    "    calc = Vasp(xc='PBE',                                   # funcional\n",
    "                encut=350,                                  # safe default for PAW-PBE sets\n",
    "                kpts=[1, 1, 1],gamma=True,                  # Somente pontos Gamma em Fourier\n",
    "                ibrion=-1,                                  # Sem atualizar posições atômicas\n",
    "                directory=f'moleculas/H2O/L-{int(L)}',       # pasta em que os cálculos serão armazenados\n",
    "                atoms = h2omol                           \n",
    "            )\n",
    "\n",
    "    Earray[i] = h2omol.get_potential_energy()\n",
    "\n",
    "    print(f\"L = {L:.1f} Å, E = {Earray[i]:.3f} eV\")"
   ]
  },
  {
   "cell_type": "code",
   "execution_count": 19,
   "id": "e8b9d6c2",
   "metadata": {},
   "outputs": [
    {
     "data": {
      "text/plain": [
       "Text(0.5, 1.0, 'Convergência da energia da molécula de H2O com L')"
      ]
     },
     "execution_count": 19,
     "metadata": {},
     "output_type": "execute_result"
    },
    {
     "data": {
      "image/png": "[encoded data removed]",
      "text/plain": [
       "<Figure size 640x480 with 1 Axes>"
      ]
     },
     "metadata": {},
     "output_type": "display_data"
    }
   ],
   "source": [
    "plt.plot(Larray, Earray, 'o-')\n",
    "plt.xlabel('Tamanho da caixa L (Å)')\n",
    "plt.ylabel('Energia total (eV)')\n",
    "plt.title('Convergência da energia da molécula de H2O com L')"
   ]
  },
  {
   "cell_type": "markdown",
   "id": "135a2c9c",
   "metadata": {},
   "source": [
    "Checando convergência com `encut`"
   ]
  },
  {
   "cell_type": "code",
   "execution_count": 20,
   "id": "1630fa66",
   "metadata": {},
   "outputs": [
    {
     "name": "stdout",
     "output_type": "stream",
     "text": [
      "ENCUT = 250.0 Å, E = -14.378 eV\n",
      "ENCUT = 300.0 Å, E = -14.265 eV\n",
      "ENCUT = 350.0 Å, E = -14.219 eV\n",
      "ENCUT = 400.0 Å, E = -14.217 eV\n",
      "ENCUT = 450.0 Å, E = -14.213 eV\n",
      "ENCUT = 500.0 Å, E = -14.214 eV\n"
     ]
    }
   ],
   "source": [
    "ENCUTarray = np.array([250,300,350,400,450,500]) # valores de ENCUT\n",
    "Earray = np.zeros(len(ENCUTarray))\n",
    "\n",
    "h2omol.center(vacuum=4.0)    # box de tamanho L\n",
    "\n",
    "for i, encut in enumerate(ENCUTarray):\n",
    "    \n",
    "    calc = Vasp(xc='PBE',                                   # funcional\n",
    "                encut=encut,                                # safe default for PAW-PBE sets\n",
    "                kpts=[1, 1, 1],gamma=True,                  # Somente pontos Gamma em Fourier\n",
    "                ibrion=-1,                                  # Sem atualizar posições atômicas\n",
    "                directory=f'moleculas/H2O/encut-{encut}',   # pasta em que os cálculos serão armazenados\n",
    "                atoms = h2omol                           \n",
    "            )\n",
    "\n",
    "    Earray[i] = h2omol.get_potential_energy()\n",
    "\n",
    "    print(f\"ENCUT = {encut:.1f} Å, E = {Earray[i]:.3f} eV\")"
   ]
  },
  {
   "cell_type": "code",
   "execution_count": 21,
   "id": "d3e4a7a3",
   "metadata": {},
   "outputs": [
    {
     "data": {
      "text/plain": [
       "Text(0.5, 1.0, 'Convergência da energia da molécula de H2O com ENCUT')"
      ]
     },
     "execution_count": 21,
     "metadata": {},
     "output_type": "execute_result"
    },
    {
     "data": {
      "image/png": "[encoded data removed]",
      "text/plain": [
       "<Figure size 640x480 with 1 Axes>"
      ]
     },
     "metadata": {},
     "output_type": "display_data"
    }
   ],
   "source": [
    "plt.plot(ENCUTarray, Earray, 'o-')\n",
    "plt.xlabel('ENCUT (eV)')\n",
    "plt.ylabel('Energia total (eV)')\n",
    "plt.title('Convergência da energia da molécula de H2O com ENCUT')"
   ]
  },
  {
   "cell_type": "markdown",
   "id": "68a1c1a4",
   "metadata": {},
   "source": [
    "### Otimizando a geometria da molécula de H2O"
   ]
  },
  {
   "cell_type": "code",
   "execution_count": null,
   "id": "0a16495d",
   "metadata": {},
   "outputs": [
    {
     "name": "stdout",
     "output_type": "stream",
     "text": [
      "theta = 90.0°, E = -14.060 eV\n",
      "theta = 95.0°, E = -14.148 eV\n",
      "theta = 100.0°, E = -14.199 eV\n",
      "theta = 105.0°, E = -14.215 eV\n",
      "theta = 110.0°, E = -14.199 eV\n",
      "theta = 115.0°, E = -14.154 eV\n",
      "theta = 120.0°, E = -14.084 eV\n"
     ]
    }
   ],
   "source": [
    "THETAarray = np.array([90,95, 100, 105, 110, 115, 120]) # valores de ângulos de ligação\n",
    "Earray = np.zeros(len(THETAarray))\n",
    "\n",
    "for i, theta in enumerate(THETAarray):\n",
    "    h2omol.set_angle(2, 0, 1, theta)  # fixa o oxigênio e altera o ângulo H-O-H\n",
    "\n",
    "    calc = Vasp(xc='PBE',                                   # funcional\n",
    "                encut=350,                                  # safe default for PAW-PBE sets\n",
    "                kpts=[1, 1, 1],gamma=True,                  # Somente pontos Gamma em Fourier\n",
    "                ibrion=-1,                                  # Sem atualizar posições atômicas\n",
    "                directory=f'moleculas/H2O/theta-{int(theta)}', # pasta em que os cálculos serão armazenados\n",
    "                atoms = h2omol                           \n",
    "            )\n",
    "\n",
    "    Earray[i] = h2omol.get_potential_energy()\n",
    "\n",
    "    print(f\"theta = {theta:.1f}°, E = {Earray[i]:.3f} eV\")"
   ]
  },
  {
   "cell_type": "code",
   "execution_count": 133,
   "id": "4bcd60ac",
   "metadata": {},
   "outputs": [
    {
     "data": {
      "text/plain": [
       "Text(0.5, 1.0, 'Energia da molécula de H2O vs. ângulo de ligação')"
      ]
     },
     "execution_count": 133,
     "metadata": {},
     "output_type": "execute_result"
    },
    {
     "data": {
      "image/png": "[encoded data removed]",
      "text/plain": [
       "<Figure size 640x480 with 1 Axes>"
      ]
     },
     "metadata": {},
     "output_type": "display_data"
    }
   ],
   "source": [
    "plt.plot(THETAarray, Earray, 'or')\n",
    "plt.xlabel('Ângulo de ligação H-O-H (°)')\n",
    "plt.ylabel('Energia (eV)')\n",
    "plt.title('Energia da molécula de H2O vs. ângulo de ligação')"
   ]
  },
  {
   "cell_type": "markdown",
   "id": "c6536d20",
   "metadata": {},
   "source": [
    "Fitting parabólico"
   ]
  },
  {
   "cell_type": "code",
   "execution_count": null,
   "id": "5b640a63",
   "metadata": {},
   "outputs": [
    {
     "name": "stdout",
     "output_type": "stream",
     "text": [
      "[ 6.34546567e-04 -1.33852925e-01 -7.15580819e+00]\n"
     ]
    }
   ],
   "source": [
    "z = np.polyfit(THETAarray, Earray, 2)\n",
    "\n",
    "print(z)\n",
    "\n",
    "p = np.poly1d(z)"
   ]
  },
  {
   "cell_type": "code",
   "execution_count": null,
   "id": "1a847da8",
   "metadata": {},
   "outputs": [],
   "source": [
    "\n",
    "\n",
    "\n",
    "print(f\"A energia mínima é {p.r[0]:.3f} eV no ângulo { -z[1]/(2*z[0]):.3f}°\")"
   ]
  },
  {
   "cell_type": "code",
   "execution_count": null,
   "id": "99b2ed56",
   "metadata": {},
   "outputs": [
    {
     "name": "stdout",
     "output_type": "stream",
     "text": [
      "A energia mínima é 255.142 eV no ângulo 105.471°\n"
     ]
    },
    {
     "data": {
      "text/plain": [
       "Text(0.5, 1.0, 'Energia da molécula de H2O vs. ângulo de ligação')"
      ]
     },
     "execution_count": 135,
     "metadata": {},
     "output_type": "execute_result"
    },
    {
     "data": {
      "image/png": "[encoded data removed]",
      "text/plain": [
       "<Figure size 640x480 with 1 Axes>"
      ]
     },
     "metadata": {},
     "output_type": "display_data"
    }
   ],
   "source": [
    "thetarray = np.arange(THETAarray[0], THETAarray[-1]+0., 0.1)\n",
    "\n",
    "plt.plot(thetarray, p(thetarray), '-', label='Fitting parabólico')\n",
    "\n",
    "\n",
    "plt.plot(THETAarray, Earray, 'or')\n",
    "plt.xlabel('Ângulo de ligação H-O-H (°)')\n",
    "plt.ylabel('Energia (eV)')\n",
    "plt.title('Energia da molécula de H2O vs. ângulo de ligação')"
   ]
  },
  {
   "cell_type": "markdown",
   "id": "3fa477e2",
   "metadata": {},
   "source": [
    "### Forças nos núcleos atômicos\n",
    "\n",
    "Sendo a energia total de uma molécula dada por $E[\\rho(\\boldsymbol{r})]$ calculada a partir do DFT por \n",
    "$$E[\\rho(\\boldsymbol{r})]= E_{HK}[\\rho(\\boldsymbol{r})] - \\sum_{A=1}^M \\int \\frac{Z_A}{|\\boldsymbol{r}-\\boldsymbol{R_A}|} \\rho(\\boldsymbol{r})\\ \\text{d} \\boldsymbol{r} + \\frac{1}{2}\\sum_{A=1}^M \\sum_{B\\neq A}^M \\frac{Z_A Z_B}{|\\boldsymbol{R}_B-\\boldsymbol{R_A}|} $$\n",
    "de tal forma que a força experimentada por um núcleo $C$ seja dada por \n",
    "$$\\boldsymbol{F}_C = -\\frac{\\partial E}{\\partial \\boldsymbol{R}_C}$$\n",
    "que é uma consequência do **teorema de Hellmann-Feynman**. Usando o DFT podemos calcular essa força a partir de \n",
    "$$ \\frac{\\partial E}{\\partial \\boldsymbol{R}_C}=\\frac{\\partial }{\\partial \\boldsymbol{R}_C}\\left[- \\sum_{A=1}^M \\int \\frac{Z_A}{|\\boldsymbol{r}-\\boldsymbol{R_A}|} \\rho(\\boldsymbol{r})\\ \\text{d} \\boldsymbol{r} + \\frac{1}{2}\\sum_{A=1}^M \\sum_{B\\neq A}^M \\frac{Z_A Z_B}{|\\boldsymbol{R}_B-\\boldsymbol{R_A}|} \\right]$$\n",
    "de modo que a força experimentada pelos núcleos atômicos é proporcional ao campo elétrico gerado pelos elétrons e pelos demais núcleos. Com isso, chegamos a \n",
    "$$ \\frac{\\partial E}{\\partial \\boldsymbol{R}_C}=- \\int \\frac{Z_C (\\boldsymbol{r}-\\boldsymbol{R_C})}{|\\boldsymbol{r}-\\boldsymbol{R_C}|^3} \\rho(\\boldsymbol{r})\\ \\text{d} \\boldsymbol{r} + \\sum_{A\\neq C}^M \\frac{Z_A Z_C (\\boldsymbol{R}_A-\\boldsymbol{R_C})}{|\\boldsymbol{R}_A-\\boldsymbol{R_C}|^3} $$\n"
   ]
  },
  {
   "cell_type": "markdown",
   "id": "012fb57a",
   "metadata": {},
   "source": [
    "No VASP, os métodos de otimização de estrutura são definidos por \n",
    "- `ibrion=1` RMM-DIIS (combinação linear das posições anteriores, mais rapidos)\n",
    "- `ibrion=2` conjugate gradient (mais robusto)\n",
    "- `ibrion=3` damped molecular dynamics (MD com velocidade diminuindo, para sistemas grandes e longe do equilíbrio)\n",
    "\n",
    "REF: https://www.vasp.at/wiki/Structure_optimization"
   ]
  },
  {
   "cell_type": "code",
   "execution_count": 151,
   "id": "00b812e3",
   "metadata": {},
   "outputs": [],
   "source": [
    "h2omol = molecule('H2O')        # molécula\n",
    "h2omol.center(vacuum=4.0)      # ~8 Å box; 4 Å para cada lado, bom para isolar molécula\n",
    "h2omol.pbc = True               # aplica condição de contorno periódica"
   ]
  },
  {
   "cell_type": "code",
   "execution_count": 152,
   "id": "fbdeb917",
   "metadata": {},
   "outputs": [],
   "source": [
    "calc = Vasp(xc='PBE',                                   # funcional\n",
    "            encut=350,                                  # safe default for PAW-PBE sets\n",
    "            kpts=[1, 1, 1],gamma=True,                  # Somente pontos Gamma em Fourier\n",
    "            ismear=0,                                   # smearing gaussiano (moléculas = 0)\n",
    "            ibrion=2,                                   # CG iônico, relaxa ions somente\n",
    "            prec='High',                                # precisão do cálculo\n",
    "            nsw=100,                                    # Número de passos iônicos\n",
    "            directory='moleculas/H2O/relaxed',          # pasta em que os cálculos serão armazenados\n",
    "            atoms=h2omol\n",
    "        )"
   ]
  },
  {
   "cell_type": "code",
   "execution_count": 153,
   "id": "9049bf17",
   "metadata": {},
   "outputs": [
    {
     "name": "stdout",
     "output_type": "stream",
     "text": [
      "Energia: -14.225 eV\n"
     ]
    }
   ],
   "source": [
    "E_relax = h2omol.get_potential_energy()       \n",
    "\n",
    "print('Energia: {:.3f} eV'.format(E_relax))"
   ]
  },
  {
   "cell_type": "code",
   "execution_count": 154,
   "id": "652c9f30",
   "metadata": {},
   "outputs": [
    {
     "data": {
      "text/plain": [
       "np.float64(0.6169337854568528)"
      ]
     },
     "execution_count": 154,
     "metadata": {},
     "output_type": "execute_result"
    }
   ],
   "source": [
    "E_relax-E0"
   ]
  },
  {
   "cell_type": "code",
   "execution_count": 161,
   "id": "7b87af6f",
   "metadata": {},
   "outputs": [
    {
     "data": {
      "text/html": [
       "<html>\n",
       "    <head>\n",
       "        <title>ASE atomic visualization</title>\n",
       "        <link rel=\"stylesheet\" type=\"text/css\"             href=\"https://www.x3dom.org/release/x3dom.css\"></link>\n",
       "        <script type=\"text/javascript\"             src=\"https://www.x3dom.org/release/x3dom.js\"></script>\n",
       "    </head>\n",
       "    <body>\n",
       "        <X3D width=\"400px\"; height=\"300px\";>\n",
       "\n",
       "<!--Inserting Generated X3D Scene-->\n",
       "<scene>\n",
       "  <viewpoint position=\"0 0 19.052956000000002\">\n",
       "    <group/>\n",
       "  </viewpoint>\n",
       "  <transform translation=\"-4.0 -4.7632390000000004 -4.2981545\">\n",
       "    <group>\n",
       "      <group>\n",
       "        <transform translation=\"0 0 0\">\n",
       "          <shape>\n",
       "            <appearance>\n",
       "              <material diffuseColor=\"0 0 0\"/>\n",
       "            </appearance>\n",
       "            <lineset vertexCount=\"5\">\n",
       "              <coordinate point=\"0 0 0 8.0 0.0 0.0 8.0 9.526478000000001 0.0 0.0 9.526478000000001 0.0 0 0 0\"/>\n",
       "            </lineset>\n",
       "          </shape>\n",
       "        </transform>\n",
       "        <transform translation=\"0.0 0.0 8.596309\">\n",
       "          <shape>\n",
       "            <appearance>\n",
       "              <material diffuseColor=\"0 0 0\"/>\n",
       "            </appearance>\n",
       "            <lineset vertexCount=\"5\">\n",
       "              <coordinate point=\"0 0 0 8.0 0.0 0.0 8.0 9.526478000000001 0.0 0.0 9.526478000000001 0.0 0 0 0\"/>\n",
       "            </lineset>\n",
       "          </shape>\n",
       "        </transform>\n",
       "        <transform translation=\"0 0 0\">\n",
       "          <shape>\n",
       "            <appearance>\n",
       "              <material diffuseColor=\"0 0 0\"/>\n",
       "            </appearance>\n",
       "            <lineset vertexCount=\"5\">\n",
       "              <coordinate point=\"0 0 0 8.0 0.0 0.0 8.0 0.0 8.596309 0.0 0.0 8.596309 0 0 0\"/>\n",
       "            </lineset>\n",
       "          </shape>\n",
       "        </transform>\n",
       "        <transform translation=\"0.0 9.526478000000001 0.0\">\n",
       "          <shape>\n",
       "            <appearance>\n",
       "              <material diffuseColor=\"0 0 0\"/>\n",
       "            </appearance>\n",
       "            <lineset vertexCount=\"5\">\n",
       "              <coordinate point=\"0 0 0 8.0 0.0 0.0 8.0 0.0 8.596309 0.0 0.0 8.596309 0 0 0\"/>\n",
       "            </lineset>\n",
       "          </shape>\n",
       "        </transform>\n",
       "      </group>\n",
       "      <group>\n",
       "        <transform translation=\"4.0 4.7632390000000004 4.599081814827622\">\n",
       "          <shape>\n",
       "            <appearance>\n",
       "              <material diffuseColor=\"1.0 0.051 0.051\"/>\n",
       "            </appearance>\n",
       "            <sphere radius=\"0.66\"/>\n",
       "          </shape>\n",
       "        </transform>\n",
       "        <transform translation=\"4.0 5.529179193996348 3.9986135925861905\">\n",
       "          <shape>\n",
       "            <appearance>\n",
       "              <material diffuseColor=\"1.0 1.0 1.0\"/>\n",
       "            </appearance>\n",
       "            <sphere radius=\"0.31\"/>\n",
       "          </shape>\n",
       "        </transform>\n",
       "        <transform translation=\"4.0 3.997298806003653 3.9986135925861905\">\n",
       "          <shape>\n",
       "            <appearance>\n",
       "              <material diffuseColor=\"1.0 1.0 1.0\"/>\n",
       "            </appearance>\n",
       "            <sphere radius=\"0.31\"/>\n",
       "          </shape>\n",
       "        </transform>\n",
       "      </group>\n",
       "    </group>\n",
       "  </transform>\n",
       "</scene>\n",
       "<!--End of Inserted Scene-->\n",
       "\n",
       "        </X3D>\n",
       "    </body>\n",
       "</html>\n",
       "\n"
      ],
      "text/plain": [
       "<IPython.core.display.HTML object>"
      ]
     },
     "execution_count": 161,
     "metadata": {},
     "output_type": "execute_result"
    }
   ],
   "source": [
    "view(h2omol, viewer='x3d')"
   ]
  },
  {
   "cell_type": "code",
   "execution_count": 155,
   "id": "ed5d21b0",
   "metadata": {},
   "outputs": [
    {
     "name": "stdout",
     "output_type": "stream",
     "text": [
      "Número de passos executados: 3\n"
     ]
    }
   ],
   "source": [
    "print(\"Número de passos executados:\", calc.get_number_of_iterations())"
   ]
  },
  {
   "cell_type": "code",
   "execution_count": 156,
   "id": "ecd15be5",
   "metadata": {},
   "outputs": [
    {
     "name": "stdout",
     "output_type": "stream",
     "text": [
      "Forças em ev/A\n",
      "=======\n",
      "[[ 0.          0.         -0.06145712]\n",
      " [ 0.          0.02873979  0.03072856]\n",
      " [ 0.         -0.02873979  0.03072856]]\n"
     ]
    }
   ],
   "source": [
    "print(\"Forças em ev/A\")\n",
    "print(\"=======\")\n",
    "print(h2omol.get_forces())"
   ]
  },
  {
   "cell_type": "code",
   "execution_count": 157,
   "id": "ef829d0e",
   "metadata": {},
   "outputs": [
    {
     "name": "stdout",
     "output_type": "stream",
     "text": [
      "O comprimento da ligação O-H é 0.973 Å\n"
     ]
    }
   ],
   "source": [
    "l = h2omol.get_distance(0, 1)\n",
    "\n",
    "print(f\"O comprimento da ligação O-H é {l:.3f} Å\")"
   ]
  },
  {
   "cell_type": "code",
   "execution_count": 158,
   "id": "0f4ed7d5",
   "metadata": {},
   "outputs": [
    {
     "name": "stdout",
     "output_type": "stream",
     "text": [
      "O ângulo da ligação H-O-H é 103.810 graus\n"
     ]
    }
   ],
   "source": [
    "theta = h2omol.get_angle(2, 0, 1)\n",
    "\n",
    "print(f\"O ângulo da ligação H-O-H é {theta:.3f} graus\")"
   ]
  },
  {
   "cell_type": "markdown",
   "id": "6f2bcb4d",
   "metadata": {},
   "source": [
    "### Analisando Orbitais Moleculares"
   ]
  },
  {
   "cell_type": "markdown",
   "id": "db5735df",
   "metadata": {},
   "source": [
    "Determinando as energias dos orbitais moleculares"
   ]
  },
  {
   "cell_type": "code",
   "execution_count": 30,
   "id": "7710e573",
   "metadata": {},
   "outputs": [
    {
     "data": {
      "text/plain": [
       "array([-25.1776, -12.9503,  -9.1372,  -7.0667,  -1.0205,   0.7997,\n",
       "         0.8036,   1.4555])"
      ]
     },
     "execution_count": 30,
     "metadata": {},
     "output_type": "execute_result"
    }
   ],
   "source": [
    "calc.get_eigenvalues()"
   ]
  },
  {
   "cell_type": "markdown",
   "id": "bf924b6e",
   "metadata": {},
   "source": [
    "Determinando as ocupações"
   ]
  },
  {
   "cell_type": "code",
   "execution_count": 31,
   "id": "6ef25f0f",
   "metadata": {},
   "outputs": [
    {
     "data": {
      "text/plain": [
       "array([2., 2., 2., 2., 0., 0., 0., 0.])"
      ]
     },
     "execution_count": 31,
     "metadata": {},
     "output_type": "execute_result"
    }
   ],
   "source": [
    "calc.get_occupation_numbers()"
   ]
  },
  {
   "cell_type": "markdown",
   "id": "428573bc",
   "metadata": {},
   "source": [
    "Determinando as energias dos orbitais HOMO e LUMO"
   ]
  },
  {
   "cell_type": "code",
   "execution_count": 32,
   "id": "53b5633d",
   "metadata": {},
   "outputs": [
    {
     "name": "stdout",
     "output_type": "stream",
     "text": [
      "Lumo: -1.020 eV\n",
      "Homo: -7.067 eV\n",
      "----------\n",
      "Diferença: 6.046 eV\n"
     ]
    }
   ],
   "source": [
    "homo, lumo = calc.get_homo_lumo()\n",
    "\n",
    "print(f\"Lumo: {lumo:.3f} eV\")\n",
    "print(f\"Homo: {homo:.3f} eV\")\n",
    "print('----------')\n",
    "print(f\"Diferença: {lumo-homo:.3f} eV\")"
   ]
  },
  {
   "cell_type": "code",
   "execution_count": 33,
   "id": "b6c42899",
   "metadata": {},
   "outputs": [
    {
     "name": "stdout",
     "output_type": "stream",
     "text": [
      "HOMO = -7.067 eV, LUMO = -1.020 eV, GAP = 6.046 eV\n"
     ]
    },
    {
     "data": {
      "image/png": "[encoded data removed]",
      "text/plain": [
       "<Figure size 420x448 with 1 Axes>"
      ]
     },
     "metadata": {},
     "output_type": "display_data"
    }
   ],
   "source": [
    "gap = (lumo - homo)\n",
    "\n",
    "# Eigenvalues and occupations (Kohn–Sham levels)\n",
    "eigs = np.array(calc.get_eigenvalues())\n",
    "occ  = np.array(calc.get_occupation_numbers())\n",
    "\n",
    "# Sort for a clean plot\n",
    "order = np.argsort(eigs)\n",
    "eigs, occ = eigs[order], occ[order]\n",
    "\n",
    "# Split occupied / unoccupied\n",
    "occ_mask = occ > 0.5\n",
    "E_occ = eigs[occ_mask]\n",
    "E_unocc = eigs[~occ_mask]\n",
    "\n",
    "# --- plotting (single chart, no explicit colors) ---\n",
    "plt.figure(figsize=(3, 3.2), dpi=140)\n",
    "\n",
    "# Sticks for occupied and unoccupied states\n",
    "for E in E_occ:\n",
    "    plt.plot([0, 0.6], [E, E],color='C0')\n",
    "for E in E_unocc:\n",
    "    plt.plot([0.7, 1.3], [E, E],color='grey')\n",
    "\n",
    "# Highlight HOMO / LUMO\n",
    "plt.plot([0, 1.3],[homo, homo],color='red', linewidth=2)\n",
    "plt.plot([0, 1.3],[lumo, lumo],color='red', linewidth=2)\n",
    "\n",
    "# Annotate\n",
    "plt.text(1.6,homo-1, 'HOMO', ha='center', va='bottom', fontsize=9)\n",
    "plt.text(1.6, lumo-1, 'LUMO', ha='center', va='bottom', fontsize=9)\n",
    "plt.title(f'HOMO-LUMO gap = {gap:.3f} eV')\n",
    "\n",
    "plt.ylabel('Energia (eV)')\n",
    "plt.xticks([])          # hide y-axis (pure spectrum)\n",
    "plt.ylim(min(eigs)-1, max(eigs)+1)\n",
    "plt.grid(True, axis='y', linestyle=':', linewidth=0.7)\n",
    "plt.tight_layout()\n",
    "\n",
    "print(f\"HOMO = {homo:.3f} eV, LUMO = {lumo:.3f} eV, GAP = {gap:.3f} eV\")"
   ]
  },
  {
   "cell_type": "code",
   "execution_count": 34,
   "id": "805481dc",
   "metadata": {},
   "outputs": [
    {
     "name": "stdout",
     "output_type": "stream",
     "text": [
      "Comprimento de onda da radiação pro gap é de 205.054 nm\n"
     ]
    }
   ],
   "source": [
    "print(f'Comprimento de onda da radiação pro gap é de {1239.8/gap:.3f} nm')"
   ]
  },
  {
   "cell_type": "markdown",
   "id": "feb6fb94",
   "metadata": {},
   "source": [
    "### Adicionando interação de van der Waals\n",
    "\n",
    "$$E_\\text{DFT+vDW} = E_\\text{KS} - \\frac{1}{2}\\sum_{A=1}^M \\sum_{B \\neq A}^M \\frac{C_{AB}}{|\\boldsymbol{R}_A-\\boldsymbol{R}_B|^6}$$\n",
    "\n",
    "com $C_{AB} = (C_A C_B)^{1/2}$ é o coeficiente de dispersão calculado pela fórmula de Casimir-Polder\n",
    "\n",
    "$$C_{AB} = \\frac{3}{\\pi}\\int_0^\\infty \\alpha_A(i \\omega ) \\alpha_B (i \\omega)\\ \\text{d}\\omega$$\n",
    "\n",
    "com $\\alpha_i$ sendo a polarizabilidade do átomo $i$. "
   ]
  },
  {
   "cell_type": "markdown",
   "id": "1975d54f",
   "metadata": {},
   "source": [
    "No VASP, basta fazer `lvdw=True` no `calc`"
   ]
  },
  {
   "cell_type": "code",
   "execution_count": 35,
   "id": "1b620172",
   "metadata": {},
   "outputs": [],
   "source": [
    "calc_vdw = Vasp(directory=\"moleculas/H2O/vdw\",\n",
    "            xc=\"PBE\",\n",
    "            encut=350,\n",
    "            kpts=[1, 1, 1],\n",
    "            ibrion=2,\n",
    "            nsw=100,\n",
    "            lvtot=True,                           # exporta potencial eletrostático (LOCPOT file)\n",
    "            lvdw=True,                            # ligando a interação de vdW\n",
    "            atoms=h2omol)"
   ]
  },
  {
   "cell_type": "code",
   "execution_count": 36,
   "id": "405f0797",
   "metadata": {},
   "outputs": [],
   "source": [
    "Evdw = h2omol.get_potential_energy()   "
   ]
  },
  {
   "cell_type": "code",
   "execution_count": 37,
   "id": "464955b1",
   "metadata": {},
   "outputs": [
    {
     "name": "stdout",
     "output_type": "stream",
     "text": [
      "-0.0021672200000004693  eV\n"
     ]
    }
   ],
   "source": [
    "print(Evdw-E0, ' eV')"
   ]
  },
  {
   "cell_type": "code",
   "execution_count": 39,
   "id": "b9ae996c",
   "metadata": {},
   "outputs": [
    {
     "name": "stdout",
     "output_type": "stream",
     "text": [
      "Lumo: -1.016 eV\n",
      "Homo: -7.067 eV\n",
      "----------\n",
      "Diferença: 6.051 eV\n"
     ]
    }
   ],
   "source": [
    "homo, lumo = calc_vdw.get_homo_lumo()\n",
    "\n",
    "gap = lumo-homo\n",
    "\n",
    "print(f\"Lumo: {lumo:.3f} eV\")\n",
    "print(f\"Homo: {homo:.3f} eV\")\n",
    "print('----------')\n",
    "print(f\"Diferença: {gap:.3f} eV\")"
   ]
  },
  {
   "cell_type": "code",
   "execution_count": 40,
   "id": "853c6509",
   "metadata": {},
   "outputs": [
    {
     "name": "stdout",
     "output_type": "stream",
     "text": [
      "Comprimento de onda da radiação pro gap é de 204.888 nm\n"
     ]
    }
   ],
   "source": [
    "print(f'Comprimento de onda da radiação pro gap é de {1239.8/gap:.3f} nm')"
   ]
  },
  {
   "cell_type": "markdown",
   "id": "0f6d32f3",
   "metadata": {},
   "source": [
    "---\n",
    "\n",
    "# Geometria de Sólidos"
   ]
  },
  {
   "cell_type": "markdown",
   "id": "bd90ee0d",
   "metadata": {},
   "source": [
    "## Cristal de Cu"
   ]
  },
  {
   "cell_type": "markdown",
   "id": "dcce4c3e",
   "metadata": {},
   "source": [
    "Criando a partir dos vetores da base do FCC"
   ]
  },
  {
   "cell_type": "code",
   "execution_count": 40,
   "id": "f4193e9d",
   "metadata": {},
   "outputs": [
    {
     "name": "stdout",
     "output_type": "stream",
     "text": [
      "Atoms(symbols='Cu', pbc=True, cell=[[1.265, 1.265, 0.0], [0.0, 1.265, 1.265], [1.265, 0.0, 1.265]])\n",
      "Cell: Cell([[1.265, 1.265, 0.0], [0.0, 1.265, 1.265], [1.265, 0.0, 1.265]])\n",
      "Positions:\n",
      " [[0. 0. 0.]]\n"
     ]
    }
   ],
   "source": [
    "a = 2.53\n",
    "Cu_crystal = Atoms([Atom(\"Cu\", (0, 0, 0))],\n",
    "                cell=0.5 * a * np.array([[1.0, 1.0, 0.0],\n",
    "                [0.0, 1.0, 1.0],\n",
    "                [1.0, 0.0, 1.0]]), pbc=True)\n",
    "\n",
    "print(Cu_crystal)\n",
    "print(\"Cell:\", Cu_crystal.get_cell())\n",
    "print(\"Positions:\\n\", Cu_crystal.get_positions())"
   ]
  },
  {
   "cell_type": "code",
   "execution_count": 41,
   "id": "0d4410d4",
   "metadata": {},
   "outputs": [
    {
     "data": {
      "text/html": [
       "<html>\n",
       "    <head>\n",
       "        <title>ASE atomic visualization</title>\n",
       "        <link rel=\"stylesheet\" type=\"text/css\"             href=\"https://www.x3dom.org/release/x3dom.css\"></link>\n",
       "        <script type=\"text/javascript\"             src=\"https://www.x3dom.org/release/x3dom.js\"></script>\n",
       "    </head>\n",
       "    <body>\n",
       "        <X3D width=\"400px\"; height=\"300px\";>\n",
       "\n",
       "<!--Inserting Generated X3D Scene-->\n",
       "<scene>\n",
       "  <viewpoint position=\"0 0 2.53\">\n",
       "    <group/>\n",
       "  </viewpoint>\n",
       "  <transform translation=\"-0.6325 -0.6325 -0.6325\">\n",
       "    <group>\n",
       "      <group>\n",
       "        <transform translation=\"0 0 0\">\n",
       "          <shape>\n",
       "            <appearance>\n",
       "              <material diffuseColor=\"0 0 0\"/>\n",
       "            </appearance>\n",
       "            <lineset vertexCount=\"5\">\n",
       "              <coordinate point=\"0 0 0 1.265 1.265 0.0 1.265 2.53 1.265 0.0 1.265 1.265 0 0 0\"/>\n",
       "            </lineset>\n",
       "          </shape>\n",
       "        </transform>\n",
       "        <transform translation=\"1.265 0.0 1.265\">\n",
       "          <shape>\n",
       "            <appearance>\n",
       "              <material diffuseColor=\"0 0 0\"/>\n",
       "            </appearance>\n",
       "            <lineset vertexCount=\"5\">\n",
       "              <coordinate point=\"0 0 0 1.265 1.265 0.0 1.265 2.53 1.265 0.0 1.265 1.265 0 0 0\"/>\n",
       "            </lineset>\n",
       "          </shape>\n",
       "        </transform>\n",
       "        <transform translation=\"0 0 0\">\n",
       "          <shape>\n",
       "            <appearance>\n",
       "              <material diffuseColor=\"0 0 0\"/>\n",
       "            </appearance>\n",
       "            <lineset vertexCount=\"5\">\n",
       "              <coordinate point=\"0 0 0 1.265 1.265 0.0 2.53 1.265 1.265 1.265 0.0 1.265 0 0 0\"/>\n",
       "            </lineset>\n",
       "          </shape>\n",
       "        </transform>\n",
       "        <transform translation=\"0.0 1.265 1.265\">\n",
       "          <shape>\n",
       "            <appearance>\n",
       "              <material diffuseColor=\"0 0 0\"/>\n",
       "            </appearance>\n",
       "            <lineset vertexCount=\"5\">\n",
       "              <coordinate point=\"0 0 0 1.265 1.265 0.0 2.53 1.265 1.265 1.265 0.0 1.265 0 0 0\"/>\n",
       "            </lineset>\n",
       "          </shape>\n",
       "        </transform>\n",
       "      </group>\n",
       "      <group>\n",
       "        <transform translation=\"0.0 0.0 0.0\">\n",
       "          <shape>\n",
       "            <appearance>\n",
       "              <material diffuseColor=\"0.784 0.502 0.2\"/>\n",
       "            </appearance>\n",
       "            <sphere radius=\"1.32\"/>\n",
       "          </shape>\n",
       "        </transform>\n",
       "      </group>\n",
       "    </group>\n",
       "  </transform>\n",
       "</scene>\n",
       "<!--End of Inserted Scene-->\n",
       "\n",
       "        </X3D>\n",
       "    </body>\n",
       "</html>\n",
       "\n"
      ],
      "text/plain": [
       "<IPython.core.display.HTML object>"
      ]
     },
     "execution_count": 41,
     "metadata": {},
     "output_type": "execute_result"
    }
   ],
   "source": [
    "view(Cu_crystal, viewer='x3d')"
   ]
  },
  {
   "cell_type": "markdown",
   "id": "0e4a07d5",
   "metadata": {},
   "source": [
    "Criando a partir de arquivo CIF\n",
    "\n",
    "Ref: https://legacy.materialsproject.org/materials/mp-30/"
   ]
  },
  {
   "cell_type": "code",
   "execution_count": 42,
   "id": "ae5e3eb8",
   "metadata": {},
   "outputs": [
    {
     "name": "stdout",
     "output_type": "stream",
     "text": [
      "Atoms(symbols='Cu4', pbc=True, cell=[3.621262, 3.621262, 3.621262], spacegroup_kinds=...)\n",
      "Cell: Cell([3.621262, 3.621262, 3.621262])\n",
      "Positions:\n",
      " [[0.       0.       0.      ]\n",
      " [0.       1.810631 1.810631]\n",
      " [1.810631 0.       1.810631]\n",
      " [1.810631 1.810631 0.      ]]\n"
     ]
    },
    {
     "name": "stderr",
     "output_type": "stream",
     "text": [
      "/tmp/ipykernel_86926/2373156856.py:9: FutureWarning: Please use len(self) or, if your atoms are distributed, self.get_global_number_of_atoms.\n",
      "  Cu_crystal.get_number_of_atoms()\n"
     ]
    },
    {
     "data": {
      "text/plain": [
       "4"
      ]
     },
     "execution_count": 42,
     "metadata": {},
     "output_type": "execute_result"
    }
   ],
   "source": [
    "# Lendo arquivo CIF\n",
    "Cu_crystal = read('structures/Cu.cif') # célula convencional\n",
    "\n",
    "# See basic info\n",
    "print(Cu_crystal)\n",
    "print(\"Cell:\", Cu_crystal.get_cell())\n",
    "print(\"Positions:\\n\", Cu_crystal.get_positions())\n",
    "\n",
    "Cu_crystal.get_number_of_atoms()"
   ]
  },
  {
   "cell_type": "code",
   "execution_count": 43,
   "id": "2608161f",
   "metadata": {},
   "outputs": [
    {
     "data": {
      "text/html": [
       "<html>\n",
       "    <head>\n",
       "        <title>ASE atomic visualization</title>\n",
       "        <link rel=\"stylesheet\" type=\"text/css\"             href=\"https://www.x3dom.org/release/x3dom.css\"></link>\n",
       "        <script type=\"text/javascript\"             src=\"https://www.x3dom.org/release/x3dom.js\"></script>\n",
       "    </head>\n",
       "    <body>\n",
       "        <X3D width=\"400px\"; height=\"300px\";>\n",
       "\n",
       "<!--Inserting Generated X3D Scene-->\n",
       "<scene>\n",
       "  <viewpoint position=\"0 0 7.242524\">\n",
       "    <group/>\n",
       "  </viewpoint>\n",
       "  <transform translation=\"-1.810631 -1.810631 -1.810631\">\n",
       "    <group>\n",
       "      <group>\n",
       "        <transform translation=\"0 0 0\">\n",
       "          <shape>\n",
       "            <appearance>\n",
       "              <material diffuseColor=\"0 0 0\"/>\n",
       "            </appearance>\n",
       "            <lineset vertexCount=\"5\">\n",
       "              <coordinate point=\"0 0 0 3.621262 0.0 0.0 3.621262 3.621262 0.0 0.0 3.621262 0.0 0 0 0\"/>\n",
       "            </lineset>\n",
       "          </shape>\n",
       "        </transform>\n",
       "        <transform translation=\"0.0 0.0 3.621262\">\n",
       "          <shape>\n",
       "            <appearance>\n",
       "              <material diffuseColor=\"0 0 0\"/>\n",
       "            </appearance>\n",
       "            <lineset vertexCount=\"5\">\n",
       "              <coordinate point=\"0 0 0 3.621262 0.0 0.0 3.621262 3.621262 0.0 0.0 3.621262 0.0 0 0 0\"/>\n",
       "            </lineset>\n",
       "          </shape>\n",
       "        </transform>\n",
       "        <transform translation=\"0 0 0\">\n",
       "          <shape>\n",
       "            <appearance>\n",
       "              <material diffuseColor=\"0 0 0\"/>\n",
       "            </appearance>\n",
       "            <lineset vertexCount=\"5\">\n",
       "              <coordinate point=\"0 0 0 3.621262 0.0 0.0 3.621262 0.0 3.621262 0.0 0.0 3.621262 0 0 0\"/>\n",
       "            </lineset>\n",
       "          </shape>\n",
       "        </transform>\n",
       "        <transform translation=\"0.0 3.621262 0.0\">\n",
       "          <shape>\n",
       "            <appearance>\n",
       "              <material diffuseColor=\"0 0 0\"/>\n",
       "            </appearance>\n",
       "            <lineset vertexCount=\"5\">\n",
       "              <coordinate point=\"0 0 0 3.621262 0.0 0.0 3.621262 0.0 3.621262 0.0 0.0 3.621262 0 0 0\"/>\n",
       "            </lineset>\n",
       "          </shape>\n",
       "        </transform>\n",
       "      </group>\n",
       "      <group>\n",
       "        <transform translation=\"0.0 0.0 0.0\">\n",
       "          <shape>\n",
       "            <appearance>\n",
       "              <material diffuseColor=\"0.784 0.502 0.2\"/>\n",
       "            </appearance>\n",
       "            <sphere radius=\"1.32\"/>\n",
       "          </shape>\n",
       "        </transform>\n",
       "        <transform translation=\"0.0 1.810631 1.810631\">\n",
       "          <shape>\n",
       "            <appearance>\n",
       "              <material diffuseColor=\"0.784 0.502 0.2\"/>\n",
       "            </appearance>\n",
       "            <sphere radius=\"1.32\"/>\n",
       "          </shape>\n",
       "        </transform>\n",
       "        <transform translation=\"1.810631 0.0 1.810631\">\n",
       "          <shape>\n",
       "            <appearance>\n",
       "              <material diffuseColor=\"0.784 0.502 0.2\"/>\n",
       "            </appearance>\n",
       "            <sphere radius=\"1.32\"/>\n",
       "          </shape>\n",
       "        </transform>\n",
       "        <transform translation=\"1.810631 1.810631 0.0\">\n",
       "          <shape>\n",
       "            <appearance>\n",
       "              <material diffuseColor=\"0.784 0.502 0.2\"/>\n",
       "            </appearance>\n",
       "            <sphere radius=\"1.32\"/>\n",
       "          </shape>\n",
       "        </transform>\n",
       "      </group>\n",
       "    </group>\n",
       "  </transform>\n",
       "</scene>\n",
       "<!--End of Inserted Scene-->\n",
       "\n",
       "        </X3D>\n",
       "    </body>\n",
       "</html>\n",
       "\n"
      ],
      "text/plain": [
       "<IPython.core.display.HTML object>"
      ]
     },
     "execution_count": 43,
     "metadata": {},
     "output_type": "execute_result"
    }
   ],
   "source": [
    "view(Cu_crystal, viewer='x3d')"
   ]
  },
  {
   "cell_type": "code",
   "execution_count": 44,
   "id": "dc80af1a",
   "metadata": {},
   "outputs": [],
   "source": [
    "calc = Vasp(directory='solidos/Cu',\n",
    "                xc='PBE',\n",
    "                kpts=[6, 6, 6],  # specifies k-points\n",
    "                encut=350,\n",
    "                atoms = Cu_crystal)"
   ]
  },
  {
   "cell_type": "code",
   "execution_count": 45,
   "id": "0183b3fc",
   "metadata": {},
   "outputs": [
    {
     "name": "stdout",
     "output_type": "stream",
     "text": [
      "Energia total do cristal de Cu: -14.892 eV\n"
     ]
    }
   ],
   "source": [
    "E_Cu = Cu_crystal.get_potential_energy()\n",
    "\n",
    "print(f'Energia total do cristal de Cu: {E_Cu:.3f} eV')"
   ]
  },
  {
   "cell_type": "code",
   "execution_count": 46,
   "id": "2f0e07ff",
   "metadata": {},
   "outputs": [
    {
     "name": "stdout",
     "output_type": "stream",
     "text": [
      "Energia por átomo de Cu -3.723 eV\n"
     ]
    }
   ],
   "source": [
    "E_per_Cu = E_Cu / len(Cu_crystal)\n",
    "\n",
    "print(f'Energia por átomo de Cu {E_per_Cu:.3f} eV')"
   ]
  },
  {
   "cell_type": "markdown",
   "id": "1dfe122b",
   "metadata": {},
   "source": [
    "### Otimizando parâmetros do VASP"
   ]
  },
  {
   "cell_type": "markdown",
   "id": "c0d5e6ab",
   "metadata": {},
   "source": [
    "Variando número de `kpoints`"
   ]
  },
  {
   "cell_type": "code",
   "execution_count": 94,
   "id": "10797468",
   "metadata": {},
   "outputs": [
    {
     "name": "stdout",
     "output_type": "stream",
     "text": [
      "KPOINTS = 2.0, E = -12.301 eV\n",
      "KPOINTS = 3.0, E = -14.417 eV\n",
      "KPOINTS = 4.0, E = -14.702 eV\n",
      "KPOINTS = 5.0, E = -14.801 eV\n",
      "KPOINTS = 6.0, E = -14.895 eV\n",
      "KPOINTS = 8.0, E = -14.945 eV\n",
      "KPOINTS = 10.0, E = -14.946 eV\n"
     ]
    }
   ],
   "source": [
    "KPTSarray = [2, 3, 4, 5, 6, 8, 10] # valores de k-points\n",
    "Earray = np.zeros(len(KPTSarray))\n",
    "\n",
    "for i, k in enumerate(KPTSarray):\n",
    "    \n",
    "    calc = Vasp(directory='solidos/Cu/kpoints-{0}'.format(k),\n",
    "                xc='PBE',\n",
    "                kpts=[k, k, k],  # specifies k-points\n",
    "                encut=350,\n",
    "                ibrion=-1,                                  # Sem atualizar posições atômicas\n",
    "                atoms=Cu_crystal)\n",
    "\n",
    "    Earray[i] = Cu_crystal.get_potential_energy()\n",
    "\n",
    "    print(f\"KPOINTS = {k:.1f}, E = {Earray[i]:.3f} eV\")"
   ]
  },
  {
   "cell_type": "code",
   "execution_count": 98,
   "id": "f6e9bae8",
   "metadata": {},
   "outputs": [
    {
     "data": {
      "text/plain": [
       "Text(0, 0.5, 'Energia (eV)')"
      ]
     },
     "execution_count": 98,
     "metadata": {},
     "output_type": "execute_result"
    },
    {
     "data": {
      "image/png": "[encoded data removed]",
      "text/plain": [
       "<Figure size 640x480 with 1 Axes>"
      ]
     },
     "metadata": {},
     "output_type": "display_data"
    }
   ],
   "source": [
    "plt.plot(KPTSarray, Earray, 'o-')\n",
    "plt.xlabel('Número de k-points em cada direção')\n",
    "plt.ylabel('Energia (eV)')\n",
    "# plt.ylim(-15,-14.8)"
   ]
  },
  {
   "cell_type": "markdown",
   "id": "a07d3225",
   "metadata": {},
   "source": [
    "Variando o parâmetro `encut`"
   ]
  },
  {
   "cell_type": "code",
   "execution_count": null,
   "id": "73347655",
   "metadata": {},
   "outputs": [
    {
     "name": "stdout",
     "output_type": "stream",
     "text": [
      "ENCUT = 250.0 Å, E = -14.429 eV\n",
      "ENCUT = 300.0 Å, E = -14.877 eV\n",
      "ENCUT = 350.0 Å, E = -14.895 eV\n",
      "ENCUT = 400.0 Å, E = -14.874 eV\n",
      "ENCUT = 450.0 Å, E = -14.866 eV\n",
      "ENCUT = 500.0 Å, E = -14.867 eV\n"
     ]
    }
   ],
   "source": [
    "ENCUTarray = np.array([250,300,350,400,450,500]) # valores de ENCUT\n",
    "Earray = np.zeros(len(ENCUTarray))\n",
    "\n",
    "for i, encut in enumerate(ENCUTarray):\n",
    "    \n",
    "    calc = Vasp(directory='solidos/Cu/encut-{0}'.format(encut),\n",
    "                xc='PBE',\n",
    "                kpts=[6, 6, 6],                        \n",
    "                encut=encut,\n",
    "                ibrion=-1,                                  # Sem atualizar posições atômicas\n",
    "                atoms=Cu_crystal)\n",
    "\n",
    "    Earray[i] = Cu_crystal.get_potential_energy()\n",
    "\n",
    "    print(f\"ENCUT = {encut:.1f} Å, E = {Earray[i]:.3f} eV\")"
   ]
  },
  {
   "cell_type": "code",
   "execution_count": 93,
   "id": "aa2cdf74",
   "metadata": {},
   "outputs": [
    {
     "data": {
      "text/plain": [
       "Text(0, 0.5, 'Energia (eV)')"
      ]
     },
     "execution_count": 93,
     "metadata": {},
     "output_type": "execute_result"
    },
    {
     "data": {
      "image/png": "[encoded data removed]",
      "text/plain": [
       "<Figure size 640x480 with 1 Axes>"
      ]
     },
     "metadata": {},
     "output_type": "display_data"
    }
   ],
   "source": [
    "plt.plot(ENCUTarray, Earray,'o-')\n",
    "plt.xlabel('ENCUT (eV)')\n",
    "plt.ylabel('Energia (eV)')"
   ]
  },
  {
   "cell_type": "markdown",
   "id": "e8ed29f7",
   "metadata": {},
   "source": [
    "### Otimizando o tamanho da célula cristalina"
   ]
  },
  {
   "cell_type": "code",
   "execution_count": 99,
   "id": "226ee49f",
   "metadata": {},
   "outputs": [
    {
     "data": {
      "text/plain": [
       "Cell([3.6352370954870388, 3.6352370954870388, 3.6352370954870388])"
      ]
     },
     "execution_count": 99,
     "metadata": {},
     "output_type": "execute_result"
    }
   ],
   "source": [
    "Cu_crystal.get_cell()"
   ]
  },
  {
   "cell_type": "code",
   "execution_count": 100,
   "id": "2ea3cc39",
   "metadata": {},
   "outputs": [
    {
     "name": "stdout",
     "output_type": "stream",
     "text": [
      "a =  3.20 Å  -->  E = -10.411968 eV\n",
      "a =  3.40 Å  -->  E = -13.862298 eV\n",
      "a =  3.60 Å  -->  E = -14.853211 eV\n",
      "a =  3.80 Å  -->  E = -14.568704 eV\n",
      "a =  4.00 Å  -->  E = -13.633855 eV\n",
      "a =  4.20 Å  -->  E = -12.410186 eV\n"
     ]
    }
   ],
   "source": [
    "a_cell = np.array([ 3.2, 3.4, 3.6, 3.8, 4.0,4.2]) # valores em Angstrons\n",
    "E_total = np.zeros_like(a_cell)\n",
    "\n",
    "for i, a in enumerate(a_cell):\n",
    "    Cu_crystal.set_cell([a, a, a], scale_atoms=True)\n",
    "\n",
    "    calc = Vasp(directory='solidos/Cu/a-{:.1f}'.format(a),\n",
    "                xc='PBE',\n",
    "                kpts=[6, 6, 6],  # specifies k-points\n",
    "                encut=300,\n",
    "                atoms = Cu_crystal)\n",
    "    \n",
    "    E = Cu_crystal.get_potential_energy()\n",
    "    E_total[i] = E\n",
    "    print(f'a = {a: .2f} Å  -->  E = {E: .6f} eV')"
   ]
  },
  {
   "cell_type": "code",
   "execution_count": 101,
   "id": "1015a1ff",
   "metadata": {},
   "outputs": [
    {
     "data": {
      "text/plain": [
       "Text(0.5, 1.0, 'Energia do Cristal de Cu vs. Parâmetro de Rede a')"
      ]
     },
     "execution_count": 101,
     "metadata": {},
     "output_type": "execute_result"
    },
    {
     "data": {
      "image/png": "[encoded data removed]",
      "text/plain": [
       "<Figure size 640x480 with 1 Axes>"
      ]
     },
     "metadata": {},
     "output_type": "display_data"
    }
   ],
   "source": [
    "plt.plot(a_cell, E_total, 'or')\n",
    "plt.xlabel('a (Å)')\n",
    "plt.ylabel('Energia (eV)')\n",
    "plt.title('Energia do Cristal de Cu vs. Parâmetro de Rede a')"
   ]
  },
  {
   "cell_type": "markdown",
   "id": "817fbc45",
   "metadata": {},
   "source": [
    "Fitting de polinômio quadrático"
   ]
  },
  {
   "cell_type": "code",
   "execution_count": 102,
   "id": "1ef3aec5",
   "metadata": {},
   "outputs": [],
   "source": [
    "z = np.polyfit(a_cell, E_total, 2)\n",
    "p = np.poly1d(z)"
   ]
  },
  {
   "cell_type": "markdown",
   "id": "64442645",
   "metadata": {},
   "source": [
    "#### Equação de Estado de Murnaghan\n",
    "\n",
    "$$E(V) = E_0 + \\frac{B_0 V}{B_0'}\\left[\\frac{(V_0/V)^{B_0'}}{B_0'-1}+1 \\right] - \\frac{B_0 V}{B_0'-1}$$\n",
    "\n",
    "com \n",
    "- $V$: volume da célula unitária\n",
    "- $V_0$: volume da célula unitária com energia mínima\n",
    "- $B_0$: módulo de compressibilidade $B_0 = - V (\\partial P /\\partial V)_T$.\n",
    "- $B_0'$: derivada do módulo de compressibilidade com a pressão\n",
    "\n",
    "*Ref:* C. L. Fu and K. M. Ho. First-principles calculation of the equilibrium ground-state properties of transition metals: Applications to Nb and Mo. Phys. Rev. B, 28:5480–5486, Nov 1983. doi: [10.1103/PhysRevB.28.5480](http://link.aps.org/doi/10.1103/PhysRevB.28.5480)."
   ]
  },
  {
   "cell_type": "code",
   "execution_count": 103,
   "id": "4e8cfd0f",
   "metadata": {},
   "outputs": [
    {
     "name": "stdout",
     "output_type": "stream",
     "text": [
      "Fitted parameters: a0=3.6381 Å, E0=-14.8420 eV, B0=0.7667 eV/Å³, BP=5.0418\n"
     ]
    }
   ],
   "source": [
    "def Murnaghan(a, a0, E0, B0, BP):\n",
    "    vol = a**3\n",
    "    V0 = a0**3\n",
    "    return E0 + (B0*vol/BP)*(((V0/vol)**BP)/(BP-1)+1) - V0*B0/(BP-1)\n",
    "\n",
    "\n",
    "from scipy.optimize import curve_fit\n",
    "\n",
    "popt, pcov = curve_fit(Murnaghan, a_cell, E_total, p0=[a_cell[E_total.argmin()],E_total.min(),0.0,2.0])\n",
    "\n",
    "a0 = popt[0]\n",
    "E0 = popt[1]\n",
    "B0 = popt[2]\n",
    "BP = popt[3]\n",
    "\n",
    "print(f'Fitted parameters: a0={a0:.4f} Å, E0={E0:.4f} eV, B0={B0:.4f} eV/Å³, BP={BP:.4f}')"
   ]
  },
  {
   "cell_type": "code",
   "execution_count": 104,
   "id": "0c5eb820",
   "metadata": {},
   "outputs": [
    {
     "data": {
      "text/plain": [
       "<matplotlib.legend.Legend at 0x7fe881aee5d0>"
      ]
     },
     "execution_count": 104,
     "metadata": {},
     "output_type": "execute_result"
    },
    {
     "data": {
      "image/png": "[encoded data removed]",
      "text/plain": [
       "<Figure size 640x480 with 1 Axes>"
      ]
     },
     "metadata": {},
     "output_type": "display_data"
    }
   ],
   "source": [
    "a_array = np.arange(a_cell[0], a_cell[-1]+0.01, 0.01)\n",
    "\n",
    "plt.plot(a_cell, E_total, 'or')\n",
    "plt.plot(a_array, p(a_array), '--',label='Quadrática')\n",
    "plt.plot(a_array, Murnaghan(a_array,*popt), '-k',label='Murnaghan')\n",
    "plt.xlabel('a (Å)')\n",
    "plt.ylabel('Energia (eV)')\n",
    "plt.title('Energia do Cristal de Cu vs. Parâmetro de Rede a')\n",
    "plt.legend(loc='best')"
   ]
  },
  {
   "cell_type": "markdown",
   "id": "b9da4735",
   "metadata": {},
   "source": [
    "Calculando energia para a geometria otimizada"
   ]
  },
  {
   "cell_type": "code",
   "execution_count": 105,
   "id": "38848add",
   "metadata": {},
   "outputs": [],
   "source": [
    "Cu_crystal.set_cell([a0, a0, a0], scale_atoms=True)\n",
    "\n",
    "calc = Vasp(directory='solidos/Cu',\n",
    "                xc='PBE',\n",
    "                kpts=[6, 6, 6],  # specifies k-points\n",
    "                encut=300,\n",
    "                atoms = Cu_crystal)"
   ]
  },
  {
   "cell_type": "code",
   "execution_count": 106,
   "id": "adf90e91",
   "metadata": {},
   "outputs": [
    {
     "name": "stdout",
     "output_type": "stream",
     "text": [
      "Energia total do cristal de Cu: -14.875 eV\n",
      "Energia por átomo de Cu -3.719 eV\n"
     ]
    }
   ],
   "source": [
    "E_Cu = Cu_crystal.get_potential_energy()\n",
    "\n",
    "print(f'Energia total do cristal de Cu: {E_Cu:.3f} eV')\n",
    "\n",
    "E_per_Cu = E_Cu / len(Cu_crystal)\n",
    "\n",
    "print(f'Energia por átomo de Cu {E_per_Cu:.3f} eV')"
   ]
  },
  {
   "cell_type": "markdown",
   "id": "aa2befeb",
   "metadata": {},
   "source": [
    "### Otimizando geometria direto no VASP"
   ]
  },
  {
   "cell_type": "code",
   "execution_count": 114,
   "id": "16f85fb9",
   "metadata": {},
   "outputs": [
    {
     "data": {
      "text/plain": [
       "Cell([3.621262, 3.621262, 3.621262])"
      ]
     },
     "execution_count": 114,
     "metadata": {},
     "output_type": "execute_result"
    }
   ],
   "source": [
    "# Lendo arquivo CIF\n",
    "Cu_crystal = read('structures/Cu.cif') # célula convencional\n",
    "\n",
    "Cu_crystal.get_cell()"
   ]
  },
  {
   "cell_type": "code",
   "execution_count": 115,
   "id": "2b8cff18",
   "metadata": {},
   "outputs": [],
   "source": [
    "calc_eq = Vasp(directory='solidos/Cu/relaxed',\n",
    "                xc='PBE',\n",
    "                kpts=[6, 6, 6],  # specifies k-points\n",
    "                encut=350,\n",
    "                prec='High',\n",
    "                isif=3,\n",
    "                nsw=10,\n",
    "                ibrion=2,\n",
    "                atoms=Cu_crystal\n",
    "                )"
   ]
  },
  {
   "cell_type": "code",
   "execution_count": 116,
   "id": "10112195",
   "metadata": {},
   "outputs": [
    {
     "name": "stdout",
     "output_type": "stream",
     "text": [
      "Energia total do cristal de Cu: -14.893 eV\n",
      "Energia por átomo de Cu -3.723 eV\n"
     ]
    }
   ],
   "source": [
    "E_Cu = Cu_crystal.get_potential_energy()\n",
    "\n",
    "print(f'Energia total do cristal de Cu: {E_Cu:.3f} eV')\n",
    "\n",
    "E_per_Cu = E_Cu / len(Cu_crystal)\n",
    "\n",
    "print(f'Energia por átomo de Cu {E_per_Cu:.3f} eV')"
   ]
  },
  {
   "cell_type": "code",
   "execution_count": 117,
   "id": "c796b962",
   "metadata": {},
   "outputs": [
    {
     "name": "stdout",
     "output_type": "stream",
     "text": [
      "Número de passos executados: 5\n"
     ]
    }
   ],
   "source": [
    "print(\"Número de passos executados:\", calc_eq.get_number_of_iterations())"
   ]
  },
  {
   "cell_type": "code",
   "execution_count": 118,
   "id": "441d51d7",
   "metadata": {},
   "outputs": [
    {
     "name": "stdout",
     "output_type": "stream",
     "text": [
      "Cell: Cell([3.633341165239896, 3.633341165239896, 3.633341165239896])\n"
     ]
    }
   ],
   "source": [
    "print(\"Cell:\", Cu_crystal.get_cell())"
   ]
  },
  {
   "cell_type": "code",
   "execution_count": 119,
   "id": "74b8c653",
   "metadata": {},
   "outputs": [
    {
     "data": {
      "text/plain": [
       "np.float64(3.6380917253747778)"
      ]
     },
     "execution_count": 119,
     "metadata": {},
     "output_type": "execute_result"
    }
   ],
   "source": [
    "a0"
   ]
  },
  {
   "cell_type": "markdown",
   "id": "f5694d39",
   "metadata": {},
   "source": [
    "Exportando arquivo `xyz`"
   ]
  },
  {
   "cell_type": "code",
   "execution_count": 120,
   "id": "6b806731",
   "metadata": {},
   "outputs": [],
   "source": [
    "write('Cu_relaxed.xyz', Cu_crystal)"
   ]
  },
  {
   "cell_type": "code",
   "execution_count": null,
   "id": "4afa6688",
   "metadata": {},
   "outputs": [],
   "source": []
  }
 ],
 "metadata": {
  "kernelspec": {
   "display_name": "quantum",
   "language": "python",
   "name": "python3"
  },
  "language_info": {
   "codemirror_mode": {
    "name": "ipython",
    "version": 3
   },
   "file_extension": ".py",
   "mimetype": "text/x-python",
   "name": "python",
   "nbconvert_exporter": "python",
   "pygments_lexer": "ipython3",
   "version": "3.13.5"
  }
 },
 "nbformat": 4,
 "nbformat_minor": 5
}
