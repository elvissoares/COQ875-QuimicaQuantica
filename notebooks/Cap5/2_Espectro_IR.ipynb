{
 "cells": [
  {
   "cell_type": "markdown",
   "id": "ce65b547",
   "metadata": {},
   "source": [
    "# Espectro IR usando VASP e ASE\n",
    "\n",
    "Autor: [Prof. Elvis do A. Soares](https://github.com/elvissoares) \n",
    "\n",
    "Contato: [elvis@peq.coppe.ufrj.br](mailto:elvis@peq.coppe.ufrj.br) - [Programa de Engenharia Química, PEQ/COPPE, UFRJ, Brasil](https://www.peq.coppe.ufrj.br/)\n",
    "\n",
    "---"
   ]
  },
  {
   "cell_type": "markdown",
   "id": "b76df15e",
   "metadata": {},
   "source": [
    "Importando variáveis do VASP"
   ]
  },
  {
   "cell_type": "code",
   "execution_count": 1,
   "id": "98140eb8",
   "metadata": {},
   "outputs": [],
   "source": [
    "import os\n",
    "# Definindo o path para os arquivos de potencial de pseudopotenciais do VASP\n",
    "# Certifique-se de que o caminho esteja correto para o seu sistema\n",
    "os.environ['VASP_PP_PATH'] = '/home/elvis/Programs/vasp-6.5.1/pp'\n",
    "os.environ['ASE_VASP_COMMAND'] = 'mpirun -np 1 vasp_std_gpu'\n",
    "os.environ['NO_STOP_MESSAGE'] = '1' # to avoid warning from mpirun\n",
    "\n",
    "# Importando o VASP calculator do ASE\n",
    "from ase.calculators.vasp import Vasp"
   ]
  },
  {
   "cell_type": "code",
   "execution_count": 2,
   "id": "1aba56d4",
   "metadata": {},
   "outputs": [],
   "source": [
    "import numpy as np\n",
    "import matplotlib.pyplot as plt\n",
    "\n",
    "from ase.io import write, read\n",
    "from ase.visualize import view\n",
    "from ase.build import molecule"
   ]
  },
  {
   "cell_type": "markdown",
   "id": "3714bd98",
   "metadata": {},
   "source": [
    "# Calculando espectro IR pelo ASE"
   ]
  },
  {
   "cell_type": "markdown",
   "id": "c3b51bd1",
   "metadata": {},
   "source": [
    "## Molécula de H2O"
   ]
  },
  {
   "cell_type": "markdown",
   "id": "78b0aeea",
   "metadata": {},
   "source": [
    "Lendo a geometria da água otimizada na aula passada"
   ]
  },
  {
   "cell_type": "code",
   "execution_count": 68,
   "id": "a1a42026",
   "metadata": {},
   "outputs": [],
   "source": [
    "calc = Vasp(restart=True,directory='water/relaxed')\n",
    "water = calc.get_atoms()"
   ]
  },
  {
   "cell_type": "markdown",
   "id": "a3d0d6f7",
   "metadata": {},
   "source": [
    "Definindo a calculadora para o Infrared"
   ]
  },
  {
   "cell_type": "code",
   "execution_count": 33,
   "id": "80b8987e",
   "metadata": {},
   "outputs": [],
   "source": [
    "# now define a new calculator\n",
    "calc = Vasp(directory=\"water/ir_calculation\",\n",
    "        xc=\"PBE\",\n",
    "        prec='Accurate',\n",
    "        ediff=1E-8,\n",
    "        isym=0,\n",
    "        ibrion=-1,\n",
    "        ldipol=True, \n",
    "        idipol = 4,            # full 3D dipole (molecules)\n",
    "        dipol=water.get_center_of_mass(scaled=True), # dipole position is CM\n",
    "        atoms=water)"
   ]
  },
  {
   "cell_type": "code",
   "execution_count": 34,
   "id": "cb9dad56",
   "metadata": {},
   "outputs": [
    {
     "name": "stdout",
     "output_type": "stream",
     "text": [
      "-------------------------------------\n",
      " Mode    Frequency        Intensity\n",
      "  #    meV     cm^-1   (D/Å)^2 amu^-1\n",
      "-------------------------------------\n",
      "  0   13.9i    112.1i     5.1731\n",
      "  1   13.5i    109.1i     1.8115\n",
      "  2    8.6i     69.5i     0.0000\n",
      "  3    0.1i      1.0i     0.0000\n",
      "  4    1.1       8.7      0.0115\n",
      "  5    1.9      15.6      0.1000\n",
      "  6  194.9    1572.2      1.6351\n",
      "  7  459.1    3702.7      0.0256\n",
      "  8  473.6    3819.7      1.1764\n",
      "-------------------------------------\n",
      "Zero-point energy: 0.565 eV\n",
      "Static dipole moment: 1.825 D\n",
      "Maximum force on atom in `equilibrium`: 0.0412 eV/Å\n",
      "\n"
     ]
    }
   ],
   "source": [
    "from ase.vibrations import Infrared\n",
    "\n",
    "ir = Infrared(water,name='water/ir')\n",
    "ir.run()\n",
    "ir.summary()"
   ]
  },
  {
   "cell_type": "markdown",
   "id": "3b8c2f1b",
   "metadata": {},
   "source": [
    "Efetua o cálculo do espectro"
   ]
  },
  {
   "cell_type": "code",
   "execution_count": 37,
   "id": "021bdb66",
   "metadata": {},
   "outputs": [
    {
     "data": {
      "text/plain": [
       "Text(0, 0.5, 'Intensity [(D/Å)^2 amu^-1]')"
      ]
     },
     "execution_count": 37,
     "metadata": {},
     "output_type": "execute_result"
    },
    {
     "data": {
      "image/png": "[encoded data removed]",
      "text/plain": [
       "<Figure size 640x480 with 1 Axes>"
      ]
     },
     "metadata": {},
     "output_type": "display_data"
    }
   ],
   "source": [
    "freq, I = ir.get_spectrum()\n",
    "\n",
    "plt.plot(freq,I)\n",
    "plt.xlabel('Frequency [cm^-1]')\n",
    "plt.ylabel('Intensity [(D/Å)^2 amu^-1]')"
   ]
  },
  {
   "cell_type": "markdown",
   "id": "fc673e87",
   "metadata": {},
   "source": [
    "# Calculando espectro IR usando Phonopy e Phonopy-Spectroscopy"
   ]
  },
  {
   "cell_type": "markdown",
   "id": "988d0615",
   "metadata": {},
   "source": [
    "1. Instale PHONOPY no ambiente `quantum` usando o comando abaixo\n",
    "\n",
    "```bash\n",
    "conda install -c conda-forge phonopy\n",
    "```\n"
   ]
  },
  {
   "cell_type": "markdown",
   "id": "ae38ca8d",
   "metadata": {},
   "source": [
    "2. Entre na pasta `home/{seu_usuario}/Programs` do linux, e faça um clone do repositório do `Phonopy-Spectroscopy` através do comando \n",
    "\n",
    "```bash\n",
    "git clone https://github.com/skelton-group/Phonopy-Spectroscopy\n",
    "```\n",
    "\n",
    "e acrescente os seguintes comandos ao arquivo `~/.bashrc`\n",
    "\n",
    "```bash\n",
    "export PYTHONPATH=${PYTHONPATH}:/home/{seu_usuario}/Programs/Phonopy-Spectroscopy/lib\n",
    "export PATH=/home/{seu_usuario}/Programs/Phonopy-Spectroscopy/scripts:$PATH\n",
    "```\n",
    "\n",
    "e faça os scripts se tornarem executáveis usando\n",
    "\n",
    "```bash\n",
    "chmod +x /home/{seu_usuario}/Programs/Phonopy-Spectroscopy/scripts/*\n",
    "```"
   ]
  },
  {
   "cell_type": "code",
   "execution_count": 77,
   "id": "7faa2493",
   "metadata": {},
   "outputs": [],
   "source": [
    "calc = Vasp(restart=True,directory='water/relaxed')\n",
    "water = calc.get_atoms()"
   ]
  },
  {
   "cell_type": "code",
   "execution_count": 78,
   "id": "eca02fd8",
   "metadata": {},
   "outputs": [],
   "source": [
    "calc = Vasp(directory='water/dfpt_gamma_ir',\n",
    "            xc='PBE',\n",
    "            encut=450,                 \n",
    "            algo='Fast',\n",
    "            ismear=0, sigma=0.01,      # for molecules\n",
    "            ediff=1e-8,                # tight SCF\n",
    "            ibrion=-1,                 # Single-Point Force\n",
    "            isif=2,\n",
    "            nsw=0,                     # single perturbative step\n",
    "            nelm = 250,\n",
    "            prec='Accurate',\n",
    "            lcharg=False, lreal=False, lwave=False, # no output\n",
    "            atoms=water\n",
    "        )\n",
    "calc.calculate(water)"
   ]
  },
  {
   "cell_type": "markdown",
   "id": "eed8ad55",
   "metadata": {},
   "source": [
    "2. Gera os deslocamentos usando o comando abaixo na pasta `water/dfpt_gamma_ir`\n",
    "\n",
    "```bash\n",
    "phonopy -d --dim=\"1 1 1\"\n",
    "```\n"
   ]
  },
  {
   "cell_type": "markdown",
   "id": "a2f9349f",
   "metadata": {},
   "source": [
    "3. Lê os arquivos de `POSCAR-00X` gerados e efetua o cálculo de Single Point para cada arquivo separadamente."
   ]
  },
  {
   "cell_type": "code",
   "execution_count": 80,
   "id": "61a10a26",
   "metadata": {},
   "outputs": [],
   "source": [
    "for i in range(6):\n",
    "    w = read(f'water/dfpt_gamma_ir/POSCAR-00{i+1:d}')\n",
    "    \n",
    "    calc = Vasp(directory=f'water/dfpt_gamma_ir/disp-00{i+1:d}',\n",
    "            xc='PBE',\n",
    "            encut=450,                 \n",
    "            algo='Fast',\n",
    "            ismear=0, sigma=0.01,      # for molecules\n",
    "            ediff=1e-8,                # tight SCF\n",
    "            ibrion=-1,                 # Single-Point Force\n",
    "            isif=2,\n",
    "            nsw=0,                     # single perturbative step\n",
    "            nelm = 250,\n",
    "            prec='Accurate',\n",
    "            lcharg=False, lreal=False, lwave=False, # no output\n",
    "            atoms=w\n",
    "        )\n",
    "    calc.calculate(w)\n"
   ]
  },
  {
   "cell_type": "markdown",
   "id": "a1528c26",
   "metadata": {},
   "source": [
    "4. Usa o comando abaixo para ler as forças\n",
    "\n",
    "```bash\n",
    "phonopy -f disp-{001..006}/vasprun.xml\n",
    "```\n",
    "\n",
    "5. Gere um arquivo `mesh.yaml` usando o comando\n",
    "\n",
    "```bash\n",
    "phonopy --dim=\"1 1 1\" --fc-symmetry --mesh=\"1 1 1\" --eigenvectors\n",
    "```"
   ]
  },
  {
   "cell_type": "markdown",
   "id": "7c133c5d",
   "metadata": {},
   "source": [
    "6. Roda um cálculo de otimização para determinar cargas de Born e tensor dielétrico"
   ]
  },
  {
   "cell_type": "code",
   "execution_count": 81,
   "id": "1719548d",
   "metadata": {},
   "outputs": [],
   "source": [
    "calc = Vasp(directory='water/dfpt_gamma_ir',\n",
    "            xc='PBE',\n",
    "            encut=450,                 \n",
    "            algo='Fast',\n",
    "            ismear=0, sigma=0.01,      # for molecules\n",
    "            ediff=1e-8,                # tight SCF\n",
    "            ibrion=7,                  # DFPT Γ phonons (without symmetry)\n",
    "            nsw=0,                     # single perturbative step\n",
    "            nelm = 250,\n",
    "            prec='Accurate',\n",
    "            lcharg=False, lreal=False, lwave=False, # no output\n",
    "            lepsilon=True,             # dielectric tensor + Born charges\n",
    "            lasph=True, addgrid=True,  # usual accuracy flags\n",
    "            atoms=water\n",
    "        )\n",
    "calc.calculate(water)"
   ]
  },
  {
   "cell_type": "markdown",
   "id": "549309c6",
   "metadata": {},
   "source": [
    "> Demorou 7 min"
   ]
  },
  {
   "cell_type": "markdown",
   "id": "d39e9a8e",
   "metadata": {},
   "source": [
    "7. Em seguida, na pasta `water/dfpt_gamma_ir`, crie o arquivo `BORN` usando o comando\n",
    "\n",
    "```bash\n",
    "phonopy-vasp-born > BORN \n",
    "```\n"
   ]
  },
  {
   "cell_type": "markdown",
   "id": "1cb0bc5b",
   "metadata": {},
   "source": [
    "8. Crie o espectro IR usando o comando \n",
    "\n",
    "```bash\n",
    "phonopy-ir --linewidth=16.5 --spectrum-range=\"500 4000\"\n",
    "```"
   ]
  },
  {
   "cell_type": "markdown",
   "id": "5c844876",
   "metadata": {},
   "source": [
    "9. Lê o arquivo gerado"
   ]
  },
  {
   "cell_type": "code",
   "execution_count": 87,
   "id": "38a7f2f6",
   "metadata": {},
   "outputs": [],
   "source": [
    "ir_water_data = np.loadtxt('water/dfpt_gamma_ir/IR-Spectrum.dat', skiprows=1)"
   ]
  },
  {
   "cell_type": "code",
   "execution_count": 89,
   "id": "22c93166",
   "metadata": {},
   "outputs": [
    {
     "data": {
      "text/plain": [
       "Text(0, 0.5, 'Intensity [e^2 amu^-1]')"
      ]
     },
     "execution_count": 89,
     "metadata": {},
     "output_type": "execute_result"
    },
    {
     "data": {
      "image/png": "[encoded data removed]",
      "text/plain": [
       "<Figure size 640x480 with 1 Axes>"
      ]
     },
     "metadata": {},
     "output_type": "display_data"
    }
   ],
   "source": [
    "plt.plot(ir_water_data[:,0],ir_water_data[:,1])\n",
    "plt.xlabel('Frequency [cm^-1]')\n",
    "plt.ylabel('Intensity [e^2 amu^-1]')"
   ]
  },
  {
   "cell_type": "markdown",
   "id": "17bce77d",
   "metadata": {},
   "source": [
    "## Molécula de CO2"
   ]
  },
  {
   "cell_type": "code",
   "execution_count": 90,
   "id": "2f7d4497",
   "metadata": {},
   "outputs": [],
   "source": [
    "calc = Vasp(restart=True,directory='co2/relaxed')\n",
    "co2 = calc.get_atoms()"
   ]
  },
  {
   "cell_type": "code",
   "execution_count": 91,
   "id": "85ec94d3",
   "metadata": {},
   "outputs": [],
   "source": [
    "calc = Vasp(directory='co2/dfpt_gamma_ir',\n",
    "            xc='PBE',\n",
    "            encut=450,                 \n",
    "            algo='Fast',\n",
    "            ismear=0, sigma=0.01,      # for molecules\n",
    "            ediff=1e-8,                # tight SCF\n",
    "            ibrion=-1,                 # Single-Point Force\n",
    "            isif=2,\n",
    "            nsw=0,                     # single perturbative step\n",
    "            nelm = 250,\n",
    "            prec='Accurate',\n",
    "            lcharg=False, lreal=False, lwave=False, # no output\n",
    "            atoms=co2\n",
    "        )\n",
    "calc.calculate(co2)"
   ]
  },
  {
   "cell_type": "code",
   "execution_count": null,
   "id": "0b994e1e",
   "metadata": {},
   "outputs": [],
   "source": [
    "import os, subprocess\n",
    "\n",
    "subprocess.run('conda run -n quantum phonopy -d --dim=\"1 1 1\"',cwd='co2/dfpt_gamma_ir', shell=True, check=True)"
   ]
  },
  {
   "cell_type": "code",
   "execution_count": 95,
   "id": "b9656eb8",
   "metadata": {},
   "outputs": [],
   "source": [
    "for i in range(3):\n",
    "    w = read(f'co2/dfpt_gamma_ir/POSCAR-00{i+1:d}')\n",
    "    \n",
    "    calc = Vasp(directory=f'co2/dfpt_gamma_ir/disp-00{i+1:d}',\n",
    "            xc='PBE',\n",
    "            encut=450,                 \n",
    "            algo='Fast',\n",
    "            ismear=0, sigma=0.01,      # for molecules\n",
    "            ediff=1e-8,                # tight SCF\n",
    "            ibrion=-1,                 # Single-Point Force\n",
    "            isif=2,\n",
    "            nsw=0,                     # single perturbative step\n",
    "            nelm = 250,\n",
    "            prec='Accurate',\n",
    "            lcharg=False, lreal=False, lwave=False, # no output\n",
    "            atoms=w\n",
    "        )\n",
    "    calc.calculate(w)"
   ]
  },
  {
   "cell_type": "code",
   "execution_count": null,
   "id": "a4028d6d",
   "metadata": {},
   "outputs": [],
   "source": [
    "subprocess.run(\"conda run -n quantum phonopy -f disp-{001..003}/vasprun.xml\",cwd='co2/dfpt_gamma_ir', shell=True, check=True)"
   ]
  },
  {
   "cell_type": "code",
   "execution_count": null,
   "id": "4de44a44",
   "metadata": {},
   "outputs": [],
   "source": [
    "subprocess.run('conda run -n quantum phonopy --dim=\"1 1 1\" --fc-symmetry --mesh=\"1 1 1\" --eigenvectors',cwd='co2/dfpt_gamma_ir', shell=True, check=True)"
   ]
  },
  {
   "cell_type": "code",
   "execution_count": 96,
   "id": "af7dc7c9",
   "metadata": {},
   "outputs": [],
   "source": [
    "calc = Vasp(directory='co2/dfpt_gamma_ir',\n",
    "            xc='PBE',\n",
    "            encut=450,                 \n",
    "            algo='Fast',\n",
    "            ismear=0, sigma=0.01,      # for molecules\n",
    "            ediff=1e-8,                # tight SCF\n",
    "            ibrion=7,                  # DFPT Γ phonons (without symmetry)\n",
    "            nsw=0,                     # single perturbative step\n",
    "            nelm = 250,\n",
    "            prec='Accurate',\n",
    "            lcharg=False, lreal=False, lwave=False, # no output\n",
    "            lepsilon=True,             # dielectric tensor + Born charges\n",
    "            lasph=True, addgrid=True,  # usual accuracy flags\n",
    "            atoms=co2\n",
    "        )\n",
    "calc.calculate(co2)"
   ]
  },
  {
   "cell_type": "markdown",
   "id": "5e52fd3d",
   "metadata": {},
   "source": [
    "> Demorou 7 min"
   ]
  },
  {
   "cell_type": "code",
   "execution_count": 98,
   "id": "32698a71",
   "metadata": {},
   "outputs": [
    {
     "data": {
      "text/plain": [
       "CompletedProcess(args='conda run -n quantum phonopy-vasp-born > BORN', returncode=0)"
      ]
     },
     "execution_count": 98,
     "metadata": {},
     "output_type": "execute_result"
    }
   ],
   "source": [
    "subprocess.run(\"conda run -n quantum phonopy-vasp-born > BORN\",cwd='co2/dfpt_gamma_ir', shell=True, check=True)"
   ]
  },
  {
   "cell_type": "code",
   "execution_count": 99,
   "id": "1c1ae1fc",
   "metadata": {},
   "outputs": [
    {
     "name": "stderr",
     "output_type": "stream",
     "text": [
      "/bin/sh: line 1: phonopy-ir: command not found\n"
     ]
    },
    {
     "ename": "CalledProcessError",
     "evalue": "Command 'phonopy-ir --linewidth=16.5 --spectrum-range=\"500 4000\"' returned non-zero exit status 127.",
     "output_type": "error",
     "traceback": [
      "\u001b[31m---------------------------------------------------------------------------\u001b[39m",
      "\u001b[31mCalledProcessError\u001b[39m                        Traceback (most recent call last)",
      "\u001b[36mCell\u001b[39m\u001b[36m \u001b[39m\u001b[32mIn[99]\u001b[39m\u001b[32m, line 1\u001b[39m\n\u001b[32m----> \u001b[39m\u001b[32m1\u001b[39m \u001b[43msubprocess\u001b[49m\u001b[43m.\u001b[49m\u001b[43mrun\u001b[49m\u001b[43m(\u001b[49m\u001b[33;43m'\u001b[39;49m\u001b[33;43mphonopy-ir --linewidth=16.5 --spectrum-range=\u001b[39;49m\u001b[33;43m\"\u001b[39;49m\u001b[33;43m500 4000\u001b[39;49m\u001b[33;43m\"\u001b[39;49m\u001b[33;43m'\u001b[39;49m\u001b[43m,\u001b[49m\u001b[43mcwd\u001b[49m\u001b[43m=\u001b[49m\u001b[33;43m'\u001b[39;49m\u001b[33;43mco2/dfpt_gamma_ir\u001b[39;49m\u001b[33;43m'\u001b[39;49m\u001b[43m,\u001b[49m\u001b[43m \u001b[49m\u001b[43mshell\u001b[49m\u001b[43m=\u001b[49m\u001b[38;5;28;43;01mTrue\u001b[39;49;00m\u001b[43m,\u001b[49m\u001b[43m \u001b[49m\u001b[43mcheck\u001b[49m\u001b[43m=\u001b[49m\u001b[38;5;28;43;01mTrue\u001b[39;49;00m\u001b[43m)\u001b[49m\n",
      "\u001b[36mFile \u001b[39m\u001b[32m~/Programs/miniforge3/envs/quantum/lib/python3.13/subprocess.py:577\u001b[39m, in \u001b[36mrun\u001b[39m\u001b[34m(input, capture_output, timeout, check, *popenargs, **kwargs)\u001b[39m\n\u001b[32m    575\u001b[39m     retcode = process.poll()\n\u001b[32m    576\u001b[39m     \u001b[38;5;28;01mif\u001b[39;00m check \u001b[38;5;129;01mand\u001b[39;00m retcode:\n\u001b[32m--> \u001b[39m\u001b[32m577\u001b[39m         \u001b[38;5;28;01mraise\u001b[39;00m CalledProcessError(retcode, process.args,\n\u001b[32m    578\u001b[39m                                  output=stdout, stderr=stderr)\n\u001b[32m    579\u001b[39m \u001b[38;5;28;01mreturn\u001b[39;00m CompletedProcess(process.args, retcode, stdout, stderr)\n",
      "\u001b[31mCalledProcessError\u001b[39m: Command 'phonopy-ir --linewidth=16.5 --spectrum-range=\"500 4000\"' returned non-zero exit status 127."
     ]
    }
   ],
   "source": [
    "subprocess.run('phonopy-ir --linewidth=16.5 --spectrum-range=\"500 4000\"',cwd='co2/dfpt_gamma_ir', shell=True, check=True)"
   ]
  },
  {
   "cell_type": "code",
   "execution_count": 100,
   "id": "8392ac41",
   "metadata": {},
   "outputs": [],
   "source": [
    "ir_co2_data = np.loadtxt('co2/dfpt_gamma_ir/IR-Spectrum.dat', skiprows=1)"
   ]
  },
  {
   "cell_type": "code",
   "execution_count": 102,
   "id": "fc002000",
   "metadata": {},
   "outputs": [
    {
     "data": {
      "text/plain": [
       "Text(0, 0.5, 'Intensity [e^2 amu^-1]')"
      ]
     },
     "execution_count": 102,
     "metadata": {},
     "output_type": "execute_result"
    },
    {
     "data": {
      "image/png": "[encoded data removed]",
      "text/plain": [
       "<Figure size 640x480 with 1 Axes>"
      ]
     },
     "metadata": {},
     "output_type": "display_data"
    }
   ],
   "source": [
    "plt.plot(ir_co2_data[:,0],ir_co2_data[:,1])\n",
    "plt.plot(ir_water_data[:,0],ir_water_data[:,1])\n",
    "plt.xlabel('Frequency [cm^-1]')\n",
    "plt.ylabel('Intensity [e^2 amu^-1]')"
   ]
  }
 ],
 "metadata": {
  "kernelspec": {
   "display_name": "quantum",
   "language": "python",
   "name": "python3"
  },
  "language_info": {
   "codemirror_mode": {
    "name": "ipython",
    "version": 3
   },
   "file_extension": ".py",
   "mimetype": "text/x-python",
   "name": "python",
   "nbconvert_exporter": "python",
   "pygments_lexer": "ipython3",
   "version": "3.13.5"
  }
 },
 "nbformat": 4,
 "nbformat_minor": 5
}
