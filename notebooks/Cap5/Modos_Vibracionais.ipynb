{
 "cells": [
  {
   "cell_type": "markdown",
   "id": "ce65b547",
   "metadata": {},
   "source": [
    "# Modos Vibracionais de Moléculas usando VASP e ASE\n",
    "\n",
    "Autor: [Prof. Elvis do A. Soares](https://github.com/elvissoares) \n",
    "\n",
    "Contato: [elvis@peq.coppe.ufrj.br](mailto:elvis@peq.coppe.ufrj.br) - [Programa de Engenharia Química, PEQ/COPPE, UFRJ, Brasil](https://www.peq.coppe.ufrj.br/)\n",
    "\n",
    "---"
   ]
  },
  {
   "cell_type": "markdown",
   "id": "b76df15e",
   "metadata": {},
   "source": [
    "Importando variáveis do VASP"
   ]
  },
  {
   "cell_type": "code",
   "execution_count": 1,
   "id": "98140eb8",
   "metadata": {},
   "outputs": [],
   "source": [
    "import os\n",
    "# Definindo o path para os arquivos de potencial de pseudopotenciais do VASP\n",
    "# Certifique-se de que o caminho esteja correto para o seu sistema\n",
    "os.environ['VASP_PP_PATH'] = '/home/elvis/Programs/vasp-6.5.1/pp'\n",
    "os.environ['ASE_VASP_COMMAND'] = 'mpirun -np 1 vasp_std_gpu'\n",
    "os.environ['NO_STOP_MESSAGE'] = '1' # to avoid warning from mpirun\n",
    "\n",
    "# Importando o VASP calculator do ASE\n",
    "from ase.calculators.vasp import Vasp"
   ]
  },
  {
   "cell_type": "code",
   "execution_count": 2,
   "id": "1aba56d4",
   "metadata": {},
   "outputs": [],
   "source": [
    "import numpy as np\n",
    "import matplotlib.pyplot as plt\n",
    "\n",
    "from ase.io import write, read\n",
    "from ase.visualize import view\n",
    "from ase.build import molecule"
   ]
  },
  {
   "cell_type": "markdown",
   "id": "5f9b02bc",
   "metadata": {},
   "source": [
    "## Passos para determinar Vibrações\n",
    "\n",
    "1. Relaxar Geometria da molécula ou sólido\n",
    "2. Calcular modos vibracionais usando VASP"
   ]
  },
  {
   "cell_type": "markdown",
   "id": "ab309cc2",
   "metadata": {},
   "source": [
    "## Relaxando Geometria da Água"
   ]
  },
  {
   "cell_type": "code",
   "execution_count": 58,
   "id": "47f8ca6b",
   "metadata": {},
   "outputs": [
    {
     "name": "stdout",
     "output_type": "stream",
     "text": [
      "Atoms(symbols='OH2', pbc=True, cell=[12.0, 13.526478000000001, 12.596309])\n",
      "Número de átomos: 3\n",
      "Cell: Cell([12.0, 13.526478000000001, 12.596309])\n"
     ]
    }
   ],
   "source": [
    "# Criando molecula de agua\n",
    "water = molecule('H2O')\n",
    "water.center(vacuum=6.0) \n",
    "water.pbc = True \n",
    "\n",
    "# See basic info\n",
    "print(water)\n",
    "print('Número de átomos:', len(water))\n",
    "print(\"Cell:\", water.get_cell())"
   ]
  },
  {
   "cell_type": "code",
   "execution_count": 59,
   "id": "5e61d077",
   "metadata": {},
   "outputs": [
    {
     "data": {
      "text/html": [
       "<html>\n",
       "    <head>\n",
       "        <title>ASE atomic visualization</title>\n",
       "        <link rel=\"stylesheet\" type=\"text/css\"             href=\"https://www.x3dom.org/release/x3dom.css\"></link>\n",
       "        <script type=\"text/javascript\"             src=\"https://www.x3dom.org/release/x3dom.js\"></script>\n",
       "    </head>\n",
       "    <body>\n",
       "        <X3D width=\"400px\"; height=\"300px\";>\n",
       "\n",
       "<!--Inserting Generated X3D Scene-->\n",
       "<scene>\n",
       "  <viewpoint position=\"0 0 27.052956000000002\">\n",
       "    <group/>\n",
       "  </viewpoint>\n",
       "  <transform translation=\"-6.0 -6.7632390000000004 -6.2981545\">\n",
       "    <group>\n",
       "      <group>\n",
       "        <transform translation=\"0 0 0\">\n",
       "          <shape>\n",
       "            <appearance>\n",
       "              <material diffuseColor=\"0 0 0\"/>\n",
       "            </appearance>\n",
       "            <lineset vertexCount=\"5\">\n",
       "              <coordinate point=\"0 0 0 12.0 0.0 0.0 12.0 13.526478000000001 0.0 0.0 13.526478000000001 0.0 0 0 0\"/>\n",
       "            </lineset>\n",
       "          </shape>\n",
       "        </transform>\n",
       "        <transform translation=\"0.0 0.0 12.596309\">\n",
       "          <shape>\n",
       "            <appearance>\n",
       "              <material diffuseColor=\"0 0 0\"/>\n",
       "            </appearance>\n",
       "            <lineset vertexCount=\"5\">\n",
       "              <coordinate point=\"0 0 0 12.0 0.0 0.0 12.0 13.526478000000001 0.0 0.0 13.526478000000001 0.0 0 0 0\"/>\n",
       "            </lineset>\n",
       "          </shape>\n",
       "        </transform>\n",
       "        <transform translation=\"0 0 0\">\n",
       "          <shape>\n",
       "            <appearance>\n",
       "              <material diffuseColor=\"0 0 0\"/>\n",
       "            </appearance>\n",
       "            <lineset vertexCount=\"5\">\n",
       "              <coordinate point=\"0 0 0 12.0 0.0 0.0 12.0 0.0 12.596309 0.0 0.0 12.596309 0 0 0\"/>\n",
       "            </lineset>\n",
       "          </shape>\n",
       "        </transform>\n",
       "        <transform translation=\"0.0 13.526478000000001 0.0\">\n",
       "          <shape>\n",
       "            <appearance>\n",
       "              <material diffuseColor=\"0 0 0\"/>\n",
       "            </appearance>\n",
       "            <lineset vertexCount=\"5\">\n",
       "              <coordinate point=\"0 0 0 12.0 0.0 0.0 12.0 0.0 12.596309 0.0 0.0 12.596309 0 0 0\"/>\n",
       "            </lineset>\n",
       "          </shape>\n",
       "        </transform>\n",
       "      </group>\n",
       "      <group>\n",
       "        <transform translation=\"6.0 6.7632390000000004 6.596309\">\n",
       "          <shape>\n",
       "            <appearance>\n",
       "              <material diffuseColor=\"1.0 0.051 0.051\"/>\n",
       "            </appearance>\n",
       "            <sphere radius=\"0.66\"/>\n",
       "          </shape>\n",
       "        </transform>\n",
       "        <transform translation=\"6.0 7.526478000000001 6.0\">\n",
       "          <shape>\n",
       "            <appearance>\n",
       "              <material diffuseColor=\"1.0 1.0 1.0\"/>\n",
       "            </appearance>\n",
       "            <sphere radius=\"0.31\"/>\n",
       "          </shape>\n",
       "        </transform>\n",
       "        <transform translation=\"6.0 6.0 6.0\">\n",
       "          <shape>\n",
       "            <appearance>\n",
       "              <material diffuseColor=\"1.0 1.0 1.0\"/>\n",
       "            </appearance>\n",
       "            <sphere radius=\"0.31\"/>\n",
       "          </shape>\n",
       "        </transform>\n",
       "      </group>\n",
       "    </group>\n",
       "  </transform>\n",
       "</scene>\n",
       "<!--End of Inserted Scene-->\n",
       "\n",
       "        </X3D>\n",
       "    </body>\n",
       "</html>\n",
       "\n"
      ],
      "text/plain": [
       "<IPython.core.display.HTML object>"
      ]
     },
     "execution_count": 59,
     "metadata": {},
     "output_type": "execute_result"
    }
   ],
   "source": [
    "view(water, viewer='x3d')"
   ]
  },
  {
   "cell_type": "code",
   "execution_count": 60,
   "id": "80d4d5eb",
   "metadata": {},
   "outputs": [],
   "source": [
    "calc = Vasp(\n",
    "            directory='water/relaxed',\n",
    "            xc='PBE',\n",
    "            encut=450,                # safe PAW-PBE default\n",
    "            kpts=[1, 1, 1], gamma=True,\n",
    "            ismear=0, sigma=0.05,     # Gaussian smearing for molecules\n",
    "            ediff=1e-6, ediffg=-0.02, # SCF and force criteria (~0.02 eV/Å)\n",
    "            ibrion=2, isif=0, nsw=150,# CG ionic relax; fixed cell\n",
    "            lreal='Auto',\n",
    "            lwave=True, lcharg=True,lvtot=True,  # keep WAVECAR/CHGCAR/LOCPOT for post-processing\n",
    "            atoms=water\n",
    "        )\n",
    "\n",
    "calc.calculate(water) # doing all the calculations"
   ]
  },
  {
   "cell_type": "code",
   "execution_count": 61,
   "id": "ac956f27",
   "metadata": {},
   "outputs": [
    {
     "name": "stdout",
     "output_type": "stream",
     "text": [
      "Energia da água relaxada: -14.220 eV\n"
     ]
    }
   ],
   "source": [
    "E_wat = water.get_potential_energy()   \n",
    "\n",
    "print('Energia da água relaxada: {:.3f} eV'.format(E_wat))"
   ]
  },
  {
   "cell_type": "code",
   "execution_count": 62,
   "id": "086c27b8",
   "metadata": {},
   "outputs": [
    {
     "name": "stdout",
     "output_type": "stream",
     "text": [
      "Número de passos executados: 5\n"
     ]
    }
   ],
   "source": [
    "print(\"Número de passos executados:\", calc.read_number_of_ionic_steps())"
   ]
  },
  {
   "cell_type": "code",
   "execution_count": 63,
   "id": "22999241",
   "metadata": {},
   "outputs": [],
   "source": [
    "write('water_relaxed.pdb', water)"
   ]
  },
  {
   "cell_type": "markdown",
   "id": "3714bd98",
   "metadata": {},
   "source": [
    "## Calculando frequências de vibração"
   ]
  },
  {
   "cell_type": "code",
   "execution_count": 64,
   "id": "a1a42026",
   "metadata": {},
   "outputs": [],
   "source": [
    "calc = Vasp(restart=True,directory='water/relaxed')\n",
    "water = calc.get_atoms()"
   ]
  },
  {
   "cell_type": "code",
   "execution_count": 65,
   "id": "80b8987e",
   "metadata": {},
   "outputs": [],
   "source": [
    "# now define a new calculator\n",
    "calc = Vasp(directory=\"water/vib_dfpt\",\n",
    "        xc=\"PBE\",\n",
    "        encut=450,\n",
    "        ismear=0, sigma=0.05,   # Gaussian smearing\n",
    "        ibrion=7,               # switches on the DFPT vibrational analysis (with no symmetry constraints)\n",
    "        nfree=2, \n",
    "        lepsilon=True,            # enables to calculate and to print the BEC\n",
    "        # tensors\n",
    "        lreal=False,\n",
    "        nsw=1,\n",
    "        nwrite=3,                 # affects OUTCAR verbosity: explicitly forces\n",
    "        ldipol=True, \n",
    "        idipol = 4,            # full 3D dipole (molecules)\n",
    "        dipol=water.get_center_of_mass(), # dipole position is CM\n",
    "        atoms=water)"
   ]
  },
  {
   "cell_type": "code",
   "execution_count": 66,
   "id": "b71d1dbb",
   "metadata": {},
   "outputs": [],
   "source": [
    "calc.calculate(water) # doing all the calculations"
   ]
  },
  {
   "cell_type": "markdown",
   "id": "8c5cbd2d",
   "metadata": {},
   "source": [
    "Demorou 2m 35s"
   ]
  },
  {
   "cell_type": "markdown",
   "id": "3b8c2f1b",
   "metadata": {},
   "source": [
    "Determinando o momento de dipolo elétrico"
   ]
  },
  {
   "cell_type": "code",
   "execution_count": 68,
   "id": "10c02be1",
   "metadata": {},
   "outputs": [
    {
     "name": "stdout",
     "output_type": "stream",
     "text": [
      "Momento de dipolo elétrico da água: [0.       0.000645 0.37941 ] e.A\n",
      "Magnitude (Debye): 1.8223885394702282\n"
     ]
    }
   ],
   "source": [
    "water_dipole = calc.read_dipole()\n",
    "\n",
    "print(\"Momento de dipolo elétrico da água:\", water_dipole, \"e.A\")\n",
    "print(\"Magnitude (Debye):\", (sum(x**2 for x in water_dipole)**0.5) * 4.80321)"
   ]
  },
  {
   "cell_type": "markdown",
   "id": "8a4fd713",
   "metadata": {},
   "source": [
    "Determinando as frequências de vibração"
   ]
  },
  {
   "cell_type": "code",
   "execution_count": 69,
   "id": "13fac814",
   "metadata": {},
   "outputs": [
    {
     "name": "stdout",
     "output_type": "stream",
     "text": [
      "00: 476.15389 meV\n",
      "01: 462.024703 meV\n",
      "02: 195.938519 meV\n",
      "03: 184.174054 meV\n",
      "04: 11.880398 meV\n",
      "05: 5.82631 meV\n",
      "06: 476.15389 meV\n",
      "07: 462.024703 meV\n",
      "08: 195.938519 meV\n",
      "09: 184.174054 meV\n",
      "10: 11.880398 meV\n",
      "11: 5.82631 meV\n"
     ]
    }
   ],
   "source": [
    "vib_freq = calc.read_vib_freq()\n",
    "\n",
    "for i, f in enumerate(vib_freq[0]):\n",
    "    print(\"{0:02d}: {1} meV\".format(i, f))"
   ]
  },
  {
   "cell_type": "markdown",
   "id": "a69e57eb",
   "metadata": {},
   "source": [
    "Definindo classe `VibrationsData` do ASE"
   ]
  },
  {
   "cell_type": "code",
   "execution_count": 70,
   "id": "cd46ab9d",
   "metadata": {},
   "outputs": [],
   "source": [
    "vib_water = calc.get_vibrations()"
   ]
  },
  {
   "cell_type": "code",
   "execution_count": 71,
   "id": "9cebe71d",
   "metadata": {},
   "outputs": [
    {
     "name": "stdout",
     "output_type": "stream",
     "text": [
      "0: 1865.4472380869524j cm-1\n",
      "1: 82.07321633031867j cm-1\n",
      "2: 10.09469794243793j cm-1\n",
      "3: (46.99237770756244+0j) cm-1\n",
      "4: (95.82191212706063+0j) cm-1\n",
      "5: (1485.4645979709162+0j) cm-1\n",
      "6: (1580.3514448657702+0j) cm-1\n",
      "7: (3726.482221680183+0j) cm-1\n",
      "8: (3840.4418555609577+0j) cm-1\n"
     ]
    }
   ],
   "source": [
    "freq = vib_water.get_frequencies()\n",
    "\n",
    "for i, f in enumerate(freq):\n",
    "    print(\"{0:01d}: {1} cm-1\".format(i, f))"
   ]
  },
  {
   "cell_type": "markdown",
   "id": "4711b54e",
   "metadata": {},
   "source": [
    "Exportando GIFs com os modos de vibração"
   ]
  },
  {
   "cell_type": "code",
   "execution_count": 72,
   "id": "0ec217d6",
   "metadata": {},
   "outputs": [
    {
     "name": "stderr",
     "output_type": "stream",
     "text": [
      "/home/elvis/Programs/miniforge3/envs/quantum/lib/python3.13/site-packages/ase/visualize/plot.py:51: UserWarning: frames=<generator object VibrationsData.iter_animated_mode at 0x7eff97e25d80> which we can infer the length of, did not pass an explicit *save_count* and passed cache_frame_data=True.  To avoid a possibly unbounded cache, frame data caching has been disabled. To suppress this warning either pass `cache_frame_data=False` or `save_count=MAX_FRAMES`.\n",
      "  animation = FuncAnimation(fig, drawimage, frames=images,\n",
      "/home/elvis/Programs/miniforge3/envs/quantum/lib/python3.13/site-packages/ase/visualize/plot.py:51: UserWarning: frames=<generator object VibrationsData.iter_animated_mode at 0x7effa7e66c20> which we can infer the length of, did not pass an explicit *save_count* and passed cache_frame_data=True.  To avoid a possibly unbounded cache, frame data caching has been disabled. To suppress this warning either pass `cache_frame_data=False` or `save_count=MAX_FRAMES`.\n",
      "  animation = FuncAnimation(fig, drawimage, frames=images,\n",
      "/home/elvis/Programs/miniforge3/envs/quantum/lib/python3.13/site-packages/ase/visualize/plot.py:51: UserWarning: frames=<generator object VibrationsData.iter_animated_mode at 0x7effa7ed8ca0> which we can infer the length of, did not pass an explicit *save_count* and passed cache_frame_data=True.  To avoid a possibly unbounded cache, frame data caching has been disabled. To suppress this warning either pass `cache_frame_data=False` or `save_count=MAX_FRAMES`.\n",
      "  animation = FuncAnimation(fig, drawimage, frames=images,\n",
      "/home/elvis/Programs/miniforge3/envs/quantum/lib/python3.13/site-packages/ase/visualize/plot.py:51: UserWarning: frames=<generator object VibrationsData.iter_animated_mode at 0x7effa7e669e0> which we can infer the length of, did not pass an explicit *save_count* and passed cache_frame_data=True.  To avoid a possibly unbounded cache, frame data caching has been disabled. To suppress this warning either pass `cache_frame_data=False` or `save_count=MAX_FRAMES`.\n",
      "  animation = FuncAnimation(fig, drawimage, frames=images,\n",
      "/home/elvis/Programs/miniforge3/envs/quantum/lib/python3.13/site-packages/ase/visualize/plot.py:51: UserWarning: frames=<generator object VibrationsData.iter_animated_mode at 0x7effa7e66c20> which we can infer the length of, did not pass an explicit *save_count* and passed cache_frame_data=True.  To avoid a possibly unbounded cache, frame data caching has been disabled. To suppress this warning either pass `cache_frame_data=False` or `save_count=MAX_FRAMES`.\n",
      "  animation = FuncAnimation(fig, drawimage, frames=images,\n",
      "/home/elvis/Programs/miniforge3/envs/quantum/lib/python3.13/site-packages/ase/visualize/plot.py:51: UserWarning: frames=<generator object VibrationsData.iter_animated_mode at 0x7effa7e669e0> which we can infer the length of, did not pass an explicit *save_count* and passed cache_frame_data=True.  To avoid a possibly unbounded cache, frame data caching has been disabled. To suppress this warning either pass `cache_frame_data=False` or `save_count=MAX_FRAMES`.\n",
      "  animation = FuncAnimation(fig, drawimage, frames=images,\n",
      "/home/elvis/Programs/miniforge3/envs/quantum/lib/python3.13/site-packages/ase/visualize/plot.py:51: UserWarning: frames=<generator object VibrationsData.iter_animated_mode at 0x7effa7e66c20> which we can infer the length of, did not pass an explicit *save_count* and passed cache_frame_data=True.  To avoid a possibly unbounded cache, frame data caching has been disabled. To suppress this warning either pass `cache_frame_data=False` or `save_count=MAX_FRAMES`.\n",
      "  animation = FuncAnimation(fig, drawimage, frames=images,\n",
      "/home/elvis/Programs/miniforge3/envs/quantum/lib/python3.13/site-packages/ase/visualize/plot.py:51: UserWarning: frames=<generator object VibrationsData.iter_animated_mode at 0x7effa7ed8ca0> which we can infer the length of, did not pass an explicit *save_count* and passed cache_frame_data=True.  To avoid a possibly unbounded cache, frame data caching has been disabled. To suppress this warning either pass `cache_frame_data=False` or `save_count=MAX_FRAMES`.\n",
      "  animation = FuncAnimation(fig, drawimage, frames=images,\n",
      "/home/elvis/Programs/miniforge3/envs/quantum/lib/python3.13/site-packages/ase/visualize/plot.py:51: UserWarning: frames=<generator object VibrationsData.iter_animated_mode at 0x7effa7e669e0> which we can infer the length of, did not pass an explicit *save_count* and passed cache_frame_data=True.  To avoid a possibly unbounded cache, frame data caching has been disabled. To suppress this warning either pass `cache_frame_data=False` or `save_count=MAX_FRAMES`.\n",
      "  animation = FuncAnimation(fig, drawimage, frames=images,\n"
     ]
    },
    {
     "data": {
      "image/png": "[encoded data removed]",
      "text/plain": [
       "<Figure size 640x480 with 1 Axes>"
      ]
     },
     "metadata": {},
     "output_type": "display_data"
    }
   ],
   "source": [
    "for i, f in enumerate(freq):\n",
    "    write(f\"water_vib_mode{i:01d}.gif\", vib_water.iter_animated_mode(i), rotation=\"0x,90y,0z\", interval=100) "
   ]
  },
  {
   "cell_type": "code",
   "execution_count": 73,
   "id": "cf9a9d5b",
   "metadata": {},
   "outputs": [
    {
     "data": {
      "text/html": [
       "<table><tr><td><img src=\"water_vib_mode0.gif\" width=\"400\"></td><td><img src=\"water_vib_mode1.gif\" width=\"400\"></td><td><img src=\"water_vib_mode2.gif\" width=\"400\"></td></tr><tr><td><img src=\"water_vib_mode3.gif\" width=\"400\"></td><td><img src=\"water_vib_mode4.gif\" width=\"400\"></td><td><img src=\"water_vib_mode5.gif\" width=\"400\"></td></tr><tr><td><img src=\"water_vib_mode6.gif\" width=\"400\"></td><td><img src=\"water_vib_mode7.gif\" width=\"400\"></td><td><img src=\"water_vib_mode8.gif\" width=\"400\"></td></tr></table>"
      ],
      "text/plain": [
       "<IPython.core.display.HTML object>"
      ]
     },
     "metadata": {},
     "output_type": "display_data"
    }
   ],
   "source": [
    "from IPython.display import HTML, display\n",
    "\n",
    "gif_files = [\n",
    "    \"water_vib_mode0.gif\", \"water_vib_mode1.gif\", \"water_vib_mode2.gif\",\n",
    "    \"water_vib_mode3.gif\", \"water_vib_mode4.gif\", \"water_vib_mode5.gif\",\n",
    "    \"water_vib_mode6.gif\", \"water_vib_mode7.gif\", \"water_vib_mode8.gif\"\n",
    "]\n",
    "\n",
    "# Build an HTML table with gifs\n",
    "rows = []\n",
    "for i in range(0, 9, 3):\n",
    "    row = \"\".join([f'<td><img src=\"{gif}\" width=\"400\"></td>' for gif in gif_files[i:i+3]])\n",
    "    rows.append(f\"<tr>{row}</tr>\")\n",
    "\n",
    "html_code = f\"<table>{''.join(rows)}</table>\"\n",
    "\n",
    "display(HTML(html_code))"
   ]
  },
  {
   "cell_type": "markdown",
   "id": "17bce77d",
   "metadata": {},
   "source": [
    "## Molécula de CO2"
   ]
  },
  {
   "cell_type": "code",
   "execution_count": 21,
   "id": "fae0b852",
   "metadata": {},
   "outputs": [
    {
     "name": "stdout",
     "output_type": "stream",
     "text": [
      "Atoms(symbols='CO2', pbc=True, cell=[12.0, 12.0, 14.357316])\n",
      "Número de átomos: 3\n",
      "Cell: Cell([12.0, 12.0, 14.357316])\n"
     ]
    }
   ],
   "source": [
    "# Criando molecula\n",
    "co2 = molecule('CO2')\n",
    "co2.center(vacuum=6.0) \n",
    "co2.pbc = True \n",
    "\n",
    "# See basic info\n",
    "print(co2)\n",
    "print('Número de átomos:', len(co2))\n",
    "print(\"Cell:\", co2.get_cell())"
   ]
  },
  {
   "cell_type": "code",
   "execution_count": 22,
   "id": "a7734253",
   "metadata": {},
   "outputs": [],
   "source": [
    "calc = Vasp(\n",
    "            directory='co2/relaxed',\n",
    "            xc='PBE',\n",
    "            encut=450,                # safe PAW-PBE default\n",
    "            kpts=[1, 1, 1], gamma=True,\n",
    "            ismear=0, sigma=0.05,     # Gaussian smearing for molecules\n",
    "            ediff=1e-6, ediffg=-0.02, # SCF and force criteria (~0.02 eV/Å)\n",
    "            ibrion=2, isif=0, nsw=150,# CG ionic relax; fixed cell\n",
    "            lreal='Auto',\n",
    "            lwave=True, lcharg=True,lvtot=True,  # keep WAVECAR/CHGCAR/LOCPOT for post-processing\n",
    "            atoms=co2\n",
    "        )\n",
    "\n",
    "calc.calculate(co2) # doing all the calculations"
   ]
  },
  {
   "cell_type": "code",
   "execution_count": 23,
   "id": "250869aa",
   "metadata": {},
   "outputs": [
    {
     "name": "stdout",
     "output_type": "stream",
     "text": [
      "Energia do CO2 relaxado: -22.961 eV\n"
     ]
    }
   ],
   "source": [
    "E_co2 = co2.get_potential_energy()   \n",
    "\n",
    "print('Energia do CO2 relaxado: {:.3f} eV'.format(E_co2))"
   ]
  },
  {
   "cell_type": "code",
   "execution_count": 24,
   "id": "2f7d4497",
   "metadata": {},
   "outputs": [],
   "source": [
    "calc = Vasp(restart=True,directory='co2/relaxed')\n",
    "co2 = calc.get_atoms()\n",
    "\n",
    "# now define a new calculator\n",
    "calc = Vasp(directory=\"co2/vib_dfpt\",\n",
    "        xc=\"PBE\",\n",
    "        encut=450,\n",
    "        ismear=0, sigma=0.05,   # Gaussian smearing\n",
    "        ibrion=7,               # switches on the DFPT vibrational analysis (with no symmetry constraints)\n",
    "        nfree=2,\n",
    "        lepsilon=True,            # enables to calculate and to print the BEC\n",
    "        # tensors\n",
    "        lreal=False,\n",
    "        nsw=1,\n",
    "        nwrite=3,                 # affects OUTCAR verbosity: explicitly forces\n",
    "        ldipol=True, \n",
    "        idipol = 4,            # full 3D dipole (molecules)\n",
    "        dipol=co2.get_center_of_mass(), # dipole position is CM\n",
    "        atoms=co2)\n",
    "\n",
    "calc.calculate(co2) # doing all the calculations"
   ]
  },
  {
   "cell_type": "code",
   "execution_count": 25,
   "id": "0185714c",
   "metadata": {},
   "outputs": [
    {
     "name": "stdout",
     "output_type": "stream",
     "text": [
      "Dipole moment (e·Å): [80.82223  80.82223  -3.422746]\n",
      "Magnitude (Debye): 549.2524907545019\n"
     ]
    }
   ],
   "source": [
    "dipole = co2.get_dipole_moment() \n",
    "\n",
    "print(\"Dipole moment (e·Å):\", dipole)\n",
    "print(\"Magnitude (Debye):\", (sum(x**2 for x in dipole)**0.5) * 4.80321)"
   ]
  },
  {
   "cell_type": "markdown",
   "id": "d44a141a",
   "metadata": {},
   "source": [
    "Pegando informações da vibração"
   ]
  },
  {
   "cell_type": "code",
   "execution_count": 26,
   "id": "2050738c",
   "metadata": {},
   "outputs": [],
   "source": [
    "vib_co2 = calc.get_vibrations()"
   ]
  },
  {
   "cell_type": "code",
   "execution_count": 47,
   "id": "e4aa46cc",
   "metadata": {},
   "outputs": [
    {
     "name": "stdout",
     "output_type": "stream",
     "text": [
      "0: 1131.4321130518338j cm-1\n",
      "1: 1060.5182389631204j cm-1\n",
      "2: 6.066165462182916j cm-1\n",
      "3: (866.968701112212+0j) cm-1\n",
      "4: (867.4357138844771+0j) cm-1\n",
      "5: (1338.0734249369907+0j) cm-1\n",
      "6: (1347.8207041735413+0j) cm-1\n",
      "7: (1467.0702234676712+0j) cm-1\n",
      "8: (2578.1448963783228+0j) cm-1\n"
     ]
    }
   ],
   "source": [
    "freq = vib_co2.get_frequencies()\n",
    "\n",
    "for i, f in enumerate(freq):\n",
    "    print(\"{0:01d}: {1} cm-1\".format(i, f))"
   ]
  },
  {
   "cell_type": "markdown",
   "id": "0b8bf305",
   "metadata": {},
   "source": [
    "Exportando os GIFs de cada modo de vibração"
   ]
  },
  {
   "cell_type": "code",
   "execution_count": null,
   "id": "b76d770f",
   "metadata": {},
   "outputs": [
    {
     "name": "stderr",
     "output_type": "stream",
     "text": [
      "/home/elvis/Programs/miniforge3/envs/quantum/lib/python3.13/site-packages/ase/visualize/plot.py:51: UserWarning: frames=<generator object VibrationsData.iter_animated_mode at 0x7eff9ebce440> which we can infer the length of, did not pass an explicit *save_count* and passed cache_frame_data=True.  To avoid a possibly unbounded cache, frame data caching has been disabled. To suppress this warning either pass `cache_frame_data=False` or `save_count=MAX_FRAMES`.\n",
      "  animation = FuncAnimation(fig, drawimage, frames=images,\n",
      "/home/elvis/Programs/miniforge3/envs/quantum/lib/python3.13/site-packages/ase/visualize/plot.py:51: UserWarning: frames=<generator object VibrationsData.iter_animated_mode at 0x7effa7bd55a0> which we can infer the length of, did not pass an explicit *save_count* and passed cache_frame_data=True.  To avoid a possibly unbounded cache, frame data caching has been disabled. To suppress this warning either pass `cache_frame_data=False` or `save_count=MAX_FRAMES`.\n",
      "  animation = FuncAnimation(fig, drawimage, frames=images,\n",
      "/home/elvis/Programs/miniforge3/envs/quantum/lib/python3.13/site-packages/ase/visualize/plot.py:51: UserWarning: frames=<generator object VibrationsData.iter_animated_mode at 0x7f007c2a5900> which we can infer the length of, did not pass an explicit *save_count* and passed cache_frame_data=True.  To avoid a possibly unbounded cache, frame data caching has been disabled. To suppress this warning either pass `cache_frame_data=False` or `save_count=MAX_FRAMES`.\n",
      "  animation = FuncAnimation(fig, drawimage, frames=images,\n",
      "/home/elvis/Programs/miniforge3/envs/quantum/lib/python3.13/site-packages/ase/visualize/plot.py:51: UserWarning: frames=<generator object VibrationsData.iter_animated_mode at 0x7effa7bd56c0> which we can infer the length of, did not pass an explicit *save_count* and passed cache_frame_data=True.  To avoid a possibly unbounded cache, frame data caching has been disabled. To suppress this warning either pass `cache_frame_data=False` or `save_count=MAX_FRAMES`.\n",
      "  animation = FuncAnimation(fig, drawimage, frames=images,\n",
      "/home/elvis/Programs/miniforge3/envs/quantum/lib/python3.13/site-packages/ase/visualize/plot.py:51: UserWarning: frames=<generator object VibrationsData.iter_animated_mode at 0x7effa7877e20> which we can infer the length of, did not pass an explicit *save_count* and passed cache_frame_data=True.  To avoid a possibly unbounded cache, frame data caching has been disabled. To suppress this warning either pass `cache_frame_data=False` or `save_count=MAX_FRAMES`.\n",
      "  animation = FuncAnimation(fig, drawimage, frames=images,\n",
      "/home/elvis/Programs/miniforge3/envs/quantum/lib/python3.13/site-packages/ase/visualize/plot.py:51: UserWarning: frames=<generator object VibrationsData.iter_animated_mode at 0x7effa7877760> which we can infer the length of, did not pass an explicit *save_count* and passed cache_frame_data=True.  To avoid a possibly unbounded cache, frame data caching has been disabled. To suppress this warning either pass `cache_frame_data=False` or `save_count=MAX_FRAMES`.\n",
      "  animation = FuncAnimation(fig, drawimage, frames=images,\n",
      "/home/elvis/Programs/miniforge3/envs/quantum/lib/python3.13/site-packages/ase/visualize/plot.py:51: UserWarning: frames=<generator object VibrationsData.iter_animated_mode at 0x7effa7bd56c0> which we can infer the length of, did not pass an explicit *save_count* and passed cache_frame_data=True.  To avoid a possibly unbounded cache, frame data caching has been disabled. To suppress this warning either pass `cache_frame_data=False` or `save_count=MAX_FRAMES`.\n",
      "  animation = FuncAnimation(fig, drawimage, frames=images,\n",
      "/home/elvis/Programs/miniforge3/envs/quantum/lib/python3.13/site-packages/ase/visualize/plot.py:51: UserWarning: frames=<generator object VibrationsData.iter_animated_mode at 0x7f007c2a5900> which we can infer the length of, did not pass an explicit *save_count* and passed cache_frame_data=True.  To avoid a possibly unbounded cache, frame data caching has been disabled. To suppress this warning either pass `cache_frame_data=False` or `save_count=MAX_FRAMES`.\n",
      "  animation = FuncAnimation(fig, drawimage, frames=images,\n",
      "/home/elvis/Programs/miniforge3/envs/quantum/lib/python3.13/site-packages/ase/visualize/plot.py:51: UserWarning: frames=<generator object VibrationsData.iter_animated_mode at 0x7effa7bd55a0> which we can infer the length of, did not pass an explicit *save_count* and passed cache_frame_data=True.  To avoid a possibly unbounded cache, frame data caching has been disabled. To suppress this warning either pass `cache_frame_data=False` or `save_count=MAX_FRAMES`.\n",
      "  animation = FuncAnimation(fig, drawimage, frames=images,\n"
     ]
    },
    {
     "data": {
      "image/png": "[encoded data removed]",
      "text/plain": [
       "<Figure size 640x480 with 1 Axes>"
      ]
     },
     "metadata": {},
     "output_type": "display_data"
    }
   ],
   "source": [
    "for i, f in enumerate(freq):\n",
    "    write(f\"co2_vib_mode{i:01d}.gif\", vib_co2.iter_animated_mode(i), rotation=\"0x,90y,0z\", interval=100) "
   ]
  },
  {
   "cell_type": "code",
   "execution_count": null,
   "id": "91e96c33",
   "metadata": {},
   "outputs": [
    {
     "data": {
      "text/html": [
       "<table><tr><td><img src=\"co2_vib_mode0.gif\" width=\"400\"></td><td><img src=\"co2_vib_mode1.gif\" width=\"400\"></td><td><img src=\"co2_vib_mode2.gif\" width=\"400\"></td></tr><tr><td><img src=\"co2_vib_mode3.gif\" width=\"400\"></td><td><img src=\"co2_vib_mode4.gif\" width=\"400\"></td><td><img src=\"co2_vib_mode5.gif\" width=\"400\"></td></tr><tr><td><img src=\"co2_vib_mode6.gif\" width=\"400\"></td><td><img src=\"co2_vib_mode7.gif\" width=\"400\"></td><td><img src=\"co2_vib_mode8.gif\" width=\"400\"></td></tr></table>"
      ],
      "text/plain": [
       "<IPython.core.display.HTML object>"
      ]
     },
     "metadata": {},
     "output_type": "display_data"
    }
   ],
   "source": [
    "gif_files = [\n",
    "    \"co2_vib_mode0.gif\", \"co2_vib_mode1.gif\", \"co2_vib_mode2.gif\",\n",
    "    \"co2_vib_mode3.gif\", \"co2_vib_mode4.gif\", \"co2_vib_mode5.gif\",\n",
    "    \"co2_vib_mode6.gif\", \"co2_vib_mode7.gif\", \"co2_vib_mode8.gif\"\n",
    "]\n",
    "\n",
    "# Build an HTML table with gifs\n",
    "rows = []\n",
    "for i in range(0, 9, 3):\n",
    "    row = \"\".join([f'<td><img src=\"{gif}\" width=\"400\"></td>' for gif in gif_files[i:i+3]])\n",
    "    rows.append(f\"<tr>{row}</tr>\")\n",
    "\n",
    "html_code = f\"<table>{''.join(rows)}</table>\"\n",
    "\n",
    "display(HTML(html_code))"
   ]
  },
  {
   "cell_type": "code",
   "execution_count": null,
   "id": "fcd6f126",
   "metadata": {},
   "outputs": [],
   "source": []
  }
 ],
 "metadata": {
  "kernelspec": {
   "display_name": "quantum",
   "language": "python",
   "name": "python3"
  },
  "language_info": {
   "codemirror_mode": {
    "name": "ipython",
    "version": 3
   },
   "file_extension": ".py",
   "mimetype": "text/x-python",
   "name": "python",
   "nbconvert_exporter": "python",
   "pygments_lexer": "ipython3",
   "version": "3.13.5"
  }
 },
 "nbformat": 4,
 "nbformat_minor": 5
}
