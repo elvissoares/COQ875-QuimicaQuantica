{
 "cells": [
  {
   "cell_type": "markdown",
   "id": "d29b7aef",
   "metadata": {},
   "source": [
    "# Estrutura Cristalina do Cu usando VASP e ASE\n",
    "\n",
    "Autor: [Prof. Elvis do A. Soares](https://github.com/elvissoares) \n",
    "\n",
    "Contato: [elvis@peq.coppe.ufrj.br](mailto:elvis@peq.coppe.ufrj.br) - [Programa de Engenharia Química, PEQ/COPPE, UFRJ, Brasil](https://www.peq.coppe.ufrj.br/)\n",
    "\n",
    "---"
   ]
  },
  {
   "cell_type": "markdown",
   "id": "9d09cf4a",
   "metadata": {},
   "source": [
    "Importando variáveis do VASP"
   ]
  },
  {
   "cell_type": "code",
   "execution_count": null,
   "id": "29b96a8f",
   "metadata": {},
   "outputs": [],
   "source": [
    "import os\n",
    "# Definindo o path para os arquivos de potencial de pseudopotenciais do VASP\n",
    "# Certifique-se de que o caminho esteja correto para o seu sistema\n",
    "os.environ['VASP_PP_PATH'] = '/home/elvis/Programs/vasp.6.5.1/pp'\n",
    "os.environ['ASE_VASP_COMMAND'] = 'mpirun -np 1 vasp_std_gpu'\n",
    "os.environ['NO_STOP_MESSAGE'] = '1' # to avoid warning from mpirun\n",
    "\n",
    "# Importando o VASP calculator do ASE\n",
    "from ase.calculators.vasp import Vasp"
   ]
  },
  {
   "cell_type": "code",
   "execution_count": null,
   "id": "db1be267",
   "metadata": {},
   "outputs": [],
   "source": [
    "import numpy as np\n",
    "import matplotlib.pyplot as plt\n",
    "from ase import Atom, Atoms\n",
    "from ase.io import read, write\n",
    "from ase.visualize import view"
   ]
  },
  {
   "cell_type": "markdown",
   "id": "651b6e8d",
   "metadata": {},
   "source": [
    "Criando rede a partir da definição de célula primitiva FCC"
   ]
  },
  {
   "cell_type": "code",
   "execution_count": null,
   "id": "b3217d6e",
   "metadata": {},
   "outputs": [],
   "source": [
    "a = 2.53\n",
    "atoms = Atoms([Atom(\"Cu\", (0, 0, 0))],\n",
    "                cell=0.5 * a * np.array([[1.0, 1.0, 0.0],\n",
    "                [0.0, 1.0, 1.0],\n",
    "                [1.0, 0.0, 1.0]]), pbc=True)\n",
    "\n",
    "print(atoms)\n",
    "print(\"Cell:\", atoms.get_cell())\n",
    "print(\"Positions:\\n\", atoms.get_positions())"
   ]
  },
  {
   "cell_type": "code",
   "execution_count": null,
   "id": "334d6d09",
   "metadata": {},
   "outputs": [],
   "source": [
    "write('Cu-fcc-primitive.png', atoms, show_unit_cell=2)\n",
    "\n",
    "img = plt.imread('Cu-fcc-primitive.png')\n",
    "plt.imshow(img)\n",
    "plt.axis('off')  # no axes\n",
    "plt.show()"
   ]
  },
  {
   "cell_type": "markdown",
   "id": "c9547681",
   "metadata": {},
   "source": [
    "A partir de arquivo CIF"
   ]
  },
  {
   "cell_type": "code",
   "execution_count": null,
   "id": "7fc28a7d",
   "metadata": {},
   "outputs": [],
   "source": [
    "# Read CIF file\n",
    "atoms = read('Cu_conventional.cif')\n",
    "\n",
    "# See basic info\n",
    "print(atoms)\n",
    "print(\"Cell:\", atoms.get_cell())\n",
    "print(\"Positions:\\n\", atoms.get_positions())\n",
    "\n",
    "atoms.get_number_of_atoms()"
   ]
  },
  {
   "cell_type": "code",
   "execution_count": null,
   "id": "7f162474",
   "metadata": {},
   "outputs": [],
   "source": [
    "write('Cu-fcc-conventional.png', atoms, show_unit_cell=2)\n",
    "\n",
    "img = plt.imread('Cu-fcc-conventional.png')\n",
    "plt.imshow(img)\n",
    "plt.axis('off')  # no axes\n",
    "plt.show()"
   ]
  },
  {
   "cell_type": "code",
   "execution_count": null,
   "id": "aabcc533",
   "metadata": {},
   "outputs": [],
   "source": [
    "calc = Vasp(directory='Cu_bulk',\n",
    "                xc='PBE',\n",
    "                kpts=[8, 8, 8],  # specifies k-points\n",
    "                encut=350,\n",
    "                atoms=atoms)"
   ]
  },
  {
   "cell_type": "code",
   "execution_count": null,
   "id": "82f5227b",
   "metadata": {},
   "outputs": [],
   "source": [
    "atoms.get_potential_energy()"
   ]
  },
  {
   "cell_type": "markdown",
   "id": "433f575e",
   "metadata": {},
   "source": [
    "Variando o parâmetro `ENCUT`"
   ]
  },
  {
   "cell_type": "code",
   "execution_count": null,
   "id": "ea803f14",
   "metadata": {},
   "outputs": [],
   "source": [
    "ENCUTS = [250, 300, 350, 400, 450, 500]\n",
    "\n",
    "TE0 = []\n",
    "for ecut in ENCUTS:\n",
    "    calc = Vasp(directory='Cu_bulk/encut-{0}'.format(ecut),\n",
    "                xc='PBE',\n",
    "                kpts=[6, 6, 6],  # specifies k-points\n",
    "                encut=ecut,\n",
    "                atoms=atoms)\n",
    "    TE0.append(atoms.get_potential_energy())\n",
    "if None in TE0:\n",
    "    calc.abort()\n",
    "import matplotlib.pyplot as plt\n",
    "# consider the change in energy from lowest energy state\n",
    "TE0 = np.array(TE0)\n",
    "TE0 -= TE0.min()"
   ]
  },
  {
   "cell_type": "code",
   "execution_count": null,
   "id": "14194f4d",
   "metadata": {},
   "outputs": [],
   "source": [
    "plt.plot(ENCUTS, TE0)\n",
    "plt.xlabel('ENCUT (eV)')\n",
    "plt.ylabel('Total Energy (eV)')\n",
    "# plt.ylim(0,2.5)\n",
    "# plt.savefig('images/Cu-encut-convergence.png')"
   ]
  },
  {
   "cell_type": "markdown",
   "id": "0bcde132",
   "metadata": {},
   "source": [
    "Variando o número de pontos k"
   ]
  },
  {
   "cell_type": "code",
   "execution_count": null,
   "id": "e6c45df2",
   "metadata": {},
   "outputs": [],
   "source": [
    "KPTS = [2, 3, 4, 5, 6, 8, 10]\n",
    "TE = []\n",
    "for k in KPTS:\n",
    "    calc = Vasp(directory='Cu_bulk/kpts-{0}'.format(k),\n",
    "                xc='PBE',\n",
    "                kpts=[k, k, k],  # specifies k-points\n",
    "                encut=350,\n",
    "                atoms=atoms)\n",
    "    TE.append(atoms.get_potential_energy())\n",
    "if None in TE:\n",
    "    calc.abort()\n",
    "import matplotlib.pyplot as plt\n",
    "# consider the change in energy from lowest energy state\n",
    "TE = np.array(TE)\n",
    "TE -= TE.min()"
   ]
  },
  {
   "cell_type": "code",
   "execution_count": null,
   "id": "1ca46400",
   "metadata": {},
   "outputs": [],
   "source": [
    "plt.plot(KPTS, TE)\n",
    "plt.xlabel('number of k-points in each dimension')\n",
    "plt.ylabel('Total Energy (eV)')\n",
    "plt.ylim(0,0.1)\n",
    "# plt.savefig('images/Cu-kpt-convergence.png')"
   ]
  },
  {
   "cell_type": "markdown",
   "id": "84569fcc",
   "metadata": {},
   "source": [
    "Testando a velocidade"
   ]
  },
  {
   "cell_type": "code",
   "execution_count": null,
   "id": "96ca625d",
   "metadata": {},
   "outputs": [],
   "source": [
    "calc = Vasp(directory='Cu_bulk',\n",
    "                xc='PBE',\n",
    "                kpts=[6, 6, 6],  # specifies k-points\n",
    "                encut=350,\n",
    "                atoms=atoms)\n",
    "\n",
    "atoms.get_potential_energy()"
   ]
  },
  {
   "cell_type": "code",
   "execution_count": null,
   "id": "ab46317b",
   "metadata": {},
   "outputs": [],
   "source": [
    "calc = Vasp(directory='Cu_bulk',\n",
    "                xc='PBE',\n",
    "                kpts=[8, 8, 8],  # specifies k-points\n",
    "                encut=350,\n",
    "                atoms=atoms)\n",
    "\n",
    "atoms.get_potential_energy()"
   ]
  },
  {
   "cell_type": "markdown",
   "id": "bab39111",
   "metadata": {},
   "source": [
    "Criando supercélula"
   ]
  },
  {
   "cell_type": "code",
   "execution_count": null,
   "id": "c064726a",
   "metadata": {},
   "outputs": [],
   "source": [
    "supercell = atoms.repeat((2, 2, 2))"
   ]
  },
  {
   "cell_type": "code",
   "execution_count": null,
   "id": "629ad397",
   "metadata": {},
   "outputs": [],
   "source": [
    "write('Cu-fcc-supercell-2x2x2.png', supercell, show_unit_cell=2, rotation=\"45x,45y,45z\")\n",
    "\n",
    "img = plt.imread('Cu-fcc-supercell-2x2x2.png')\n",
    "plt.imshow(img)\n",
    "plt.axis('off')  # no axes\n",
    "plt.show()"
   ]
  },
  {
   "cell_type": "code",
   "execution_count": null,
   "id": "21b5a96f",
   "metadata": {},
   "outputs": [],
   "source": [
    "calc = Vasp(directory='Cu_bulk',\n",
    "                xc='PBE',\n",
    "                kpts=[6, 6, 6],  # specifies k-points\n",
    "                encut=350,\n",
    "                atoms=supercell)\n",
    "\n",
    "supercell.get_potential_energy()"
   ]
  },
  {
   "cell_type": "code",
   "execution_count": null,
   "id": "aacdce4f",
   "metadata": {},
   "outputs": [],
   "source": []
  }
 ],
 "metadata": {
  "kernelspec": {
   "display_name": "quantum",
   "language": "python",
   "name": "python3"
  },
  "language_info": {
   "codemirror_mode": {
    "name": "ipython",
    "version": 3
   },
   "file_extension": ".py",
   "mimetype": "text/x-python",
   "name": "python",
   "nbconvert_exporter": "python",
   "pygments_lexer": "ipython3",
   "version": "3.13.5"
  }
 },
 "nbformat": 4,
 "nbformat_minor": 5
}
