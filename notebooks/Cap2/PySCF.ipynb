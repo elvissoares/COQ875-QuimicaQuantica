{
 "cells": [
  {
   "cell_type": "markdown",
   "id": "71c14d58",
   "metadata": {},
   "source": [
    "# PySCF\n",
    "\n",
    "Autor: [Prof. Elvis do A. Soares](https://github.com/elvissoares) \n",
    "\n",
    "Contato: [elvis@peq.coppe.ufrj.br](mailto:elvis@peq.coppe.ufrj.br) - [Programa de Engenharia Química, PEQ/COPPE, UFRJ, Brasil](https://www.peq.coppe.ufrj.br/)\n",
    "\n",
    "---"
   ]
  },
  {
   "cell_type": "markdown",
   "id": "90835206",
   "metadata": {},
   "source": [
    "## Instalação \n",
    "\n",
    "```[bash]\n",
    "pip install pyscf\n",
    "```"
   ]
  },
  {
   "cell_type": "code",
   "execution_count": 1,
   "id": "ea10f40b",
   "metadata": {},
   "outputs": [],
   "source": [
    "import numpy as np\n",
    "import matplotlib.pyplot as plt\n",
    "from pyscf import gto, scf, cc\n",
    "\n",
    "# import scienceplots\n",
    "# plt.style.use(['notebook'])"
   ]
  },
  {
   "cell_type": "markdown",
   "id": "33e88b9b",
   "metadata": {},
   "source": [
    "## Introdução"
   ]
  },
  {
   "cell_type": "markdown",
   "id": "713066cf",
   "metadata": {},
   "source": [
    "Construindo a molécula de H2 usando base STO-3G"
   ]
  },
  {
   "cell_type": "code",
   "execution_count": 8,
   "id": "4a5eb936",
   "metadata": {},
   "outputs": [
    {
     "data": {
      "text/plain": [
       "<pyscf.gto.mole.Mole at 0x7ff86f35d450>"
      ]
     },
     "execution_count": 8,
     "metadata": {},
     "output_type": "execute_result"
    }
   ],
   "source": [
    "mol = gto.Mole()\n",
    "mol.build(\n",
    "    atom = [['H',(0, 0, 0)], ['H',(1.4, 0, 0)]],\n",
    "    basis = 'sto-3g', unit='Bohr')"
   ]
  },
  {
   "cell_type": "markdown",
   "id": "eeab1e76",
   "metadata": {},
   "source": [
    "Resolvendo SCF"
   ]
  },
  {
   "cell_type": "code",
   "execution_count": 9,
   "id": "70b1372c",
   "metadata": {},
   "outputs": [
    {
     "name": "stdout",
     "output_type": "stream",
     "text": [
      "converged SCF energy = -1.11671432506255\n"
     ]
    }
   ],
   "source": [
    "mf = scf.RHF(mol).run()"
   ]
  },
  {
   "cell_type": "markdown",
   "id": "c178625e",
   "metadata": {},
   "source": [
    "Usando a base 6-31g"
   ]
  },
  {
   "cell_type": "code",
   "execution_count": 11,
   "id": "14983609",
   "metadata": {},
   "outputs": [
    {
     "data": {
      "text/plain": [
       "<pyscf.gto.mole.Mole at 0x7ff86f35dd10>"
      ]
     },
     "execution_count": 11,
     "metadata": {},
     "output_type": "execute_result"
    }
   ],
   "source": [
    "mol = gto.Mole()\n",
    "mol.build(\n",
    "    atom = [['H',(0, 0, 0)], ['H',(1.4, 0, 0)]],\n",
    "    basis = '6-31g', unit='Bohr')"
   ]
  },
  {
   "cell_type": "markdown",
   "id": "a64865a7",
   "metadata": {},
   "source": [
    "Resolvendo SCF"
   ]
  },
  {
   "cell_type": "code",
   "execution_count": 12,
   "id": "40baa52b",
   "metadata": {},
   "outputs": [
    {
     "name": "stdout",
     "output_type": "stream",
     "text": [
      "converged SCF energy = -1.12674270445179\n"
     ]
    }
   ],
   "source": [
    "mf = scf.RHF(mol).run()"
   ]
  },
  {
   "cell_type": "code",
   "execution_count": 13,
   "id": "c0d69b4c",
   "metadata": {},
   "outputs": [
    {
     "data": {
      "text/plain": [
       "np.float64(-1.1267427044517944)"
      ]
     },
     "execution_count": 13,
     "metadata": {},
     "output_type": "execute_result"
    }
   ],
   "source": [
    "mf.e_tot"
   ]
  },
  {
   "cell_type": "markdown",
   "id": "3eb0422c",
   "metadata": {},
   "source": [
    "Usando um método pós-HF de Coupled-Cluster (CC)"
   ]
  },
  {
   "cell_type": "code",
   "execution_count": 15,
   "id": "b69be702",
   "metadata": {},
   "outputs": [
    {
     "data": {
      "text/plain": [
       "<pyscf.gto.mole.Mole at 0x7ff86f35c190>"
      ]
     },
     "execution_count": 15,
     "metadata": {},
     "output_type": "execute_result"
    }
   ],
   "source": [
    "mol = gto.Mole()\n",
    "mol.build(\n",
    "    atom = [['H',(0, 0, 0)], ['H',(1.4, 0, 0)]],\n",
    "    basis = 'cc-pvdz', unit='Bohr')"
   ]
  },
  {
   "cell_type": "code",
   "execution_count": 17,
   "id": "bac16d79",
   "metadata": {},
   "outputs": [
    {
     "name": "stdout",
     "output_type": "stream",
     "text": [
      "converged SCF energy = -1.12870944897989\n",
      "E(CCSD) = -1.163398738103131  E_corr = -0.03468928912324108\n",
      "CCSD total energy -1.1633987381031314\n",
      "CCSD(T) correction = -9.40998311668014e-20\n",
      "CCSD(T) total energy -1.1633987381031314\n"
     ]
    }
   ],
   "source": [
    "mf = scf.RHF(mol).run()\n",
    "\n",
    "mycc = cc.CCSD(mf).run()\n",
    "print('CCSD total energy', mycc.e_tot)\n",
    "et = mycc.ccsd_t()\n",
    "print('CCSD(T) total energy', mycc.e_tot + et)"
   ]
  },
  {
   "cell_type": "markdown",
   "id": "a3000920",
   "metadata": {},
   "source": [
    "## Otimizando Geometria de H2"
   ]
  },
  {
   "cell_type": "code",
   "execution_count": 51,
   "id": "0626350d",
   "metadata": {},
   "outputs": [],
   "source": [
    "mol = gto.Mole()\n",
    "\n",
    "Rarray = np.arange(0.7, 3.0, 0.1)\n",
    "Earray = np.zeros_like(Rarray)\n",
    "\n",
    "for i, R in enumerate(Rarray):\n",
    "    \n",
    "    mol.build(\n",
    "        atom = [['H',(0, 0, 0)], ['H',(R, 0, 0)]],\n",
    "        basis = '6-31g**', unit='B', verbose=0)\n",
    "    \n",
    "    mf = scf.HF(mol)\n",
    "    Earray[i] = mf.scf()"
   ]
  },
  {
   "cell_type": "code",
   "execution_count": 56,
   "id": "646e4f13",
   "metadata": {},
   "outputs": [
    {
     "data": {
      "text/plain": [
       "(0.5, 3.0)"
      ]
     },
     "execution_count": 56,
     "metadata": {},
     "output_type": "execute_result"
    },
    {
     "data": {
      "image/png": "[encoded data removed]",
      "text/plain": [
       "<Figure size 640x480 with 1 Axes>"
      ]
     },
     "metadata": {},
     "output_type": "display_data"
    }
   ],
   "source": [
    "plt.plot(Rarray, Earray,'o', label = 'RHF (6-31G**)')\n",
    "plt.legend(loc='upper right')\n",
    "plt.xlabel('R')\n",
    "plt.ylabel('E') \n",
    "plt.title('H2 Molecule using PySCF')\n",
    "\n",
    "plt.ylim(-1.2,-0.8)\n",
    "plt.xlim(0.5, 3.0)"
   ]
  },
  {
   "cell_type": "markdown",
   "id": "537a4baf",
   "metadata": {},
   "source": [
    "Fitting da energia usando Potencial de Morse\n",
    "\n",
    "$$ E(R) = E_0 + a (1- e^{-b(R-R_0)})^2$$"
   ]
  },
  {
   "cell_type": "code",
   "execution_count": 60,
   "id": "beab7457",
   "metadata": {},
   "outputs": [],
   "source": [
    "from scipy.optimize import curve_fit\n",
    "\n",
    "def func(x, E0, d0, a, b):\n",
    "    return  E0 + a * (1- np.exp(-b* (x-d0)))**2 \n",
    "\n",
    "popt, pcov = curve_fit(func, Rarray , Earray , p0=[-1.1,1.2,0.3,1.0])"
   ]
  },
  {
   "cell_type": "code",
   "execution_count": 61,
   "id": "e8651c4c",
   "metadata": {},
   "outputs": [
    {
     "name": "stdout",
     "output_type": "stream",
     "text": [
      "Equilibrium distance: 1.387\n",
      "Experimental value: 1.401\n",
      "Relative error: 1.00 %\n"
     ]
    }
   ],
   "source": [
    "Estar = popt[0]\n",
    "Rstar = popt[1]\n",
    "\n",
    "print(f'Equilibrium distance: {Rstar:.3f}')    \n",
    "print('Experimental value:', 1.401)\n",
    "\n",
    "print(f'Relative error: {abs(Rstar - 1.401) / 1.401 * 100:.2f} %')"
   ]
  },
  {
   "cell_type": "code",
   "execution_count": 62,
   "id": "b7fde7be",
   "metadata": {},
   "outputs": [
    {
     "data": {
      "text/plain": [
       "Text(0.5, 1.0, 'H2 Molecule using PySCF')"
      ]
     },
     "execution_count": 62,
     "metadata": {},
     "output_type": "execute_result"
    },
    {
     "data": {
      "image/png": "[encoded data removed]",
      "text/plain": [
       "<Figure size 640x480 with 1 Axes>"
      ]
     },
     "metadata": {},
     "output_type": "display_data"
    }
   ],
   "source": [
    "plt.plot(Rarray, Earray,'o', label = 'RHF (6-31G**)')\n",
    "plt.scatter(Rstar, Estar, color='red', label='Minimum', zorder=5)\n",
    "plt.plot(Rarray, func(Rarray, *popt), 'k--',\n",
    "         label='fit: E0=%5.3f, d0=%5.3f, a=%5.3f, b=%5.3f' % tuple(popt))\n",
    "plt.ylim(-1.2,-0.8)\n",
    "plt.xlim(0.5, 3.0)\n",
    "plt.legend(loc='upper right')\n",
    "plt.xlabel('R')\n",
    "plt.ylabel('E') \n",
    "plt.title('H2 Molecule using PySCF')"
   ]
  },
  {
   "cell_type": "markdown",
   "id": "7e0a5a0f",
   "metadata": {},
   "source": [
    "## H2O molecule"
   ]
  },
  {
   "attachments": {
    "H2O.png": {
     "image/png": "[encoded data removed]"
    }
   },
   "cell_type": "markdown",
   "id": "180f5c19",
   "metadata": {},
   "source": [
    "![H2O.png](attachment:H2O.png)"
   ]
  },
  {
   "cell_type": "code",
   "execution_count": 143,
   "id": "5e9d3ec8",
   "metadata": {},
   "outputs": [
    {
     "name": "stdout",
     "output_type": "stream",
     "text": [
      "d0 = 1.733  u.a.\n",
      "theta0 = 1.8238690683340744  radians\n"
     ]
    },
    {
     "data": {
      "text/plain": [
       "<pyscf.gto.mole.Mole at 0x7fdb00749090>"
      ]
     },
     "execution_count": 143,
     "metadata": {},
     "output_type": "execute_result"
    }
   ],
   "source": [
    "d0 = 1.733 # a.u (Experimental value)\n",
    "\n",
    "theta0 = 104.5 # degrees (Experimental value)\n",
    "theta0 = np.radians(theta0) # convert to radians\n",
    "\n",
    "print('d0 =', d0, ' u.a.')\n",
    "print('theta0 =', theta0, ' radians')\n",
    "\n",
    "H2Omol = gto.Mole()\n",
    "H2Omol.build(\n",
    "    atom = [['O',(0, 0, 0)],['H',(d0, 0, 0)], ['H',(d0*np.cos(theta0), d0*np.sin(theta0), 0)]],\n",
    "    basis = '6-31g**', unit='B', verbose=0)"
   ]
  },
  {
   "cell_type": "markdown",
   "id": "af015f05",
   "metadata": {},
   "source": [
    "Energia da molécula"
   ]
  },
  {
   "cell_type": "code",
   "execution_count": 144,
   "id": "31242a79",
   "metadata": {},
   "outputs": [
    {
     "data": {
      "text/plain": [
       "np.float64(-76.02140073437417)"
      ]
     },
     "execution_count": 144,
     "metadata": {},
     "output_type": "execute_result"
    }
   ],
   "source": [
    "mf = scf.HF(H2Omol)\n",
    "mf.scf()"
   ]
  },
  {
   "cell_type": "markdown",
   "id": "6bf9032b",
   "metadata": {},
   "source": [
    "Energia como função da distância de ligação $H-O$"
   ]
  },
  {
   "cell_type": "code",
   "execution_count": null,
   "id": "d8a8fa6f",
   "metadata": {},
   "outputs": [],
   "source": []
  },
  {
   "cell_type": "markdown",
   "id": "45cf1ba7",
   "metadata": {},
   "source": [
    "Energia como função do ângulo de ligação $H-O-H$"
   ]
  },
  {
   "cell_type": "code",
   "execution_count": null,
   "id": "7bcba5bd",
   "metadata": {},
   "outputs": [],
   "source": []
  }
 ],
 "metadata": {
  "kernelspec": {
   "display_name": "base",
   "language": "python",
   "name": "python3"
  },
  "language_info": {
   "codemirror_mode": {
    "name": "ipython",
    "version": 3
   },
   "file_extension": ".py",
   "mimetype": "text/x-python",
   "name": "python",
   "nbconvert_exporter": "python",
   "pygments_lexer": "ipython3",
   "version": "3.10.9"
  }
 },
 "nbformat": 4,
 "nbformat_minor": 5
}
