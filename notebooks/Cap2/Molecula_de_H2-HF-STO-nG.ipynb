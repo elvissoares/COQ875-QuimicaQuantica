{
 "cells": [
  {
   "cell_type": "markdown",
   "id": "71c14d58",
   "metadata": {},
   "source": [
    "# Método de Hartree-Fock para a Molécula de H<sub>2</sub> usando Base STO-nG\n",
    "\n",
    "Autor: [Prof. Elvis do A. Soares](https://github.com/elvissoares) \n",
    "\n",
    "Contato: [elvis@peq.coppe.ufrj.br](mailto:elvis@peq.coppe.ufrj.br) - [Programa de Engenharia Química, PEQ/COPPE, UFRJ, Brasil](https://www.peq.coppe.ufrj.br/)\n",
    "\n",
    "---"
   ]
  },
  {
   "cell_type": "markdown",
   "id": "90835206",
   "metadata": {},
   "source": [
    "## Equação de Roothan-Hartree-Fock\n",
    "\n",
    "$$F c = e S c$$\n"
   ]
  },
  {
   "cell_type": "code",
   "execution_count": 1,
   "id": "ea10f40b",
   "metadata": {},
   "outputs": [],
   "source": [
    "import numpy as np\n",
    "import matplotlib.pyplot as plt\n",
    "from scipy import linalg\n",
    "from scipy.special import gamma, gammainc\n",
    "\n",
    "# import scienceplots\n",
    "# plt.style.use(['notebook'])"
   ]
  },
  {
   "cell_type": "code",
   "execution_count": 2,
   "id": "c66af1ff",
   "metadata": {},
   "outputs": [],
   "source": [
    "class GTO():\n",
    "    def __init__(self, alpha, c, R):\n",
    "        self.alpha = alpha\n",
    "        self.c = c\n",
    "        self.R = R\n",
    "        self.norm = np.power(2 * alpha / np.pi, 0.75)"
   ]
  },
  {
   "cell_type": "code",
   "execution_count": 3,
   "id": "7a0268c1",
   "metadata": {},
   "outputs": [],
   "source": [
    "#----------------------------------------------------------------------\n",
    "# Basis Set Exchange\n",
    "# Version 0.11\n",
    "# https://www.basissetexchange.org\n",
    "#----------------------------------------------------------------------\n",
    "#   Basis set: STO-3G\n",
    "# Description: STO-3G Minimal Basis (3 functions/AO)\n",
    "#        Role: orbital\n",
    "#     Version: 1  (Data from Gaussian09)\n",
    "#----------------------------------------------------------------------\n",
    "\n",
    "\n",
    "# BASIS \"ao basis\" SPHERICAL PRINT\n",
    "# #BASIS SET: (3s) -> [1s]\n",
    "# H    S\n",
    "#       0.3425250914E+01       0.1543289673E+00\n",
    "#       0.6239137298E+00       0.5353281423E+00\n",
    "#       0.1688554040E+00       0.4446345422E+00\n",
    "# END"
   ]
  },
  {
   "cell_type": "code",
   "execution_count": 4,
   "id": "8c08eeef",
   "metadata": {},
   "outputs": [],
   "source": [
    "class Orbital():\n",
    "    def __init__(self, name, alpha, coeff, R):\n",
    "        self.name = name\n",
    "        self.alpha = alpha\n",
    "        self.coeff = coeff\n",
    "        self.R = R\n",
    "        self.basis = [GTO(alpha=a, c=c, R=self.R) for a, c in zip(self.alpha, self.coeff)]\n",
    "\n",
    "    def __repr__(self):\n",
    "        return f\"Orbital({self.name}, {self.alpha}, {self.coeff}, {self.R})\""
   ]
  },
  {
   "cell_type": "code",
   "execution_count": 5,
   "id": "fb8020eb",
   "metadata": {},
   "outputs": [],
   "source": [
    "class H_atom():\n",
    "    def __init__(self, R):\n",
    "        self.R = np.array(R)\n",
    "        self.orbitals = []\n",
    "        self.Z = 1  # Atomic number for Hydrogen\n",
    "\n",
    "    def add_orbital(self, name, alpha=None, coeff=None):\n",
    "        orbital = Orbital(name = name, alpha=alpha, coeff=coeff, R=self.R)\n",
    "        self.orbitals.append(orbital)\n",
    "\n",
    "    def set_basis_set(self, basis_set):\n",
    "        self.basis_set = basis_set\n",
    "        # For Hydrogen atom\n",
    "        if self.basis_set == 'STO-2G':\n",
    "            # STO-3G basis set for Hydrogen\n",
    "            # Source: https://www.basissetexchange.org\n",
    "            self.add_orbital(name='1s',alpha= [0.1309756377E+01,0.2331359749E+00], coeff=[0.4301284983E+00,0.6789135305E+00])\n",
    "\n",
    "        elif self.basis_set == 'STO-3G':\n",
    "            # STO-3G basis set for Hydrogen\n",
    "            # Source: https://www.basissetexchange.org\n",
    "            self.add_orbital(name='1s',alpha= [0.3425250914E+01, 0.6239137298E+00, 0.1688554040E+00], coeff=[0.1543289673E+00, 0.5353281423E+00, 0.4446345422E+00])\n",
    "\n",
    "        elif self.basis_set == 'STO-6G':\n",
    "            # STO-6G basis set for Hydrogen\n",
    "            # Source: https://www.basissetexchange.org\n",
    "            self.add_orbital(name='1s',alpha= [0.3552322122E+02,0.6513143725E+01,0.1822142904E+01,0.6259552659E+00,0.2430767471E+00,0.1001124280E+00], coeff=[0.9163596281E-02,0.4936149294E-01,0.1685383049E+00,0.3705627997E+00,0.4164915298E+00,0.1303340841E+00])\n",
    "\n",
    "    def __repr__(self):\n",
    "        return f\"H Atom at {self.R} in a.u\""
   ]
  },
  {
   "cell_type": "code",
   "execution_count": 6,
   "id": "2e3a967d",
   "metadata": {},
   "outputs": [],
   "source": [
    "Ha = H_atom(R=[0.0, 0.0, 0.0])\n",
    "Hb = H_atom(R=[1.4, 0.0, 0.0])"
   ]
  },
  {
   "cell_type": "code",
   "execution_count": 7,
   "id": "870cb19e",
   "metadata": {},
   "outputs": [
    {
     "data": {
      "text/plain": [
       "(H Atom at [0. 0. 0.] in a.u, H Atom at [1.4 0.  0. ] in a.u)"
      ]
     },
     "execution_count": 7,
     "metadata": {},
     "output_type": "execute_result"
    }
   ],
   "source": [
    "Ha, Hb"
   ]
  },
  {
   "cell_type": "code",
   "execution_count": 8,
   "id": "f2b60fcf",
   "metadata": {},
   "outputs": [],
   "source": [
    "Ha.set_basis_set('STO-3G')\n",
    "Hb.set_basis_set('STO-3G')"
   ]
  },
  {
   "cell_type": "code",
   "execution_count": 9,
   "id": "4a5eb936",
   "metadata": {},
   "outputs": [
    {
     "data": {
      "text/plain": [
       "([Orbital(1s, [3.425250914, 0.6239137298, 0.168855404], [0.1543289673, 0.5353281423, 0.4446345422], [0. 0. 0.])],\n",
       " [Orbital(1s, [3.425250914, 0.6239137298, 0.168855404], [0.1543289673, 0.5353281423, 0.4446345422], [1.4 0.  0. ])])"
      ]
     },
     "execution_count": 9,
     "metadata": {},
     "output_type": "execute_result"
    }
   ],
   "source": [
    "Ha.orbitals, Hb.orbitals"
   ]
  },
  {
   "cell_type": "code",
   "execution_count": 10,
   "id": "70b1372c",
   "metadata": {},
   "outputs": [],
   "source": [
    "# overlap\n",
    "def overlap(molecule):\n",
    "    # Calcula todos os orbitais da molécula\n",
    "    orbitals = [orbital for atom in molecule for orbital in atom.orbitals]\n",
    "    # Inicializa a matriz de sobreposição S\n",
    "    S_matrix = np.zeros((len(orbitals), len(orbitals)))\n",
    "    for a, orbital_a in enumerate(orbitals):\n",
    "        for b, orbital_b in enumerate(orbitals):\n",
    "            Rdiff = np.linalg.norm(orbital_a.R - orbital_b.R)\n",
    "            # Calculate the overlap integral for each pair of basis functions\n",
    "            # S_ij = ∫ φ_i(r) φ_j(r) dτ\n",
    "            # where φ_i and φ_j are the basis functions\n",
    "            # Here we assume spherical harmonics, so we can use the norm of the basis functions\n",
    "            # The norm is already calculated in GTO class\n",
    "            for basis_a in orbital_a.basis:\n",
    "                for basis_b in orbital_b.basis:\n",
    "                    norm = basis_a.norm * basis_b.norm\n",
    "                    p = basis_a.alpha + basis_b.alpha\n",
    "                    q = basis_a.alpha * basis_b.alpha/ p\n",
    "                    # The overlap integral for Gaussian-type orbitals\n",
    "                    S_integral = norm * np.exp(-q * Rdiff**2) * (np.pi / p)**1.5\n",
    "                    S_matrix[a, b] +=  basis_a.c * basis_b.c * S_integral\n",
    "    return S_matrix"
   ]
  },
  {
   "cell_type": "code",
   "execution_count": 11,
   "id": "575a04e1",
   "metadata": {},
   "outputs": [
    {
     "name": "stdout",
     "output_type": "stream",
     "text": [
      "0 [Orbital(1s, [3.425250914, 0.6239137298, 0.168855404], [0.1543289673, 0.5353281423, 0.4446345422], [0. 0. 0.])]\n",
      "1 [Orbital(1s, [3.425250914, 0.6239137298, 0.168855404], [0.1543289673, 0.5353281423, 0.4446345422], [1.4 0.  0. ])]\n"
     ]
    }
   ],
   "source": [
    "my_molecule = [Ha, Hb]\n",
    "\n",
    "for a, atom_a in enumerate(my_molecule):\n",
    "    print(a, atom_a.orbitals)"
   ]
  },
  {
   "cell_type": "code",
   "execution_count": 12,
   "id": "d0036d66",
   "metadata": {},
   "outputs": [
    {
     "data": {
      "text/plain": [
       "array([[1.        , 0.65931821],\n",
       "       [0.65931821, 1.        ]])"
      ]
     },
     "execution_count": 12,
     "metadata": {},
     "output_type": "execute_result"
    }
   ],
   "source": [
    "overlap(my_molecule)"
   ]
  },
  {
   "cell_type": "code",
   "execution_count": 13,
   "id": "43a2989f",
   "metadata": {},
   "outputs": [],
   "source": [
    "def kinetic(molecule):\n",
    "    orbitals = [orbital for atom in molecule for orbital in atom.orbitals]\n",
    "    T_matrix = np.zeros((len(orbitals), len(orbitals)))\n",
    "    for a, orbital_a in enumerate(orbitals):\n",
    "        for b, orbital_b in enumerate(orbitals):\n",
    "            Rdiff = np.linalg.norm(orbital_a.R - orbital_b.R)\n",
    "            for basis_a in orbital_a.basis:\n",
    "                for basis_b in orbital_b.basis:\n",
    "                    norm = basis_a.norm * basis_b.norm\n",
    "                    p = basis_a.alpha + basis_b.alpha\n",
    "                    q = basis_a.alpha * basis_b.alpha / p\n",
    "                    # Kinetic energy integral for Gaussian-type orbitals\n",
    "                    T_integral = norm * basis_a.c * basis_b.c * np.exp(-q * Rdiff**2) * (np.pi / p)**1.5\n",
    "\n",
    "                    P = basis_a.alpha * orbital_a.R + basis_b.alpha * orbital_b.R\n",
    "                    Pp = P/p \n",
    "                    PG = Pp - orbital_b.R\n",
    "                    PGx2 = PG[0]*PG[0]\n",
    "                    PGy2 = PG[1]*PG[1]\n",
    "                    PGz2 = PG[2]*PG[2]\n",
    "\n",
    "                    T_matrix[a, b] += 3 * basis_b.alpha * T_integral\n",
    "                    T_matrix[a, b] -= 2 * basis_b.alpha **2 * T_integral * (PGx2 + 0.5/p)\n",
    "                    T_matrix[a, b] -= 2 * basis_b.alpha **2 * T_integral * (PGy2 + 0.5/p)\n",
    "                    T_matrix[a, b] -= 2 * basis_b.alpha **2 * T_integral * (PGz2 + 0.5/p)\n",
    "    return T_matrix"
   ]
  },
  {
   "cell_type": "code",
   "execution_count": 14,
   "id": "97d72413",
   "metadata": {},
   "outputs": [
    {
     "data": {
      "text/plain": [
       "array([[0.76003188, 0.23645466],\n",
       "       [0.23645466, 0.76003188]])"
      ]
     },
     "execution_count": 14,
     "metadata": {},
     "output_type": "execute_result"
    }
   ],
   "source": [
    "kinetic(my_molecule)"
   ]
  },
  {
   "cell_type": "code",
   "execution_count": 15,
   "id": "8e69a626",
   "metadata": {},
   "outputs": [],
   "source": [
    "def boys(x,n):\n",
    "    if x == 0:\n",
    "        return 1.0 / (2 * n + 1)\n",
    "    else:\n",
    "        return (1.0 / (2 * x ** (n+0.5))) * gammainc(n+0.5,x) * gamma(n+0.5)\n",
    "\n",
    "def electron_nuclear_attraction(molecule):\n",
    "    orbitals = [orbital for atom in molecule for orbital in atom.orbitals]\n",
    "    V_matrix = np.zeros((len(orbitals), len(orbitals)))\n",
    "    for atom in molecule:\n",
    "        for a, orbital_a in enumerate(orbitals):\n",
    "            for b, orbital_b in enumerate(orbitals):\n",
    "                Rdiff = np.linalg.norm(orbital_a.R - orbital_b.R)\n",
    "                for basis_a in orbital_a.basis:\n",
    "                    for basis_b in orbital_b.basis:\n",
    "                        norm = basis_a.norm * basis_b.norm\n",
    "                        p = basis_a.alpha + basis_b.alpha\n",
    "                        q = basis_a.alpha * basis_b.alpha / p\n",
    "\n",
    "                        P = basis_a.alpha * orbital_a.R + basis_b.alpha * orbital_b.R\n",
    "                        Pp = P/p \n",
    "                        PG = Pp - atom.R\n",
    "                        PG2 = np.dot(PG, PG)\n",
    "                        # Electron-nuclear attraction integral for Gaussian-type orbitals\n",
    "                        V_integral = norm * basis_a.c * basis_b.c * np.exp(-q * Rdiff**2) * (2.0*np.pi / p)\n",
    "                        V_matrix[a, b] += - atom.Z * V_integral * boys(p*PG2,0)\n",
    "    return V_matrix"
   ]
  },
  {
   "cell_type": "code",
   "execution_count": 16,
   "id": "d310bdb4",
   "metadata": {},
   "outputs": [
    {
     "data": {
      "text/plain": [
       "array([[-1.88044089, -1.19483462],\n",
       "       [-1.19483462, -1.88044089]])"
      ]
     },
     "execution_count": 16,
     "metadata": {},
     "output_type": "execute_result"
    }
   ],
   "source": [
    "electron_nuclear_attraction(my_molecule)"
   ]
  },
  {
   "cell_type": "code",
   "execution_count": 17,
   "id": "47f31544",
   "metadata": {},
   "outputs": [],
   "source": [
    "def electron_electron_repulsion(molecule):\n",
    "    orbitals = [orbital for atom in molecule for orbital in atom.orbitals]\n",
    "    V_matrix = np.zeros((len(orbitals), len(orbitals),len(orbitals), len(orbitals)))\n",
    "    for a, orbital_a in enumerate(orbitals):\n",
    "        for b, orbital_b in enumerate(orbitals):\n",
    "            Rab = np.linalg.norm(orbital_a.R - orbital_b.R)\n",
    "            for c, orbital_c in enumerate(orbitals):\n",
    "                for d, orbital_d in enumerate(orbitals):\n",
    "                    Rcd = np.linalg.norm(orbital_c.R - orbital_d.R)\n",
    "                    for basis_a in orbital_a.basis:\n",
    "                        for basis_b in orbital_b.basis:\n",
    "                            for basis_c in orbital_c.basis:\n",
    "                                for basis_d in orbital_d.basis:\n",
    "                                    norm = basis_a.norm * basis_b.norm * basis_c.norm * basis_d.norm \n",
    "                                    coeff = basis_a.c * basis_b.c * basis_c.c * basis_d.c\n",
    "                                    pab = basis_a.alpha + basis_b.alpha\n",
    "                                    pcd = basis_c.alpha + basis_d.alpha\n",
    "                                    qab = basis_a.alpha * basis_b.alpha / pab\n",
    "                                    qcd = basis_c.alpha * basis_d.alpha / pcd\n",
    "\n",
    "                                    Pab = basis_a.alpha * orbital_a.R + basis_b.alpha * orbital_b.R\n",
    "                                    Pcd = basis_c.alpha * orbital_c.R + basis_d.alpha * orbital_d.R\n",
    "                                    Ppab = Pab/pab\n",
    "                                    Ppcd = Pcd/pcd\n",
    "                                    PpabPpcd = Ppab - Ppcd\n",
    "                                    PpabPpcd2 = np.dot(PpabPpcd, PpabPpcd)/(1.0/pab + 1.0/pcd)\n",
    "\n",
    "                                    # Integral de repulsão eletrônica para orbitais tipo Gaussianos\n",
    "                                    V_integral = norm * coeff * 2.0 * np.pi**2 / (pab * pcd)\n",
    "                                    V_integral *= np.sqrt(np.pi / (pab + pcd))\n",
    "                                    V_integral *= np.exp(-qab * Rab**2 - qcd * Rcd**2)\n",
    "                                    V_matrix[a, b, c, d] +=  V_integral * boys(PpabPpcd2,0)\n",
    "    return V_matrix"
   ]
  },
  {
   "cell_type": "code",
   "execution_count": 18,
   "id": "40916e5c",
   "metadata": {},
   "outputs": [
    {
     "data": {
      "text/plain": [
       "array([[[[0.77460594, 0.44410766],\n",
       "         [0.44410766, 0.56967593]],\n",
       "\n",
       "        [[0.44410766, 0.29702854],\n",
       "         [0.29702854, 0.44410766]]],\n",
       "\n",
       "\n",
       "       [[[0.44410766, 0.29702854],\n",
       "         [0.29702854, 0.44410766]],\n",
       "\n",
       "        [[0.56967593, 0.44410766],\n",
       "         [0.44410766, 0.77460594]]]])"
      ]
     },
     "execution_count": 18,
     "metadata": {},
     "output_type": "execute_result"
    }
   ],
   "source": [
    "electron_electron_repulsion(my_molecule)"
   ]
  },
  {
   "cell_type": "code",
   "execution_count": 19,
   "id": "c00683ef",
   "metadata": {},
   "outputs": [],
   "source": [
    "def nuclear_nuclear_repulsion(molecule):\n",
    "    # Calcula a repulsão nuclear entre os núcleos dos átomos na molécula\n",
    "    V = 0.0\n",
    "    for a in range(len(molecule)):\n",
    "        for b in range(a + 1, len(molecule)):\n",
    "            R = np.linalg.norm(molecule[a].R - molecule[b].R)\n",
    "            V += molecule[a].Z * molecule[b].Z / R\n",
    "    return V"
   ]
  },
  {
   "cell_type": "code",
   "execution_count": 20,
   "id": "a2f20cab",
   "metadata": {},
   "outputs": [
    {
     "data": {
      "text/plain": [
       "np.float64(0.7142857142857143)"
      ]
     },
     "execution_count": 20,
     "metadata": {},
     "output_type": "execute_result"
    }
   ],
   "source": [
    "nuclear_nuclear_repulsion(my_molecule)"
   ]
  },
  {
   "cell_type": "code",
   "execution_count": 21,
   "id": "1beda821",
   "metadata": {},
   "outputs": [],
   "source": [
    "def compute_G(density_matrix, Vee):\n",
    "    nbasis = density_matrix.shape[0]\n",
    "    G = np.zeros((nbasis, nbasis))\n",
    "    for a in range(nbasis):\n",
    "        for b in range(nbasis):\n",
    "            for c in range(nbasis):\n",
    "                for d in range(nbasis):\n",
    "                    rho = density_matrix[c, d]\n",
    "                    J = Vee[a, b, c, d]\n",
    "                    K = Vee[a, d, b, c]\n",
    "                    G[a, b] += rho * (J - 0.5 * K)\n",
    "    return G\n",
    "\n",
    "def compute_density_matrix(mos):\n",
    "    nbasis_functions = mos.shape[0]\n",
    "    density_matrix = np.zeros((nbasis_functions, nbasis_functions))\n",
    "    # D = occ * C * C^T\n",
    "    for i in range(nbasis_functions):\n",
    "        for j in range(nbasis_functions):\n",
    "            density_matrix[i, j] += 2 * mos[i] * mos[j]  # Assuming all orbitals are doubly occupied\n",
    "    return density_matrix"
   ]
  },
  {
   "cell_type": "code",
   "execution_count": null,
   "id": "d6b85f48",
   "metadata": {},
   "outputs": [],
   "source": [
    "def scf(molecule, max_iter=100, tol=1e-6):\n",
    "    S = overlap(molecule)\n",
    "    T = kinetic(molecule)\n",
    "    Ven = electron_nuclear_attraction(molecule)\n",
    "    Vee = electron_electron_repulsion(molecule)\n",
    "    Vnn = nuclear_nuclear_repulsion(molecule)\n",
    "\n",
    "    # Inicializa a matriz de coeficientes\n",
    "    D = np.zeros(S.shape)\n",
    "\n",
    "    # 1. Entra no loop de iteração para o método SCF\n",
    "    for _ in range(max_iter):\n",
    "\n",
    "        # 2. Calcula a matriz Fock\n",
    "        G = compute_G(D,Vee)\n",
    "        F = T + Ven + G\n",
    "\n",
    "        # 3. Resolve o problema de autovalores\n",
    "        S_inv = linalg.inv(S)\n",
    "        S_inv_half = linalg.sqrtm(S_inv)\n",
    "        # transforma matriz de Fock para a base ortonormal\n",
    "        F_ortho = np.dot(S_inv_half, np.dot(F, S_inv_half))\n",
    "        # Resolve o problema de autovalores na base ortonormal\n",
    "        eigvals, eigvecs = linalg.eigh(F_ortho)\n",
    "        # Calcula orbitais moleculares na base original\n",
    "        mos = np.dot(S_inv_half, eigvecs)\n",
    "\n",
    "        # 4. Forma a nova matriz de densidade\n",
    "        D_new = compute_density_matrix(mos[:,0])\n",
    "\n",
    "        # 5. Verifica a convergência\n",
    "        if np.linalg.norm(D_new - D) < tol:\n",
    "            break\n",
    "\n",
    "        D = D_new\n",
    "\n",
    "    E_total = np.trace(np.dot(D, F-0.5*G)) + Vnn\n",
    "    return E_total, D"
   ]
  },
  {
   "cell_type": "code",
   "execution_count": 23,
   "id": "0626350d",
   "metadata": {},
   "outputs": [],
   "source": [
    "Ha = H_atom(R=[0.0, 0.0, 0.0])\n",
    "Hb = H_atom(R=[1.4, 0.0, 0.0])\n",
    "\n",
    "Ha.set_basis_set('STO-2G')\n",
    "Hb.set_basis_set('STO-2G')\n",
    "\n",
    "my_molecule = [Ha, Hb]\n",
    "\n",
    "Rarray = np.arange(0.5, 5.0, 0.005)\n",
    "Earray_2G = np.zeros_like(Rarray)\n",
    "\n",
    "for i, R in enumerate(Rarray):\n",
    "    Ha.R = np.array([0.0, 0.0, 0.0])\n",
    "    Hb.R = np.array([R, 0.0, 0.0])\n",
    "    \n",
    "    scf_energy, density_matrix = scf(my_molecule)\n",
    "    Earray_2G[i] = scf_energy"
   ]
  },
  {
   "cell_type": "code",
   "execution_count": 24,
   "id": "646e4f13",
   "metadata": {},
   "outputs": [
    {
     "data": {
      "text/plain": [
       "Text(0.5, 1.0, 'Energia da molécula de H2')"
      ]
     },
     "execution_count": 24,
     "metadata": {},
     "output_type": "execute_result"
    },
    {
     "data": {
      "image/png": "[encoded data removed]",
      "text/plain": [
       "<Figure size 640x480 with 1 Axes>"
      ]
     },
     "metadata": {},
     "output_type": "display_data"
    }
   ],
   "source": [
    "plt.plot(Rarray, Earray_2G, label = 'STO-2G')\n",
    "plt.legend(loc='upper right')\n",
    "plt.xlabel('R')\n",
    "plt.ylabel('E') \n",
    "plt.title('Energia da molécula de H2')"
   ]
  },
  {
   "cell_type": "code",
   "execution_count": 25,
   "id": "5f240ee4",
   "metadata": {},
   "outputs": [],
   "source": [
    "Ha = H_atom(R=[0.0, 0.0, 0.0])\n",
    "Hb = H_atom(R=[1.4, 0.0, 0.0])\n",
    "\n",
    "Ha.set_basis_set('STO-3G')\n",
    "Hb.set_basis_set('STO-3G')\n",
    "\n",
    "my_molecule = [Ha, Hb]\n",
    "\n",
    "Earray_3G = np.zeros_like(Rarray)\n",
    "\n",
    "for i, R in enumerate(Rarray):\n",
    "    Ha.R = np.array([0.0, 0.0, 0.0])\n",
    "    Hb.R = np.array([R, 0.0, 0.0])\n",
    "    \n",
    "    scf_energy, density_matrix = scf(my_molecule)\n",
    "    Earray_3G[i] = scf_energy"
   ]
  },
  {
   "cell_type": "code",
   "execution_count": 26,
   "id": "c58c1ea1",
   "metadata": {},
   "outputs": [
    {
     "data": {
      "text/plain": [
       "Text(0.5, 1.0, 'Energia da molécula de H2')"
      ]
     },
     "execution_count": 26,
     "metadata": {},
     "output_type": "execute_result"
    },
    {
     "data": {
      "image/png": "[encoded data removed]",
      "text/plain": [
       "<Figure size 640x480 with 1 Axes>"
      ]
     },
     "metadata": {},
     "output_type": "display_data"
    }
   ],
   "source": [
    "plt.plot(Rarray, Earray_2G, label = 'STO-2G')\n",
    "plt.plot(Rarray, Earray_3G, label = 'STO-3G')\n",
    "plt.legend(loc='upper right')\n",
    "plt.xlabel('R')\n",
    "plt.ylabel('E') \n",
    "plt.title('Energia da molécula de H2')"
   ]
  },
  {
   "cell_type": "code",
   "execution_count": 27,
   "id": "d188a565",
   "metadata": {},
   "outputs": [],
   "source": [
    "Ha = H_atom(R=[0.0, 0.0, 0.0])\n",
    "Hb = H_atom(R=[1.4, 0.0, 0.0])\n",
    "\n",
    "Ha.set_basis_set('STO-6G')\n",
    "Hb.set_basis_set('STO-6G')\n",
    "\n",
    "my_molecule = [Ha, Hb]\n",
    "\n",
    "Earray_6G = np.zeros_like(Rarray)\n",
    "\n",
    "for i, R in enumerate(Rarray):\n",
    "    Ha.R = np.array([0.0, 0.0, 0.0])\n",
    "    Hb.R = np.array([R, 0.0, 0.0])\n",
    "    \n",
    "    scf_energy, density_matrix = scf(my_molecule)\n",
    "    Earray_6G[i] = scf_energy"
   ]
  },
  {
   "cell_type": "code",
   "execution_count": 28,
   "id": "afffd93b",
   "metadata": {},
   "outputs": [
    {
     "data": {
      "text/plain": [
       "Text(0.5, 1.0, 'Energia da molécula de H2')"
      ]
     },
     "execution_count": 28,
     "metadata": {},
     "output_type": "execute_result"
    },
    {
     "data": {
      "image/png": "[encoded data removed]",
      "text/plain": [
       "<Figure size 640x480 with 1 Axes>"
      ]
     },
     "metadata": {},
     "output_type": "display_data"
    }
   ],
   "source": [
    "plt.plot(Rarray, Earray_2G, label = 'STO-2G')\n",
    "plt.plot(Rarray, Earray_3G, label = 'STO-3G')\n",
    "plt.plot(Rarray, Earray_6G, label = 'STO-6G')\n",
    "plt.legend(loc='upper right')\n",
    "plt.xlabel('R')\n",
    "plt.ylabel('E') \n",
    "plt.title('Energia da molécula de H2')"
   ]
  },
  {
   "cell_type": "code",
   "execution_count": 29,
   "id": "bcc7f0e4",
   "metadata": {},
   "outputs": [],
   "source": [
    "Basislist = ['STO-2G', 'STO-3G', 'STO-6G']\n",
    "Energylist = [Earray_2G, Earray_3G, Earray_6G]"
   ]
  },
  {
   "cell_type": "code",
   "execution_count": 30,
   "id": "0c7055dc",
   "metadata": {},
   "outputs": [
    {
     "name": "stdout",
     "output_type": "stream",
     "text": [
      "Minimum energy for STO-2G: -1.094 at R = 1.435\n",
      "Minimum energy for STO-3G: -1.117 at R = 1.430\n",
      "Minimum energy for STO-6G: -1.126 at R = 1.425\n"
     ]
    }
   ],
   "source": [
    "for i, basis in enumerate(Basislist):\n",
    "    print(f\"Minimum energy for {basis}: {Energylist[i].min():.3f} at R = {Rarray[Energylist[i].argmin()]:.3f}\")"
   ]
  },
  {
   "cell_type": "code",
   "execution_count": null,
   "id": "b7fde7be",
   "metadata": {},
   "outputs": [],
   "source": []
  }
 ],
 "metadata": {
  "kernelspec": {
   "display_name": "Python 3",
   "language": "python",
   "name": "python3"
  },
  "language_info": {
   "codemirror_mode": {
    "name": "ipython",
    "version": 3
   },
   "file_extension": ".py",
   "mimetype": "text/x-python",
   "name": "python",
   "nbconvert_exporter": "python",
   "pygments_lexer": "ipython3",
   "version": "3.13.5"
  }
 },
 "nbformat": 4,
 "nbformat_minor": 5
}
