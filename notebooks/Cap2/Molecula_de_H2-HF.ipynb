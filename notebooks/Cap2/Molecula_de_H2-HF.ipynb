{
 "cells": [
  {
   "cell_type": "markdown",
   "id": "71c14d58",
   "metadata": {},
   "source": [
    "# Método de Hartree-Fock para a Molécula de H<sub>2</sub>\n",
    "\n",
    "Autor: [Prof. Elvis do A. Soares](https://github.com/elvissoares) \n",
    "\n",
    "Contato: [elvis@peq.coppe.ufrj.br](mailto:elvis@peq.coppe.ufrj.br) - [Programa de Engenharia Química, PEQ/COPPE, UFRJ, Brasil](https://www.peq.coppe.ufrj.br/)\n",
    "\n",
    "---"
   ]
  },
  {
   "cell_type": "markdown",
   "id": "90835206",
   "metadata": {},
   "source": [
    "## Função de Onda \n",
    "\n",
    "A função de onda molecular do $H_2$ é dada por \n",
    "\n",
    "$$ \\psi(\\boldsymbol{r}_1,\\boldsymbol{r}_2) = \\psi(\\boldsymbol{r}_1)\\psi(\\boldsymbol{r}_2)$$\n",
    "\n",
    "com a função de onda de 1 elétron dada por \n",
    "\n",
    "$$\\psi(\\boldsymbol{r}) = c_A \\phi_A(\\boldsymbol{r}) + c_B \\phi_B(\\boldsymbol{r})$$\n",
    "\n",
    "com $A$ e $B$ representando cada núcleo de $H$, e as funções de onda atômicas $\\phi_i$ sendo escritas como orbitais de Slater na forma \n",
    "\n",
    "$$\\phi_i(\\boldsymbol{r}) = \\left(\\frac{\\zeta^3}{\\pi}\\right)^{1/2} e^{-\\zeta |\\boldsymbol{r}-\\boldsymbol{R}_i|}$$\n",
    "\n",
    "sendo $\\boldsymbol{R}_i$ a posição do núcleo de $H$ e $\\zeta$ o parâmetro variacional. \n",
    "\n",
    "Como solução das equações de Hartree-Fock, e devido a simetria do sistema, temos as seguintes funções de onda para 1 elétron\n",
    "\n",
    "$$\\psi_\\pm(\\boldsymbol{r}) = \\frac{1}{\\sqrt{2(1\\pm S)}} \\left[\\phi_A(\\boldsymbol{r}) \\pm  \\phi_B(\\boldsymbol{r})\\right]$$\n",
    "\n",
    "onde $S$ é o overlap dado por \n",
    "\n",
    "$$S = \\int \\phi_A^*(\\boldsymbol{r})\\phi_B(\\boldsymbol{r})\\ \\text{d}\\boldsymbol{r} = e^{-w}(1+w+w^2/3)$$\n"
   ]
  },
  {
   "cell_type": "code",
   "execution_count": 1,
   "id": "ea10f40b",
   "metadata": {},
   "outputs": [],
   "source": [
    "import numpy as np\n",
    "import matplotlib.pyplot as plt\n",
    "from scipy.special import exp1\n",
    "\n",
    "# import scienceplots\n",
    "# plt.style.use(['notebook'])"
   ]
  },
  {
   "cell_type": "code",
   "execution_count": 2,
   "id": "70b1372c",
   "metadata": {},
   "outputs": [],
   "source": [
    "# overlap\n",
    "def S(w):\n",
    "    return np.exp(-w)*(1+w+w**2/3)\n",
    "\n",
    "# Define a constant zeta\n",
    "zeta = 1.193\n",
    "\n",
    "def distance(x, y):\n",
    "    return np.sqrt(x ** 2 + y ** 2)"
   ]
  },
  {
   "cell_type": "code",
   "execution_count": 3,
   "id": "f6df2ac3",
   "metadata": {},
   "outputs": [],
   "source": [
    "from ipywidgets import interact, FloatSlider\n",
    "\n",
    "# Function to plot the 2D and 1D psi wave function\n",
    "def plot_psi(R):\n",
    "    # Define the range of positions in x and y direction\n",
    "    d = 3.0\n",
    "    x = np.linspace(-d, d, 300)\n",
    "    y = np.linspace(-d, d, 300)\n",
    "    \n",
    "    # Create a grid of positions using meshgrid\n",
    "    X, Y = np.meshgrid(x, y)\n",
    "    \n",
    "    # Calculate distances from the two nuclei\n",
    "    ra = distance(X - R / 2, Y)  # Distance from nucleus 1\n",
    "    rb = distance(X + R / 2, Y)  # Distance from nucleus 2\n",
    "    \n",
    "    # Calculate the 2D psi using given formulas\n",
    "    Z = np.sqrt(zeta**3 / (np.pi * (1 + S(R)))) * (np.exp(-zeta * ra) + np.exp(-zeta * rb)) \n",
    "    \n",
    "    # Plot the 2D psi as a filled contour plot\n",
    "    plt.figure(figsize=(10, 5))\n",
    "    plt.subplot(1, 2, 1)\n",
    "    cf = plt.contourf(X, Y, Z, cmap='Blues')\n",
    "    plt.title(rf'Função de Onda em 2D para $R/a_0$ = {R:.2f}', fontsize=12)\n",
    "    cbar = plt.colorbar(cf)\n",
    "    cbar.set_label(r'$\\psi_+(x,y)$')\n",
    "    cbar.ax.tick_params()\n",
    "    plt.scatter([-R/2, R/2], [0, 0],marker='+', color='k')\n",
    "    plt.xlabel(r'$x/a_0$')\n",
    "    plt.ylabel(r'$y/a_0$')\n",
    "    plt.tick_params(axis='both', which='major')\n",
    "    \n",
    "    # Calculate 1D psi along the x-axis\n",
    "    ra_1d = distance(x - R / 2, 0)  # Distance from nucleus 1 in 1D\n",
    "    rb_1d = distance(x + R / 2, 0)  # Distance from nucleus 2 in 1D\n",
    "    psi_1d = np.sqrt(zeta**3 / (np.pi * (1 + S(R)))) * (np.exp(-zeta * ra_1d) + np.exp(-zeta * rb_1d)) \n",
    "    \n",
    "    # Plot the 1D psi along the x-axis\n",
    "    plt.subplot(1, 2, 2)\n",
    "    plt.plot(x, psi_1d, linewidth=2)\n",
    "\n",
    "    plt.plot(x,np.sqrt(zeta**3/np.pi) * np.exp(-2* zeta* ra_1d),':', color='gray')\n",
    "    plt.plot(x,np.sqrt(zeta**3/np.pi) * np.exp(-2 * zeta* rb_1d),':', color='gray')\n",
    "    \n",
    "    # Add vertical lines at the two maxima\n",
    "    offset = 0.1\n",
    "    plt.axvline(-R/2, color='k', linestyle='--', linewidth=1)\n",
    "    plt.axvline(R/2, color='k', linestyle='--', linewidth=1)\n",
    "    \n",
    "    # Add labels to the vertical lines\n",
    "    plt.text(-R/2 - offset, np.max(psi_1d) * 0.1, f'$x$ = {-R/2:.2f}', color='k', fontsize=12, ha='right')  \n",
    "    plt.text(R/2 + offset, np.max(psi_1d) * 0.1, f'$x$ = {R/2:.2f}', color='k', fontsize=12, ha='left')  \n",
    "    \n",
    "    # Customize the 1D plot\n",
    "    plt.title('Função de Onda em 1D para $y$ = 0', fontsize=12)\n",
    "    plt.xlabel(r'$x/a_0$')\n",
    "    # plt.ylim(0,0.5)\n",
    "    plt.xlim(-d, d)\n",
    "    plt.tick_params(axis='both', which='major')\n",
    "    \n",
    "    # Adjust layout and display the plots\n",
    "    plt.tight_layout()\n",
    "    plt.show()"
   ]
  },
  {
   "cell_type": "code",
   "execution_count": null,
   "id": "64093f65",
   "metadata": {},
   "outputs": [
    {
     "data": {
      "application/vnd.jupyter.widget-view+json": {
       "model_id": "5742627a8d734251bfdaeef4cffde1ab",
       "version_major": 2,
       "version_minor": 0
      },
      "text/plain": [
       "interactive(children=(FloatSlider(value=1.385, description='R/a0', max=5.0), Output()), _dom_classes=('widget-…"
      ]
     },
     "metadata": {},
     "output_type": "display_data"
    },
    {
     "data": {
      "text/plain": [
       "<function __main__.plot_psi(R)>"
      ]
     },
     "execution_count": 4,
     "metadata": {},
     "output_type": "execute_result"
    }
   ],
   "source": [
    "# Create an interactive slider for adjusting the parameter R\n",
    "interact(plot_psi, R=FloatSlider(min=0, max=5, step=0.02, value=1.385, description='R/a0'))"
   ]
  },
  {
   "cell_type": "markdown",
   "id": "fa39a4e8",
   "metadata": {},
   "source": [
    "## Densidade Eletrônica\n",
    "\n",
    "Nesse caso temos como densidade eletrônica \n",
    "\n",
    "$$\\rho(\\boldsymbol{r}) = 2 |\\psi(\\boldsymbol{r})|^2$$"
   ]
  },
  {
   "cell_type": "code",
   "execution_count": 5,
   "id": "4c87009c",
   "metadata": {},
   "outputs": [],
   "source": [
    "# Function to plot the 2D and 1D density\n",
    "def plot_rho(R):\n",
    "    # Define the range of positions in x and y direction\n",
    "    d = 3.0\n",
    "    x = np.linspace(-d, d, 300)\n",
    "    y = np.linspace(-d, d, 300)\n",
    "    \n",
    "    # Create a grid of positions using meshgrid\n",
    "    X, Y = np.meshgrid(x, y)\n",
    "    \n",
    "    # Calculate distances from the two nuclei\n",
    "    ra = distance(X - R / 2, Y)  # Distance from nucleus 1\n",
    "    rb = distance(X + R / 2, Y)  # Distance from nucleus 2\n",
    "    \n",
    "    # Calculate the 2D density using given formulas\n",
    "    Z = 2*(zeta**3 / (np.pi * (1 + S(R)))) * (np.exp(-zeta * ra) + np.exp(-zeta * rb)) ** 2\n",
    "    \n",
    "    # Plot the 2D density as a filled contour plot\n",
    "    plt.figure(figsize=(10, 5))\n",
    "    plt.subplot(1, 2, 1)\n",
    "    cf = plt.contourf(X, Y, Z, cmap='Blues')\n",
    "    plt.title(rf'Densidade em 2D para $R/a_0$ = {R:.2f}', fontsize=12)\n",
    "    cbar = plt.colorbar(cf)\n",
    "    cbar.set_label(r'$\\rho(x,y)$')\n",
    "    cbar.ax.tick_params()\n",
    "    plt.scatter([-R/2, R/2], [0, 0],marker='+', color='k')\n",
    "    plt.xlabel(r'$x/a_0$')\n",
    "    plt.ylabel(r'$y/a_0$')\n",
    "    plt.tick_params(axis='both', which='major')\n",
    "    \n",
    "    # Calculate 1D density along the x-axis\n",
    "    ra_1d = distance(x - R / 2, 0)  # Distance from nucleus 1 in 1D\n",
    "    rb_1d = distance(x + R / 2, 0)  # Distance from nucleus 2 in 1D\n",
    "    density_1d = 2*(zeta**3 / (np.pi * (1 + S(R)))) * (np.exp(-zeta * ra_1d) + np.exp(-zeta * rb_1d)) ** 2\n",
    "    \n",
    "    # Plot the 1D density along the x-axis\n",
    "    plt.subplot(1, 2, 2)\n",
    "    plt.plot(x, density_1d, linewidth=2)\n",
    "\n",
    "    plt.plot(x,2*(zeta**3/np.pi) * np.exp(-2* zeta* ra_1d),':', color='gray')\n",
    "    plt.plot(x,2*(zeta**3/np.pi) * np.exp(-2 * zeta* rb_1d),':', color='gray')\n",
    "    \n",
    "    # Add vertical lines at the two maxima\n",
    "    offset = 0.1\n",
    "    plt.axvline(-R/2, color='k', linestyle='--', linewidth=1)\n",
    "    plt.axvline(R/2, color='k', linestyle='--', linewidth=1)\n",
    "    \n",
    "    # Add labels to the vertical lines\n",
    "    plt.text(-R/2 - offset, np.max(density_1d) * 0.1, f'$x$ = {-R/2:.2f}', color='k', fontsize=12, ha='right')  \n",
    "    plt.text(R/2 + offset, np.max(density_1d) * 0.1, f'$x$ = {R/2:.2f}', color='k', fontsize=12, ha='left')  \n",
    "    \n",
    "    # Customize the 1D density plot\n",
    "    plt.title('Densidade em 1D para $y$ = 0', fontsize=12)\n",
    "    plt.xlabel(r'$x/a_0$')\n",
    "    # plt.ylim(0,0.5)\n",
    "    plt.xlim(-d, d)\n",
    "    plt.tick_params(axis='both', which='major')\n",
    "    \n",
    "    # Adjust layout and display the plots\n",
    "    plt.tight_layout()\n",
    "    plt.show()"
   ]
  },
  {
   "cell_type": "code",
   "execution_count": null,
   "id": "1af4f48d",
   "metadata": {},
   "outputs": [
    {
     "data": {
      "application/vnd.jupyter.widget-view+json": {
       "model_id": "d69c5639c8994c0d8542f917c905ee6c",
       "version_major": 2,
       "version_minor": 0
      },
      "text/plain": [
       "interactive(children=(FloatSlider(value=1.385, description='R/a0', max=5.0, step=0.02), Output()), _dom_classe…"
      ]
     },
     "metadata": {},
     "output_type": "display_data"
    },
    {
     "data": {
      "text/plain": [
       "<function __main__.plot_rho(R)>"
      ]
     },
     "execution_count": 46,
     "metadata": {},
     "output_type": "execute_result"
    }
   ],
   "source": [
    "# Create an interactive slider for adjusting the parameter R\n",
    "interact(plot_rho, R=FloatSlider(min=0, max=5, step=0.02, value=1.385, description='R/a0'))"
   ]
  },
  {
   "cell_type": "markdown",
   "id": "308731e4",
   "metadata": {},
   "source": [
    "## Cálculo de Energia\n",
    "\n",
    "Para cada estado de orbital molecular $\\psi_\\pm$, a energia será dada por \n",
    "$$E_\\pm = \\frac{F_{AA}\\pm F_{AB}}{1\\pm S} $$\n",
    "com $F_{ij} = 2 H_{ij} + G_{ij}$ sendo os elementos da matriz de Fock, com\n",
    "$$ \n",
    "\\begin{align}\n",
    "    H_{ij} = H_{ji} = \\Biggl\\langle \\phi_i(\\boldsymbol{r}_1)\\Biggl |-\\frac{1}{2}\\nabla_1^2 - \\frac{1}{|\\boldsymbol{r}_1-\\boldsymbol{R}_A|}- \\frac{1}{|\\boldsymbol{r}_1-\\boldsymbol{R}_B|}\\Biggr|\\phi_j(\\boldsymbol{r}_1) \\Biggr \\rangle\n",
    "\\end{align}\n",
    "$$\n",
    "e\n",
    "$$\n",
    "\\begin{align}\n",
    "    G_{ij} = G_{ji} =\\ & \\frac{1}{c_A^2 + 2 c_A c_B S_{ab}+ c_B^2} \\left\\{c_A^2 \\Biggl\\langle \\phi_i(\\boldsymbol{r}_1)\\phi_A(\\boldsymbol{r}_2)\\Biggl |\\frac{1}{|\\boldsymbol{r}_1-\\boldsymbol{r}_2|} \\Biggr|\\phi_j(\\boldsymbol{r}_1)\\phi_A(\\boldsymbol{r}_2) \\Biggr \\rangle \\right. \\nonumber \\\\\n",
    "    &+ c_A c_B  \\Biggl\\langle \\phi_i(\\boldsymbol{r}_1)\\phi_A(\\boldsymbol{r}_2)\\Biggl |\\frac{1}{|\\boldsymbol{r}_1-\\boldsymbol{r}_2|} \\Biggr|\\phi_j(\\boldsymbol{r}_1)\\phi_B(\\boldsymbol{r}_2) \\Biggr \\rangle \\nonumber \\\\\n",
    "    &+ c_A c_B  \\Biggl\\langle \\phi_i(\\boldsymbol{r}_1)\\phi_B(\\boldsymbol{r}_2)\\Biggl |\\frac{1}{|\\boldsymbol{r}_1-\\boldsymbol{r}_2|} \\Biggr|\\phi_j(\\boldsymbol{r}_1)\\phi_A(\\boldsymbol{r}_2) \\Biggr \\rangle \\nonumber \\\\\n",
    "    &\\left.+ c_B^2 \\Biggl\\langle \\phi_i(\\boldsymbol{r}_1)\\phi_B(\\boldsymbol{r}_2)\\Biggl |\\frac{1}{|\\boldsymbol{r}_1-\\boldsymbol{r}_2|} \\Biggr|\\phi_j(\\boldsymbol{r}_1)\\phi_B(\\boldsymbol{r}_2) \\Biggr \\rangle \\right\\}\n",
    "\\end{align}\n",
    "$$\n",
    "\n",
    "Além disso, devemos adicionar a energia de repulsão entre os núcleos de H de modo que  \n",
    "$$E_\\pm = \\frac{F_{AA}\\pm F_{AB}}{1\\pm S} +  \\frac{1}{|\\boldsymbol{R}_A-\\boldsymbol{R}_B|}$$"
   ]
  },
  {
   "cell_type": "code",
   "execution_count": 7,
   "id": "89a2bc75",
   "metadata": {},
   "outputs": [],
   "source": [
    "# funções auxiliares\n",
    "def J(w):\n",
    "    return np.exp(-2*w)*(1+1/w)-1/w\n",
    "\n",
    "def K(w):\n",
    "    return -np.exp(-w)*(1+w)\n",
    "\n",
    "def Jp(w):\n",
    "    return (1/w)*(1-np.exp(-2*w)*(1+11*w/8+3*w**2/4+w**3/6))\n",
    "\n",
    "def L(w):\n",
    "    return np.exp(-w)*(w+1/8+5/(16*w))-np.exp(-3*w)*(1/8+5/(16*w))\n",
    "\n",
    "def Sp(w):\n",
    "    return np.exp(w)*(1-w+w**2/3)\n",
    "\n",
    "def Kp(w):\n",
    "    return 0.2*(np.exp(-2*w)*(25/8-23*w/4-3*w**2-w**3/3)+(6/w)*(S(w)**2*(np.euler_gamma+np.log(w))-Sp(w)**2*exp1(4*w)+2*S(w)*Sp(w)*exp1(2*w)))"
   ]
  },
  {
   "cell_type": "code",
   "execution_count": 8,
   "id": "26c40612",
   "metadata": {},
   "outputs": [
    {
     "name": "stdout",
     "output_type": "stream",
     "text": [
      "w      S          J          K          Jp         L          Kp        \n",
      "0.0   1.000000  -1.000000  -1.000000   0.625000   0.625000   0.625000\n",
      "1.0   0.858385  -0.729329  -0.735759   0.554521   0.507045   0.436652\n",
      "1.5   0.725173  -0.583688  -0.557825   0.490337   0.405369   0.296835\n",
      "2.0   0.586453  -0.472527  -0.406006   0.425974   0.308036   0.184156\n",
      "2.5   0.458308  -0.390567  -0.287297   0.368388   0.225595   0.106622\n",
      "3.0   0.348509  -0.330028  -0.199148   0.319803   0.160742   0.058508\n",
      "3.5   0.259194  -0.284542  -0.135888   0.279944   0.112156   0.030766\n",
      "5.0   0.096577  -0.199946  -0.040428   0.199569   0.034953   0.003717\n",
      "7.0   0.022189  -0.142856  -0.007295   0.142845   0.006538   0.000168\n"
     ]
    }
   ],
   "source": [
    "warray = np.array([0.00001,1,1.5,2.0,2.5,3.0,3.5,5.0,7.0])\n",
    "\n",
    "print(f'{\"w\":6} {\"S\":10} {\"J\":10} {\"K\":10} {\"Jp\":10} {\"L\":10} {\"Kp\":10}')\n",
    "for w in warray:\n",
    "    print(f'{w:1.1f} {S(w):10.6f} {J(w):10.6f} {K(w):10.6f} {Jp(w):10.6f} {L(w):10.6f} {Kp(w):10.6f}')\n",
    "\n",
    "#conferido com https://pubs.acs.org/doi/abs/10.1021/ed048p494 (Table 1)"
   ]
  },
  {
   "cell_type": "code",
   "execution_count": 20,
   "id": "ac91f1a1",
   "metadata": {},
   "outputs": [],
   "source": [
    "# Elementos de Matriz do Hamiltoniano\n",
    "def H_AA(zeta,R):\n",
    "    w = zeta*R\n",
    "    return zeta**2/2-zeta+zeta*J(w)\n",
    "\n",
    "def H_AB(zeta,R):\n",
    "    w = zeta*R\n",
    "    return -zeta**2*(S(w)/2+K(w))+2*zeta*K(w)\n",
    "\n",
    "def G_AA(zeta,R,cA,cB):\n",
    "    w = zeta*R\n",
    "    return (cA**2*(5*zeta/8)+2*cA*cB*zeta*L(w)+cB**2*zeta*Jp(w))/(cA**2+2*cA*cB*S(w)+cB**2)\n",
    "\n",
    "def G_AB(zeta,R,cA,cB):\n",
    "    w = zeta*R\n",
    "    return ((cA**2+cB**2)*zeta*L(w)+2*cA*cB*zeta*Kp(w))/(cA**2+2*cA*cB*S(w)+cB**2)"
   ]
  },
  {
   "cell_type": "code",
   "execution_count": null,
   "id": "37a0005f",
   "metadata": {},
   "outputs": [
    {
     "name": "stdout",
     "output_type": "stream",
     "text": [
      "w      H_AA       H_AB       G_AA       G_AB      \n",
      "1.0  -1.229329  -1.164952   0.590193   0.507804\n",
      "1.5  -1.083688  -0.920412   0.558227   0.407034\n",
      "2.0  -0.972527  -0.699232   0.525401   0.310247\n",
      "2.5  -0.890567  -0.516451   0.495293   0.227810\n",
      "3.0  -0.830028  -0.373403   0.469514   0.162587\n",
      "3.5  -0.784542  -0.265485   0.448404   0.113502\n",
      "5.0  -0.699946  -0.088716   0.407849   0.035264\n",
      "7.0  -0.642856  -0.018390   0.381984   0.006560\n"
     ]
    }
   ],
   "source": [
    "print(f'{\"w\":6} {\"H_AA\":10} {\"H_AB\":10} {\"G_AA\":10} {\"G_AB\":10}')\n",
    "for w in warray[1:]:\n",
    "    cA = cB = 1/np.sqrt(2*(1+S(w)))\n",
    "    print(f'{w:1.1f} {H_AA(1.0,w):10.6f} {H_AB(1.0,w):10.6f} {G_AA(1.0,w,cA,cB):10.6f} {G_AB(1.0,w,cA,cB):10.6f}')"
   ]
  },
  {
   "cell_type": "code",
   "execution_count": 50,
   "id": "c5a33c63",
   "metadata": {},
   "outputs": [],
   "source": [
    "# Elementos da Matriz de Fock\n",
    "def F_AA(zeta,R,cA,cB):\n",
    "    return 2*H_AA(zeta,R)+G_AA(zeta,R,cA,cB)\n",
    "\n",
    "def F_AB(zeta,R,cA,cB):\n",
    "    return 2*H_AB(zeta,R)+G_AB(zeta,R,cA,cB)"
   ]
  },
  {
   "cell_type": "code",
   "execution_count": 51,
   "id": "6ed63967",
   "metadata": {},
   "outputs": [],
   "source": [
    "def Eplus(zeta,R):\n",
    "    w = zeta*R\n",
    "    cA = cB = 1/np.sqrt(2*(1+S(w)))\n",
    "    return (F_AA(zeta,R,cA,cB)+F_AB(zeta,R,cA,cB))/(1+S(w)) + 1/R\n",
    "\n",
    "def Eminus(zeta,R):\n",
    "    w = zeta*R\n",
    "    cA = 1/np.sqrt(2*(1-S(w)))\n",
    "    cB = -cA\n",
    "    return (F_AA(zeta,R,cA,cB)-F_AB(zeta,R,cA,cB))/(1-S(w))+ 1/R"
   ]
  },
  {
   "cell_type": "code",
   "execution_count": 52,
   "id": "0133fd7c",
   "metadata": {},
   "outputs": [
    {
     "data": {
      "text/plain": [
       "<matplotlib.legend.Legend at 0x7f8987652fd0>"
      ]
     },
     "execution_count": 52,
     "metadata": {},
     "output_type": "execute_result"
    },
    {
     "data": {
      "image/png": "[encoded data removed]",
      "text/plain": [
       "<Figure size 640x480 with 1 Axes>"
      ]
     },
     "metadata": {},
     "output_type": "display_data"
    }
   ],
   "source": [
    "Rarray = np.arange(0.1, 8.0, 0.01)  # Valores de R\n",
    "\n",
    "plt.plot(Rarray, Eplus(1.0,Rarray), label=r'$E_+$')\n",
    "plt.plot(Rarray, Eminus(1.0,Rarray), label=r'$E_-$')\n",
    "\n",
    "plt.xlim(0,8)\n",
    "plt.ylim(-1.5, 0.5)\n",
    "\n",
    "plt.grid()\n",
    "\n",
    "plt.xlabel(r'$R/a_0$')\n",
    "plt.ylabel(r'$E/$Ha')\n",
    "plt.legend()"
   ]
  },
  {
   "cell_type": "markdown",
   "id": "7a317da0",
   "metadata": {},
   "source": [
    "## Minimizando a Energia do Nível Fundamental $\\psi_+$"
   ]
  },
  {
   "cell_type": "code",
   "execution_count": 53,
   "id": "c546df4c",
   "metadata": {},
   "outputs": [
    {
     "data": {
      "text/plain": [
       "array([1.19301753, 1.38543393])"
      ]
     },
     "execution_count": 53,
     "metadata": {},
     "output_type": "execute_result"
    }
   ],
   "source": [
    "x0 = np.array([1.0,1.2])  # Valor inicial para a otimização\n",
    "\n",
    "from scipy.optimize import minimize\n",
    "\n",
    "def Eplus_tominimize(x):\n",
    "    zeta, R = x\n",
    "    return Eplus(zeta, R)\n",
    "\n",
    "res = minimize(Eplus_tominimize, x0, method='Nelder-Mead', tol=1e-8)\n",
    "\n",
    "res.x"
   ]
  },
  {
   "cell_type": "code",
   "execution_count": 54,
   "id": "005be93b",
   "metadata": {},
   "outputs": [
    {
     "data": {
      "text/plain": [
       "<matplotlib.legend.Legend at 0x7f89965b7ed0>"
      ]
     },
     "execution_count": 54,
     "metadata": {},
     "output_type": "execute_result"
    },
    {
     "data": {
      "image/png": "[encoded data removed]",
      "text/plain": [
       "<Figure size 640x480 with 1 Axes>"
      ]
     },
     "metadata": {},
     "output_type": "display_data"
    }
   ],
   "source": [
    "Rarray = np.arange(0.1, 8.0, 0.01)  # Valores de R\n",
    "\n",
    "zetastar = res.x[0]\n",
    "Rstar = res.x[1]\n",
    "\n",
    "plt.plot(Rarray, Eplus(zetastar,Rarray), label=r'$E_+$')\n",
    "plt.plot(Rarray, Eminus(zetastar,Rarray), label=r'$E_-$')\n",
    "\n",
    "plt.scatter(Rstar, Eplus(zetastar,Rstar), color='red', label='Mínimo', zorder=10)\n",
    "\n",
    "plt.xlim(0,8)\n",
    "plt.ylim(-1.5, 0.5)\n",
    "\n",
    "plt.grid()\n",
    "\n",
    "plt.xlabel(r'$R/a_0$')\n",
    "plt.ylabel(r'$E/$Ha')\n",
    "plt.legend()"
   ]
  },
  {
   "cell_type": "code",
   "execution_count": null,
   "id": "47f31544",
   "metadata": {},
   "outputs": [],
   "source": []
  }
 ],
 "metadata": {
  "kernelspec": {
   "display_name": "Python 3",
   "language": "python",
   "name": "python3"
  },
  "language_info": {
   "codemirror_mode": {
    "name": "ipython",
    "version": 3
   },
   "file_extension": ".py",
   "mimetype": "text/x-python",
   "name": "python",
   "nbconvert_exporter": "python",
   "pygments_lexer": "ipython3",
   "version": "3.13.5"
  }
 },
 "nbformat": 4,
 "nbformat_minor": 5
}
